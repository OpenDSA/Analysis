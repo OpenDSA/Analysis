{
 "cells": [
  {
   "cell_type": "markdown",
   "id": "0c25f09a-21e3-4127-81ef-9ab1e933353c",
   "metadata": {},
   "source": [
    "# Important Imports"
   ]
  },
  {
   "cell_type": "code",
   "execution_count": null,
   "id": "f1820919-a2ba-4658-b6a7-393ab790ecf5",
   "metadata": {},
   "outputs": [],
   "source": [
    "# This file is used for both, nutshell (Coarse-grained) and detailed (Fine-grained) creation of the questions and their numbers"
   ]
  },
  {
   "cell_type": "code",
   "execution_count": 15,
   "id": "f07d7250-65dc-45fa-8fd0-6735c60cbf93",
   "metadata": {},
   "outputs": [],
   "source": [
    "import json\n",
    "import os\n",
    "from math import comb\n",
    "from scipy import stats\n",
    "import numpy as np\n",
    "import pandas as pd\n",
    "import seaborn as sns\n",
    "import matplotlib\n",
    "import matplotlib.pyplot as plt\n",
    "%matplotlib inline\n",
    "pd.options.display.min_rows = 25"
   ]
  },
  {
   "cell_type": "code",
   "execution_count": 16,
   "id": "7c159b5d-a8a9-4eb3-8feb-9a6cf871106c",
   "metadata": {
    "tags": []
   },
   "outputs": [
    {
     "data": {
      "text/plain": [
       "127"
      ]
     },
     "execution_count": 16,
     "metadata": {},
     "output_type": "execute_result"
    }
   ],
   "source": [
    "# Count Solutions combinations from n_choices\n",
    "def count_solutions(n_choices):\n",
    "    n_solutions = 0\n",
    "    for i in range(1, n_choices + 1):\n",
    "        n_solutions += comb(n_choices, i)\n",
    "    return n_solutions\n",
    "\n",
    "\n",
    "count_solutions(7)"
   ]
  },
  {
   "cell_type": "markdown",
   "id": "3aad6dfe-ca94-4ac6-b566-8539651039ea",
   "metadata": {},
   "source": [
    "# Parsing JSON File"
   ]
  },
  {
   "cell_type": "markdown",
   "id": "b8c0f7a0-23e8-4093-a726-2cc996f653fa",
   "metadata": {
    "tags": []
   },
   "source": [
    "## Fall 20 and Spring 21"
   ]
  },
  {
   "cell_type": "code",
   "execution_count": 20,
   "id": "bfdc51d8-5fd1-4f0e-9e94-5ff9cc64b8fd",
   "metadata": {
    "tags": []
   },
   "outputs": [],
   "source": [
    "# Create DF that tells the type of each question, and how many questions in it. \n",
    "json_files = [file for file in os.listdir(\"PI_Frames_20_21\")][1:]  # 96 #[1:] because of the \".ipynb_checkpoints\" folder.\n",
    "\n",
    "listt1 = []\n",
    "try:\n",
    "    for filename in json_files:\n",
    "        f = open(\"PI_Frames_20_21/\" + filename, encoding=\"utf8\")\n",
    "        data = json.load(f)\n",
    "        count=0\n",
    "        for questionName in data[\"translations\"][\"en\"]:\n",
    "            if questionName in [\"text11\",\"fa1\"]:  # Skip NonQuestions\n",
    "                continue\n",
    "\n",
    "            n_choices = len(data[\"translations\"][\"en\"][questionName][\"choices\"])  # Get Number of Choices\n",
    "            QuestionType = data[\"translations\"][\"en\"][questionName][\"type\"]  # Get Type of the Questions\n",
    "\n",
    "            if QuestionType == \"multiple\" and data[\"translations\"][\"en\"][questionName][\"answer\"] in [\"True\", \"False\"]:  # Multiple but contains T/F\n",
    "                QuestionType = \"T/F\"\n",
    "                n_solutions, n_choices = 2, 2\n",
    "            elif QuestionType == \"multiple\":\n",
    "                QuestionType = \"Single-Choice\"\n",
    "                n_solutions = n_choices\n",
    "            elif QuestionType == \"select\":\n",
    "                QuestionType = \"Multi-Choice\"\n",
    "                n_solutions = count_solutions(n_choices)\n",
    "            elif QuestionType in [\"true/false\", \"T/F\"]:  # T/F but not named multiple\n",
    "                QuestionType = \"T/F\"\n",
    "                n_solutions, n_choices = 2, 2\n",
    "            else:\n",
    "                print(\"ERROR!!!\")\n",
    "\n",
    "            listt1.append([filename[:-5], count, QuestionType, n_choices, n_solutions])\n",
    "            \n",
    "            count+=1\n",
    "        f.close()\n",
    "\n",
    "except Exception as inst:\n",
    "    print([filename[:-5], questionName, QuestionType, n_choices, n_solutions])\n",
    "    f.close()\n",
    "\n",
    " "
   ]
  },
  {
   "cell_type": "code",
   "execution_count": 21,
   "id": "8f2de369-83ca-481d-b486-6b30ab5fb932",
   "metadata": {},
   "outputs": [],
   "source": [
    "frameset_questions_detailed_20_21 = pd.DataFrame(listt1,columns=[\"frameset_name\", \"question_name\", \"question_type\", \"n_choices\", \"n_solutions\",])\n",
    "frameset_questions_detailed_20_21.to_csv(\"frameset_questions_detailed_20_21.csv\") \n",
    "\n",
    "\n",
    "frameset_questions_nutshell_20_21 = frameset_questions_detailed_20_21.groupby([\"frameset_name\"], as_index=False).agg(\n",
    "    n_questions=(\"frameset_name\", \"count\"),\n",
    ")"
   ]
  },
  {
   "cell_type": "markdown",
   "id": "e58371f3-b274-4f87-bccf-d5899c5dd056",
   "metadata": {
    "tags": []
   },
   "source": [
    "## Spring 22 (Adding Count to Frameset_Questions_Coarse_Grained)"
   ]
  },
  {
   "cell_type": "code",
   "execution_count": null,
   "id": "2f774eac-3007-45e8-bca8-cba64eb50995",
   "metadata": {},
   "outputs": [],
   "source": [
    "json_files = [file for file in os.listdir(\"./Spring_22/PI_Frames_22\")][1:]  # 96 #[1:] because of the \".ipynb_checkpoints\" folder.\n",
    "\n",
    "listt2 = []\n",
    "try:\n",
    "    for filename in json_files:\n",
    "        f = open(\"./Spring_22/PI_Frames_22/\" + filename, encoding=\"utf8\")\n",
    "        data = json.load(f)\n",
    "        count=0\n",
    "        for questionName in data[\"translations\"][\"en\"]:\n",
    "            if questionName in [\"text11\",\"fa1\"]:  # Skip NonQuestions\n",
    "                continue\n",
    "\n",
    "            n_choices = len(data[\"translations\"][\"en\"][questionName][\"choices\"])  # Get Number of Choices\n",
    "            QuestionType = data[\"translations\"][\"en\"][questionName][\"type\"]  # Get Type of the Questions\n",
    "\n",
    "            if QuestionType == \"multiple\" and data[\"translations\"][\"en\"][questionName][\"answer\"] in [\"True\", \"False\"]:  # Multiple but contains T/F\n",
    "                QuestionType = \"T/F\"\n",
    "                n_solutions, n_choices = 2, 2\n",
    "            elif QuestionType == \"multiple\":\n",
    "                QuestionType = \"Single-Choice\"\n",
    "                n_solutions = n_choices\n",
    "            elif QuestionType == \"select\":\n",
    "                QuestionType = \"Multi-Choice\"\n",
    "                n_solutions = count_solutions(n_choices)\n",
    "            elif QuestionType in [\"true/false\", \"T/F\"]:  # T/F but not named multiple\n",
    "                QuestionType = \"T/F\"\n",
    "                n_solutions, n_choices = 2, 2\n",
    "            else:\n",
    "                print(\"ERROR!!!\")\n",
    "\n",
    "            listt2.append([filename[:-5], count, QuestionType, n_choices, n_solutions])\n",
    "            \n",
    "            count+=1\n",
    "        f.close()\n",
    "\n",
    "except Exception as inst:\n",
    "    print([filename[:-5], questionName, QuestionType, n_choices, n_solutions])\n",
    "    f.close()\n",
    "\n",
    "\n"
   ]
  },
  {
   "cell_type": "code",
   "execution_count": 6,
   "id": "12cc2c04-4231-4beb-9c4c-d09bc28355b0",
   "metadata": {},
   "outputs": [],
   "source": [
    "frameset_questions_detailed_22 = pd.DataFrame(listt2,columns=[\"frameset_name\", \"question_name\", \"question_type\", \"n_choices\", \"n_solutions\",])\n",
    "\n",
    "frameset_questions_nutshell_22 = frameset_questions_detailed_22.groupby([\"frameset_name\"], as_index=False).agg(\n",
    "    n_questions_22=(\"frameset_name\", \"count\"),\n",
    ")"
   ]
  },
  {
   "cell_type": "markdown",
   "id": "0e8dd834-0966-46c7-80a4-f62061f5a76f",
   "metadata": {},
   "source": [
    "# Adding Number of Questions to Frameset_Questions_Coarse_Grained.csV "
   ]
  },
  {
   "cell_type": "code",
   "execution_count": 25,
   "id": "7e32e425-afde-441f-88f2-9a3b0ba8db53",
   "metadata": {},
   "outputs": [],
   "source": [
    "# Adding the nuthsell # of questions to the main CSV we have which is Frameset_Questions_Coarse_Grained.csv\n",
    "\n",
    "Frameset_Questions_Coarse_Grained = pd.read_csv('Frameset_Questions_Coarse_Grained.csv')\n",
    "# Frameset_Questions_Coarse_Grained.drop('n_questions_22',axis=1,inplace=True)"
   ]
  },
  {
   "cell_type": "code",
   "execution_count": 26,
   "id": "8afecd3b-fb92-49e8-90c5-2cfe7ca3c14c",
   "metadata": {},
   "outputs": [],
   "source": [
    "# We got the number of questions from the frameset_questions_nutshell_22, and use it to be merged with the main CSV in the next merge command\n",
    "\n",
    "Frameset_Questions_Coarse_Grained = Frameset_Questions_Coarse_Grained.merge(frameset_questions_nutshell_22, left_on=\"frame_name_22\", right_on=\"frameset_name\", how='outer').drop('frameset_name',axis=1)\n",
    "Frameset_Questions_Coarse_Grained.to_csv('Frameset_Questions_Coarse_Grained.csv')"
   ]
  },
  {
   "cell_type": "markdown",
   "id": "5faa5e50-9549-41f7-9eb4-23917e6c5ed6",
   "metadata": {},
   "source": [
    "# Creating a file that contains the detailed information about the questions"
   ]
  },
  {
   "cell_type": "code",
   "execution_count": 28,
   "id": "b9a11d9f-04e8-4b10-9593-3ba256cfdae2",
   "metadata": {},
   "outputs": [],
   "source": [
    "Frameset_Questions_Coarse_Grained['Diff'] = np.where( Frameset_Questions_Coarse_Grained['n_questions_22'] == Frameset_Questions_Coarse_Grained['n_questions'] , 1, 0)"
   ]
  },
  {
   "cell_type": "code",
   "execution_count": 29,
   "id": "d946ede5-e9c1-455f-9654-fe858c91e95d",
   "metadata": {},
   "outputs": [],
   "source": [
    "unchanged_framesets = Frameset_Questions_Coarse_Grained[Frameset_Questions_Coarse_Grained['Diff']==1]['frame_name'].tolist()\n",
    "changed_framesets = Frameset_Questions_Coarse_Grained[Frameset_Questions_Coarse_Grained['Diff']==0]['frame_name'].tolist()"
   ]
  },
  {
   "cell_type": "code",
   "execution_count": 36,
   "id": "0deff586-3714-42d8-b396-f9f796f343a1",
   "metadata": {},
   "outputs": [],
   "source": [
    "frameset_questions_detailed_20_21 = frameset_questions_detailed_20_21[frameset_questions_detailed_20_21['frameset_name'].isin(changed_framesets)]"
   ]
  },
  {
   "cell_type": "code",
   "execution_count": 42,
   "id": "0a57ce8e-720b-46d4-a386-c283d6af2469",
   "metadata": {},
   "outputs": [],
   "source": [
    "frameset_questions_detailed = pd.concat([frameset_questions_detailed_20_21, frameset_questions_detailed_22])\n"
   ]
  },
  {
   "cell_type": "code",
   "execution_count": 44,
   "id": "7bffb5a9-e92d-4b3d-8b77-9e06aa8bf4c7",
   "metadata": {},
   "outputs": [],
   "source": [
    "frameset_questions_detailed.to_csv(\"Frameset_Questions_Detailed.csv\")"
   ]
  },
  {
   "cell_type": "markdown",
   "id": "82a7d08b-4b20-4960-a608-885e355555d2",
   "metadata": {
    "tags": []
   },
   "source": [
    "# Relation Btwn (Credit-Seeking) and (N_Questions and N_Solutions)"
   ]
  },
  {
   "cell_type": "markdown",
   "id": "db558d33-a8cd-49a0-84d2-ed1aa8e4c4c3",
   "metadata": {},
   "source": [
    "## Plots from \"Framesets_Info.csv\""
   ]
  },
  {
   "cell_type": "code",
   "execution_count": 7,
   "id": "84e2634c-3382-42ef-bd7b-dbc427bd5aad",
   "metadata": {},
   "outputs": [],
   "source": [
    "Framesets_Info_df = pd.read_csv('Framesets_Info.csv')"
   ]
  },
  {
   "cell_type": "code",
   "execution_count": 8,
   "id": "e37962b4-6047-4fee-8c4e-8cbbdb8e716e",
   "metadata": {},
   "outputs": [
    {
     "data": {
      "text/plain": [
       "Index(['FramesetName', 'n_solutions_sum', 'n_questions', 'n_solutions_avg',\n",
       "       'Select Only One', 'Multiple Select', 'T/F', 'Users_count_CrSK',\n",
       "       'Sessions_count_CrSk', 'Users_count_Nrml', 'Sessions_count_Nrml',\n",
       "       'Percentage_Users_Attempted_CrSk', 'Percentage_Users_Attempted_Nrml',\n",
       "       'Percentage_Users_Out_of_All_CrSk', 'Percentage_Users_Out_of_All_Nrml',\n",
       "       'Percentage_Sessions_CrSk', 'Percentage_Sessions_Nrml'],\n",
       "      dtype='object')"
      ]
     },
     "execution_count": 8,
     "metadata": {},
     "output_type": "execute_result"
    }
   ],
   "source": [
    "Framesets_Info_df.columns"
   ]
  },
  {
   "cell_type": "code",
   "execution_count": null,
   "id": "95fd8eb4-108b-4928-a2ac-d69e5faf533d",
   "metadata": {},
   "outputs": [
    {
     "data": {
      "text/plain": [
       "[None]"
      ]
     },
     "execution_count": 9,
     "metadata": {},
     "output_type": "execute_result"
    },
    {
     "data": {
      "image/png": "[encoded data removed]",
      "text/plain": [
       "<Figure size 432x288 with 1 Axes>"
      ]
     },
     "metadata": {
      "needs_background": "light"
     },
     "output_type": "display_data"
    }
   ],
   "source": [
    "splot = sns.scatterplot(data=Framesets_Info_df, x=\"n_solutions_avg\", y=\"Users_count_CrSK\")\n",
    "splot.set(xscale=\"log\")"
   ]
  },
  {
   "cell_type": "code",
   "execution_count": 14,
   "id": "f16ed65b-d3bf-4a93-a9b9-f52d43ccd70e",
   "metadata": {},
   "outputs": [
    {
     "data": {
      "text/plain": [
       "Index(['FramesetName', 'n_solutions_sum', 'n_questions', 'n_solutions_avg',\n",
       "       'Select Only One', 'Multiple Select', 'T/F', 'Users_count_CrSK',\n",
       "       'Sessions_count_CrSk', 'Users_count_Nrml', 'Sessions_count_Nrml',\n",
       "       'Percentage_Users_Attempted_CrSk', 'Percentage_Users_Attempted_Nrml',\n",
       "       'Percentage_Users_Out_of_All_CrSk', 'Percentage_Users_Out_of_All_Nrml',\n",
       "       'Percentage_Sessions_CrSk', 'Percentage_Sessions_Nrml'],\n",
       "      dtype='object')"
      ]
     },
     "execution_count": 14,
     "metadata": {},
     "output_type": "execute_result"
    }
   ],
   "source": [
    "Framesets_Info_df.columns"
   ]
  },
  {
   "cell_type": "code",
   "execution_count": 15,
   "id": "d7d801e8-c52c-44f7-8bfd-900e25f5e14c",
   "metadata": {},
   "outputs": [
    {
     "name": "stdout",
     "output_type": "stream",
     "text": [
      "R: 0.33252957008384326\n",
      "P-value 0.0009933158781640838\n"
     ]
    },
    {
     "data": {
      "image/png": "[encoded data removed]",
      "text/plain": [
       "<Figure size 432x432 with 1 Axes>"
      ]
     },
     "metadata": {
      "needs_background": "light"
     },
     "output_type": "display_data"
    }
   ],
   "source": [
    "Y =\"Users_count_CrSK\"\n",
    "X =\"n_solutions_sum\"\n",
    "res = stats.linregress(Framesets_Info_df[X], Framesets_Info_df[Y])\n",
    "rvalue, pvalue = stats.pearsonr(x=Framesets_Info_df[X], y=Framesets_Info_df[Y])\n",
    "print(f\"R: {res.rvalue}\")\n",
    "print(\"P-value\", pvalue)\n",
    "fig, axs = plt.subplots(figsize=(6, 6))\n",
    "sns.scatterplot(data=Framesets_Info_df, x=X, y=Y)\n",
    "sns.lineplot(x=Framesets_Info_df[X], y=res.intercept + res.slope * Framesets_Info_df[X])\n",
    "plt.show()"
   ]
  },
  {
   "cell_type": "markdown",
   "id": "ec4f404f-8e24-4406-9c91-57190b5d1cbd",
   "metadata": {},
   "source": [
    "# Create TF_DF "
   ]
  },
  {
   "cell_type": "code",
   "execution_count": 129,
   "id": "d534ad83-b73f-4e7c-b666-daa32bfaf75b",
   "metadata": {},
   "outputs": [
    {
     "data": {
      "text/plain": [
       "(Index(['user_id', 'trace_number', 'curr_frameset_name', 'activity_name',\n",
       "        'question_id', 'timestamp'],\n",
       "       dtype='object'),\n",
       " Index(['FramesetName', 'QuestionName', 'QuestionType', 'n_choices',\n",
       "        'n_solutions', 'QuestionNumber'],\n",
       "       dtype='object'))"
      ]
     },
     "execution_count": 129,
     "metadata": {},
     "output_type": "execute_result"
    }
   ],
   "source": [
    "traces_1d = pd.read_csv(\"Traces_1D.csv\")\n",
    "Framesets_Questions_Info_Df = pd.read_csv(\"Framesets_Questions_Info.csv\")\n",
    "traces_1d.columns,Framesets_Questions_Info_Df.columns"
   ]
  },
  {
   "cell_type": "code",
   "execution_count": 130,
   "id": "5cb4e85e-2225-46a3-bd1f-1d6b8df91342",
   "metadata": {},
   "outputs": [],
   "source": [
    "userIDs = traces_1d['user_id'].unique()\n",
    "framesetNames =  Framesets_Questions_Info_Df['FramesetName'].unique()\n",
    "Framesets_Questions_Info_Df.set_index(['FramesetName','QuestionNumber'],inplace=True)\n"
   ]
  },
  {
   "cell_type": "code",
   "execution_count": 132,
   "id": "a34efe6a-62ee-440f-b9bf-a696c24b8a88",
   "metadata": {},
   "outputs": [],
   "source": [
    "TF_DF = pd.DataFrame(columns=framesetNames)"
   ]
  },
  {
   "cell_type": "code",
   "execution_count": 133,
   "id": "0a11dae7-e785-43c3-bccd-ea583f034c0e",
   "metadata": {
    "tags": []
   },
   "outputs": [],
   "source": [
    "TF_DF['userID'] = userIDs\n",
    "TF_DF.set_index(userIDs,inplace=True)\n",
    "TF_DF.fillna(0,inplace=True)"
   ]
  },
  {
   "cell_type": "code",
   "execution_count": 135,
   "id": "49247686-feee-4059-8144-e6782687440a",
   "metadata": {
    "tags": []
   },
   "outputs": [],
   "source": [
    "for event in traces_1d.iterrows():\n",
    "    activity_name = event[1][3]\n",
    "    question_id = event[1][4]\n",
    "    userID = event[1][0]\n",
    "    framesetName = event[1][2] \n",
    "    try:\n",
    "        if framesetName not in framesetNames:\n",
    "            continue\n",
    "        if activity_name=='X' and Framesets_Questions_Info_Df.loc[framesetName,question_id]['QuestionType']  =='T/F':\n",
    "            TF_DF.at[userID,framesetName]+=1\n",
    "    except Exception as inst:\n",
    "        continue\n",
    "        "
   ]
  },
  {
   "cell_type": "code",
   "execution_count": 141,
   "id": "e6c2990b-d6b3-4595-9f59-92916909311a",
   "metadata": {
    "tags": []
   },
   "outputs": [],
   "source": [
    "TF_DF.to_csv(\"Wrong Attempts TF.csv\")"
   ]
  }
 ],
 "metadata": {
  "kernelspec": {
   "display_name": "Python 3 (ipykernel)",
   "language": "python",
   "name": "python3"
  },
  "language_info": {
   "codemirror_mode": {
    "name": "ipython",
    "version": 3
   },
   "file_extension": ".py",
   "mimetype": "text/x-python",
   "name": "python",
   "nbconvert_exporter": "python",
   "pygments_lexer": "ipython3",
   "version": "3.10.2"
  },
  "toc-autonumbering": false,
  "toc-showcode": true,
  "toc-showmarkdowntxt": false
 },
 "nbformat": 4,
 "nbformat_minor": 5
}
