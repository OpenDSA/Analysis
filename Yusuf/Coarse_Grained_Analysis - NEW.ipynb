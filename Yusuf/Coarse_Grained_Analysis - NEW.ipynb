{
 "cells": [
  {
   "cell_type": "markdown",
   "id": "25509a7a-87fd-4875-a7a1-6caf90c1bee6",
   "metadata": {},
   "source": [
    "# Required Imports"
   ]
  },
  {
   "cell_type": "code",
   "execution_count": 1,
   "id": "3cf4935f-4885-4984-a23e-a65339633103",
   "metadata": {},
   "outputs": [],
   "source": [
    "import csv\n",
    "from datetime import datetime, timedelta\n",
    "from time import time\n",
    "\n",
    "import matplotlib\n",
    "import matplotlib.pyplot as plt\n",
    "import numpy as np\n",
    "import pandas as pd\n",
    "import seaborn as sns\n",
    "\n",
    "%matplotlib inline\n",
    "pd.options.display.min_rows = 25"
   ]
  },
  {
   "cell_type": "markdown",
   "id": "623ca01f-90d7-4534-861b-552ec5b8a445",
   "metadata": {},
   "source": [
    "# Import from Database and frameset_n_questions"
   ]
  },
  {
   "cell_type": "code",
   "execution_count": 3,
   "id": "4b9ac122-74a8-4036-986e-2e0641f51271",
   "metadata": {
    "tags": []
   },
   "outputs": [],
   "source": [
    "df = pd.read_excel(\"PI_Attempts_RAW.xlsx\")#, parse_dates=['created_at'])\n",
    "df = df.sort_values(by=[\"user_id\", \"created_at\"])"
   ]
  },
  {
   "cell_type": "code",
   "execution_count": 4,
   "id": "6878b8eb-5626-42bb-9f4d-c02d81ebc829",
   "metadata": {
    "tags": []
   },
   "outputs": [],
   "source": [
    "df['created_at'] = pd.to_datetime(df['created_at'], format=\"%Y-%m-%d %H:%M:%S\")"
   ]
  },
  {
   "cell_type": "code",
   "execution_count": 5,
   "id": "ead00da2-dda6-421c-ac0c-1918f3364425",
   "metadata": {},
   "outputs": [],
   "source": [
    "test_students = pd.read_csv(\"Test_Students.csv\",header=None)[0].values.tolist()"
   ]
  },
  {
   "cell_type": "code",
   "execution_count": 6,
   "id": "5c106591-819f-4efe-81bb-f44f66f83a90",
   "metadata": {},
   "outputs": [],
   "source": [
    "df = df.dropna(subset=['user_id']) # Drop Nan user_id\n",
    "df = df[~df['user_id'].isin([11604, 5018,3063, 54, 58, 8387, 56, 53, 413, 12740, 1096,  2954, 20182,20232, 20166, 19740, 18381, 1270, 6748, 1270, 8387, 90, 16892])]  # Drop ID's we don't want\n",
    "df = df[~df['user_id'].isin(test_students)] "
   ]
  },
  {
   "cell_type": "code",
   "execution_count": 7,
   "id": "d79e51b4-551f-4d25-9f4b-0fe4793b4e95",
   "metadata": {},
   "outputs": [],
   "source": [
    "df = df[~df['frame_name'].isin(['NFAtoDFAFF','NFAequivFS'])] \n"
   ]
  },
  {
   "cell_type": "code",
   "execution_count": 8,
   "id": "66f60bcc-5f3b-4c4b-af7f-7c89e80427c1",
   "metadata": {},
   "outputs": [
    {
     "data": {
      "text/plain": [
       "223574"
      ]
     },
     "execution_count": 232,
     "metadata": {},
     "output_type": "execute_result"
    }
   ],
   "source": [
    "len(df)"
   ]
  },
  {
   "cell_type": "code",
   "execution_count": 9,
   "id": "6db9a927-46db-4483-9709-d1ee6874c547",
   "metadata": {},
   "outputs": [],
   "source": [
    "# Convert old names to new names\n",
    "frameset_names = pd.read_csv(\"Frameset_Questions_Coarse_Grained.csv\")\n",
    "old_names = frameset_names['frame_name'].tolist()\n",
    "new_names = frameset_names[\"frame_name_22\"].tolist()\n",
    "name_mapper = dict(zip(old_names, new_names))\n",
    "df['frame_name'] = df['frame_name'].map(name_mapper)"
   ]
  },
  {
   "cell_type": "code",
   "execution_count": 10,
   "id": "e5035a8e-246e-41c8-bcd8-2eb9db1e6b04",
   "metadata": {},
   "outputs": [],
   "source": [
    "# Get only up to the date 14-05-21 , after that no records until 23-05-21 where we start Summer'21 and we don't include it here.\n",
    "\n",
    "spring_21_end = datetime(2021,5,14)\n",
    "df = df[df['created_at'] <= spring_21_end]"
   ]
  },
  {
   "cell_type": "code",
   "execution_count": 11,
   "id": "936b5bf8-a840-45fd-a270-7344f9556d71",
   "metadata": {
    "tags": []
   },
   "outputs": [
    {
     "data": {
      "text/plain": [
       "(70767, 75, 91)"
      ]
     },
     "execution_count": 235,
     "metadata": {},
     "output_type": "execute_result"
    }
   ],
   "source": [
    "Fall20 = df[df['created_at'].dt.year==2020]\n",
    "\n",
    "len(Fall20), len(Fall20['user_id'].unique()), len(Fall20['frame_name'].unique())"
   ]
  },
  {
   "cell_type": "code",
   "execution_count": 12,
   "id": "ebba2603-4617-4742-bfc5-a646e37590fb",
   "metadata": {},
   "outputs": [
    {
     "data": {
      "text/plain": [
       "(126216, 70, 87)"
      ]
     },
     "execution_count": 236,
     "metadata": {},
     "output_type": "execute_result"
    }
   ],
   "source": [
    "Spring21 = df[df['created_at'].dt.year==2021]\n",
    "len(Spring21),  len(Spring21['user_id'].unique()),  len(Spring21['frame_name'].unique())"
   ]
  },
  {
   "cell_type": "code",
   "execution_count": null,
   "id": "136ef28e-64eb-4c7c-a3b8-5618c69eb9db",
   "metadata": {},
   "outputs": [],
   "source": [
    "\n",
    "weeks5 = timedelta(weeks=5)\n",
    "\n",
    "\n",
    "fall_20_up_to_mid1 = datetime(2020,9,28)   \n",
    "Fall20_mid1 = Fall20[Fall20['created_at'] <= fall_20_up_to_mid1] \n",
    "\n",
    "Spring21_mid1 = Spring21[Spring21['created_at'] <= Spring21['created_at'].min()+weeks5]\n"
   ]
  },
  {
   "cell_type": "code",
   "execution_count": 27,
   "id": "586705c9-7f2d-4103-9d76-4242d4b740b5",
   "metadata": {},
   "outputs": [
    {
     "data": {
      "text/plain": [
       "(9866, 34215)"
      ]
     },
     "execution_count": 27,
     "metadata": {},
     "output_type": "execute_result"
    }
   ],
   "source": [
    "len(Fall20_mid1), len(Spring21_mid1)"
   ]
  },
  {
   "cell_type": "markdown",
   "id": "0470b3e8-2130-44c4-915b-08010ee8aed2",
   "metadata": {
    "tags": []
   },
   "source": [
    "# Some Graphs"
   ]
  },
  {
   "cell_type": "code",
   "execution_count": null,
   "id": "46c38e03-f9a9-4f36-8c00-9cb02b7a5b92",
   "metadata": {},
   "outputs": [],
   "source": [
    " \n",
    "def get_student_info(student_id, database):\n",
    "    df_student = database[database[\"user_id\"] == student_id].drop(columns=\"user_id\", axis=1)\n",
    "    framesets = set()\n",
    "    for index, interaction in df_student.iterrows():\n",
    "        framesets.add(interaction[\"frame_name\"])\n",
    "    n_interactions = len(df_student)\n",
    "    n_framesets = len(framesets)\n",
    "    return n_interactions, n_framesets"
   ]
  },
  {
   "cell_type": "code",
   "execution_count": null,
   "id": "6cb4ee67-8c09-49e6-978b-731c99f62c9d",
   "metadata": {},
   "outputs": [
    {
     "name": "stdout",
     "output_type": "stream",
     "text": [
      "Total Time (in minutes) is 0:00:02.277957\n"
     ]
    }
   ],
   "source": [
    "time_all = time()\n",
    "n_interactions_per_student = []\n",
    "n_frames_per_student = []\n",
    "dictt ={}\n",
    "\n",
    "\n",
    "for student_id in Spring21_mid1['user_id'].unique():\n",
    "    student_info = get_student_info(student_id, Spring21_mid1)\n",
    "    \n",
    "    n_interactions_per_student.append(student_info[0])\n",
    "    n_frames_per_student.append(student_info[1])\n",
    "    dictt[student_id] =student_info[0]\n",
    "\n",
    "        \n",
    "print(\"Total Time (in minutes) is {}\".format(timedelta(seconds=(time() - time_all))))"
   ]
  },
  {
   "cell_type": "code",
   "execution_count": 52,
   "id": "5bf5ef4e-a534-4e27-80c5-9f707dfa077b",
   "metadata": {},
   "outputs": [],
   "source": [
    "Fall20 = sessions[sessions['timestamp'].dt.year==2020]\n",
    "Spring21 = sessions[sessions['timestamp'].dt.year==2021]\n",
    "weeks5 = timedelta(weeks=5)\n",
    "\n",
    "\n",
    "\n",
    "fall_20_up_to_mid1 = datetime(2020,9,28)  # Exactly 5 weeks after the beginning of the semester\n",
    "Fall20_mid1 = Fall20[Fall20['timestamp'] <= fall_20_up_to_mid1] # There's a problem here in Fall'20, it wasn't store all data starting from 24th August 2020\n",
    "# So we should stop exactly at September 28, 2020 \n",
    "\n",
    "\n",
    "# Just add 5 weeks, and we are good. \n",
    "Spring21_mid1 = Spring21[Spring21['timestamp'] <= Spring21['timestamp'].min()+weeks5]\n"
   ]
  },
  {
   "cell_type": "code",
   "execution_count": 58,
   "id": "795f2ae0-d605-4d8b-86aa-f7d890871429",
   "metadata": {},
   "outputs": [],
   "source": [
    "n_frames_per_student20 = (\n",
    "    Fall20_mid1\n",
    "    .groupby([\"user_id\"])\n",
    "    .agg(\n",
    "        frameset_unique=(\"curr_frameset_name\",  \"nunique\"),\n",
    "    )\n",
    ")['frameset_unique'].tolist()"
   ]
  },
  {
   "cell_type": "code",
   "execution_count": 59,
   "id": "ebd36498-a35b-4e73-a669-9113c16360f9",
   "metadata": {},
   "outputs": [],
   "source": [
    "n_frames_per_student21 = (\n",
    "    Spring21_mid1\n",
    "    .groupby([\"user_id\"])\n",
    "    .agg(\n",
    "        frameset_unique=(\"curr_frameset_name\",  \"nunique\"),\n",
    "    )\n",
    ")['frameset_unique'].tolist()"
   ]
  },
  {
   "cell_type": "code",
   "execution_count": 60,
   "id": "9598c8d0-ce55-4e62-b6b9-299552f52d62",
   "metadata": {},
   "outputs": [],
   "source": [
    "n_frames_per_student22 = (\n",
    "    sessions_22\n",
    "    .groupby([\"user_id\"])\n",
    "    .agg(\n",
    "        frameset_unique=(\"curr_frameset_name\",  \"nunique\"),\n",
    "    )\n",
    ")['frameset_unique'].tolist()"
   ]
  },
  {
   "cell_type": "code",
   "execution_count": 61,
   "id": "78b5c93b-a83a-4146-81de-81761e422f51",
   "metadata": {
    "tags": []
   },
   "outputs": [
    {
     "data": {
      "image/png": "[encoded data removed]",
      "text/plain": [
       "<Figure size 684x540 with 1 Axes>"
      ]
     },
     "metadata": {},
     "output_type": "display_data"
    }
   ],
   "source": [
    "sns.set_style(\"white\")\n",
    "\n",
    "\n",
    "fig, ax = plt.subplots(figsize=(9.5, 7.5))\n",
    "\n",
    "gfg = sns.ecdfplot(x = n_frames_per_student20,label=\"Fall 2020\")\n",
    "gfg = sns.ecdfplot(x = n_frames_per_student21,label=\"Spring 2021\")\n",
    "gfg = sns.ecdfplot(x = n_frames_per_student22,label=\"Spring 2022\")\n",
    "\n",
    "gfg.set(\n",
    "    xlabel=\"Number of PI Framesets\",\n",
    "    ylabel=\"Proportion of Students\",\n",
    "    # title=\"CDF of Framesets Attempted per Student in Fall 2020 (First 5 Weeks)\",\n",
    "    yticks=(np.arange(0,1.1,0.1)),\n",
    "    # xticks=(range(0, max(n_frames_per_student) +5, 5)),\n",
    ")\n",
    "plt.legend(loc='lower right')\n",
    "plt.grid()  \n",
    "fig.savefig(\"cdf_framesets_all.pdf\", facecolor=\"white\",dpi=500)\n",
    "\n",
    "# What is the proportion of the students who finished 80 framesets ?"
   ]
  },
  {
   "cell_type": "code",
   "execution_count": 108,
   "id": "e5bbd94a-c2a4-4f56-ba48-33464d14e066",
   "metadata": {
    "collapsed": true,
    "jupyter": {
     "outputs_hidden": true
    },
    "tags": []
   },
   "outputs": [
    {
     "data": {
      "image/png": "[encoded data removed]",
      "text/plain": [
       "<Figure size 1476x900 with 1 Axes>"
      ]
     },
     "metadata": {},
     "output_type": "display_data"
    },
    {
     "data": {
      "text/plain": [
       "17.602941176470587"
      ]
     },
     "execution_count": 108,
     "metadata": {},
     "output_type": "execute_result"
    }
   ],
   "source": [
    "fig, ax = plt.subplots(figsize=(20.5, 12.5))\n",
    "\n",
    "gfg = sns.histplot(data=n_frames_per_student, kde=True, binwidth=2)\n",
    "gfg.set(\n",
    "    xlabel=\"# of framesets\",\n",
    "    ylabel=\"# of students\",\n",
    "    title=\"Frequency of Framesets Attempted Per Sutdent\",\n",
    "    xticks=(range(0, max(n_frames_per_student) + 3, 2)),\n",
    ")\n",
    "plt.grid()  \n",
    "\n",
    "plt.show()\n",
    "# The x-axis is # of framesets attempted, The y-axis is the # of students who attempted the same # of framesets\n",
    "fig.savefig(\"Frequency of Framesets Attempted Per Sutdent\", facecolor=\"white\")\n",
    "np.array(n_frames_per_student).mean()"
   ]
  },
  {
   "cell_type": "markdown",
   "id": "ee65b146-ec1e-4e96-a17f-e39e085aa210",
   "metadata": {},
   "source": [
    "# Converting Raw Data into Events"
   ]
  },
  {
   "cell_type": "markdown",
   "id": "fa008062-934b-4ba8-bc29-faac69c322f3",
   "metadata": {},
   "source": [
    "## Build CSV one event in a row"
   ]
  },
  {
   "cell_type": "code",
   "execution_count": 8,
   "id": "09d99a33-a411-4013-ab3b-48ea1d7c2400",
   "metadata": {},
   "outputs": [],
   "source": [
    "# Each row will contain one event with [session_number, frame_name, activity, timestamp]\n",
    "session_counter = 1\n",
    "session_number = \"sesssion 1\" \n",
    "event_log = [] # GLOBAL variable\n",
    "activity_counter = 0  # This will be used to count how many interactions in one session, if it's less than 3, then just remove this session by add its number to a list\n",
    "\n",
    "\n",
    "def convert_raw_to_sessions_and_activity(student_id, database):\n",
    "    global session_counter\n",
    "    global session_number\n",
    "    df_student = database[database[\"user_id\"] == student_id]\n",
    "    \n",
    "    curr  =  df_student.iloc[0]\n",
    "    prev  =  df_student.iloc[0]\n",
    "    nextt =  df_student.iloc[0]\n",
    "    \n",
    "    # Iterate over interactions of this student\n",
    "    for i in range(0, len(df_student)):\n",
    "        \n",
    "        curr = df_student.iloc[i]\n",
    "        curr_time = curr[\"created_at\"]\n",
    "        curr_frameset_name = curr[\"frame_name\"]\n",
    "        curr_question_id = curr[\"question\"]\n",
    "        \n",
    "        \n",
    "        if i != ( len(df_student) - 1) : #Otherwise, we don't have a next, and it will remain the same\n",
    "            nextt = df_student.iloc[i + 1]\n",
    "        \n",
    "        if i != 0:  #Otherwise, we don't have a prev, and it will remain the same\n",
    "            prev = df_student.iloc[i - 1]\n",
    "\n",
    "        if (\n",
    "            curr_frameset_name == prev[\"frame_name\"]\n",
    "            and curr_question_id < prev[\"question\"]\n",
    "        ):\n",
    "            event_log.append([student_id, session_number, curr_frameset_name, \"Back\", curr_question_id, curr_time - timedelta(seconds=0.1)])\n",
    "\n",
    "        # Correct\n",
    "        if curr[\"correct\"]:\n",
    "            event_log.append([student_id, session_number, curr_frameset_name, \"Crrct\", curr_question_id, curr_time ])\n",
    " \n",
    "        # InCorrect\n",
    "        elif not curr[\"correct\"]:\n",
    "            event_log.append([student_id, session_number, curr_frameset_name, \"X\", curr_question_id, curr_time ])\n",
    "\n",
    "        # SESSION ENDED: Either started another frameset given the same user, or has passed more than 15 minutes between two consequence interactions\n",
    "        # Always after session end, there's a new session for whoever is next\n",
    "        if (\n",
    "            nextt[\"frame_name\"] != curr_frameset_name  \n",
    "            or  ((nextt[\"created_at\"] - curr_time ).total_seconds()/60)>15.0 # Spend some time off - NEW SESSION\n",
    "            or i == len(df_student) - 1 # means the last session, so his/her last session in that semester\n",
    "        ):\n",
    "            \n",
    "            event_log.append([student_id, session_number, curr_frameset_name, \"SESSION_END\", curr_question_id,  curr_time + timedelta(seconds=0.001) ])\n",
    "            session_counter += 1 \n",
    "            session_number = \"sesssion \" + str(session_counter)"
   ]
  },
  {
   "cell_type": "code",
   "execution_count": 9,
   "id": "df377861-05c2-4a83-82ba-5e2afb52313c",
   "metadata": {
    "tags": []
   },
   "outputs": [
    {
     "name": "stdout",
     "output_type": "stream",
     "text": [
      "207490\n"
     ]
    }
   ],
   "source": [
    " \n",
    "student_ids = df['user_id'].unique()\n",
    "for student_id in student_ids:\n",
    "    convert_raw_to_sessions_and_activity(student_id, df)\n",
    "    \n",
    "print(len(event_log)) "
   ]
  },
  {
   "cell_type": "code",
   "execution_count": null,
   "id": "cf960d84-fa8e-47cf-9484-e5706070a33e",
   "metadata": {},
   "outputs": [],
   "source": [
    "sessions =  pd.DataFrame(event_log, columns= [\"user_id\",\"session_number\",\"curr_frameset_name\",\"activity_name\",\"question_id\",\"timestamp\",])\n",
    "sessions.to_excel(\"Sessions_1D_old_names.xlsx\")"
   ]
  },
  {
   "cell_type": "code",
   "execution_count": 49,
   "id": "587d6b3b-342d-4863-b579-befcb938f672",
   "metadata": {},
   "outputs": [],
   "source": [
    "sessions= pd.read_excel('Sessions_1D_new_names.xlsx')\n"
   ]
  },
  {
   "cell_type": "code",
   "execution_count": 23,
   "id": "797ee2c5-fe29-445e-91ae-8f9a9e515823",
   "metadata": {
    "tags": []
   },
   "outputs": [],
   "source": [
    "sessions_22 =  pd.read_excel(\"Spring_22/Sessions_1D_22.xlsx\")"
   ]
  },
  {
   "cell_type": "code",
   "execution_count": 186,
   "id": "1a656f6b-9d51-444b-b580-0aa35fe0a00c",
   "metadata": {},
   "outputs": [],
   "source": [
    "event_log_Spring21 = event_log"
   ]
  },
  {
   "cell_type": "code",
   "execution_count": 24,
   "id": "dd825f01-6713-4fda-99e3-4207fae03f24",
   "metadata": {},
   "outputs": [],
   "source": [
    "sessions_intereactions_count20_21 = (\n",
    "    sessions\n",
    "    .groupby([\"session_number\"])\n",
    "    .agg(\n",
    "        frameset_count=(\"curr_frameset_name\",  \"count\"),\n",
    "    )\n",
    ")['frameset_count'].tolist()"
   ]
  },
  {
   "cell_type": "code",
   "execution_count": 25,
   "id": "99ba4176-0646-4e52-948d-6794952ffed1",
   "metadata": {},
   "outputs": [],
   "source": [
    "sessions_intereactions_count22 = (\n",
    "    sessions_22\n",
    "    .groupby([\"session_number\"])\n",
    "    .agg(\n",
    "        frameset_count=(\"curr_frameset_name\",  \"count\"),\n",
    "    )\n",
    ")['frameset_count'].tolist()"
   ]
  },
  {
   "cell_type": "code",
   "execution_count": 36,
   "id": "c2aa2303-d21f-48a5-beb9-fa8d625e1464",
   "metadata": {},
   "outputs": [],
   "source": [
    "%store -r sessions_intereactions_count22"
   ]
  },
  {
   "cell_type": "code",
   "execution_count": 26,
   "id": "a7f21701-25e8-49df-a91b-a9f53284427a",
   "metadata": {
    "tags": []
   },
   "outputs": [],
   "source": [
    "sessions_interactions_all = sessions_intereactions_count22+ sessions_intereactions_count20_21\n"
   ]
  },
  {
   "cell_type": "code",
   "execution_count": 83,
   "id": "ab04aaf3-0b41-4be4-a93a-877d846a6fa8",
   "metadata": {},
   "outputs": [
    {
     "data": {
      "text/plain": [
       "(176, 14131)"
      ]
     },
     "execution_count": 83,
     "metadata": {},
     "output_type": "execute_result"
    }
   ],
   "source": [
    "temp= pd.DataFrame(sessions_interactions_all, columns=['count'])\n",
    "len(temp[temp['count'] > 100]), len(temp[temp['count'] <= 100])"
   ]
  },
  {
   "cell_type": "code",
   "execution_count": 84,
   "id": "0a3d154a-e58f-4f04-a4e5-f781e6b84efa",
   "metadata": {
    "tags": []
   },
   "outputs": [
    {
     "data": {
      "text/plain": [
       "(661, 20.477179003285105, 14.0, 2)"
      ]
     },
     "execution_count": 84,
     "metadata": {},
     "output_type": "execute_result"
    }
   ],
   "source": [
    "np.array(sessions_interactions_all).max(),np.array(sessions_interactions_all).mean(), np.median(sessions_interactions_all),  np.array(sessions_interactions_all).min()"
   ]
  },
  {
   "cell_type": "code",
   "execution_count": 27,
   "id": "977140c1-a6a5-4a90-b61d-de28ac06e90e",
   "metadata": {},
   "outputs": [
    {
     "data": {
      "image/png": "[encoded data removed]",
      "text/plain": [
       "<Figure size 1476x900 with 1 Axes>"
      ]
     },
     "metadata": {},
     "output_type": "display_data"
    }
   ],
   "source": [
    "fig, ax = plt.subplots(figsize=(20.5, 12.5))\n",
    "\n",
    "gfg = sns.histplot(data=sessions_interactions_all, kde=True, binwidth=10)\n",
    "gfg.set(\n",
    "    xlabel=\"Number of Interactions\",\n",
    "    ylabel=\"Number of Sessions\",\n",
    "    # title=\"Frequency of Framesets Attempted Per Sutdent\",\n",
    "    xticks=(range(0, max(sessions_interactions_all), 20)),\n",
    ")\n",
    "ax. xaxis. label. set_size(15)\n",
    "ax. yaxis. label. set_size(15)\n",
    "plt.grid()  \n",
    "\n",
    "plt.show()\n",
    "# The x-axis is # of framesets attempted, The y-axis is the # of students who attempted the same # of framesets\n",
    "fig.savefig(\"Number of Interactions Per Session.pdf\", facecolor=\"white\",dpi=500)\n"
   ]
  },
  {
   "cell_type": "code",
   "execution_count": 93,
   "id": "f97d834a-a21b-49b2-a231-05e0dfff106a",
   "metadata": {},
   "outputs": [
    {
     "data": {
      "image/png": "[encoded data removed]",
      "text/plain": [
       "<Figure size 684x540 with 1 Axes>"
      ]
     },
     "metadata": {},
     "output_type": "display_data"
    }
   ],
   "source": [
    "sns.set_style(\"white\")\n",
    "\n",
    "\n",
    "fig, ax = plt.subplots(figsize=(9.5, 7.5))\n",
    "\n",
    "gfg = sns.ecdfplot(x = sessions_interactions_all)\n",
    "\n",
    "gfg.set(\n",
    "    xlabel=\"Number of PI Framesets\",\n",
    "    ylabel=\"Proportion of Students\",\n",
    "    # title=\"CDF of Framesets Attempted per Student in Fall 2020 (First 5 Weeks)\",\n",
    "    yticks=(np.arange(0,1.1,0.1)),\n",
    "    xticks=(range(0, max(sessions_interactions_all) +5, 50)),\n",
    ")\n",
    "plt.grid()  \n",
    "fig.savefig(\"Number of Interactions Per Session\", facecolor=\"white\",dpi=500)\n",
    "\n",
    "# What is the proportion of the students who finished 80 framesets ?"
   ]
  },
  {
   "cell_type": "markdown",
   "id": "6b96ae60-a1d2-4a17-9ecc-d624b9857f25",
   "metadata": {
    "tags": []
   },
   "source": [
    "# Sessions_2D.csv"
   ]
  },
  {
   "cell_type": "code",
   "execution_count": null,
   "id": "7cb6cdcd-e2ea-4000-94b8-18891108574d",
   "metadata": {
    "tags": []
   },
   "outputs": [],
   "source": [
    "sessions_one_session_one_row = []\n",
    "sessions_one_session_one_row_numerical = []\n",
    "temp = event_log[0][1]\n",
    "one_row = []\n",
    "for event in event_log:\n",
    "    if event[1] != temp:\n",
    "        sessions_one_session_one_row.append(one_row)\n",
    "\n",
    "        sessions_one_session_one_row_numerical.append(le.transform(one_row))\n",
    "        one_row = []\n",
    "    one_row.append(event[3])\n",
    "    temp = event[1]\n",
    "\n",
    "# convert the ragged lists into numpy\n",
    "sessions_one_session_one_row_numerical = np.asarray(sessions_one_session_one_row_numerical)"
   ]
  },
  {
   "cell_type": "code",
   "execution_count": null,
   "id": "fced5fcb-8e45-483b-a8a0-3efadb1bd46c",
   "metadata": {},
   "outputs": [],
   "source": [
    "sessions_transposed = list(\n",
    "    map(list, zip_longest(*sessions_one_session_one_row, fillvalue=None))\n",
    ")\n",
    "\n",
    "# write list of lists to CSV\n",
    "with open(\"sessions_2D.csv\", \"w\", newline=\"\") as f:\n",
    "    writer = csv.writer(f)\n",
    "    for values in zip_longest(*sessions_transposed):\n",
    "        writer.writerow(values)"
   ]
  },
  {
   "cell_type": "code",
   "execution_count": null,
   "id": "8cd01be6-5ac7-4c11-a455-5cac503562e8",
   "metadata": {},
   "outputs": [],
   "source": [
    "sessions_one_session_one_row_numerical"
   ]
  },
  {
   "cell_type": "code",
   "execution_count": null,
   "id": "7ec10cd7-80ee-4c1a-98a0-eac4f041805a",
   "metadata": {},
   "outputs": [],
   "source": [
    "lengths = [len(x) for x in sessions_one_session_one_row_numerical]"
   ]
  },
  {
   "cell_type": "code",
   "execution_count": null,
   "id": "c632c021-68ac-4a86-b450-9e5fa585dba4",
   "metadata": {},
   "outputs": [],
   "source": [
    "fig, ax = plt.subplots()\n",
    "plt.style.use(\"default\")\n",
    "sns.ecdfplot(data=lengths, legend=True, label=\"Real Data\", color=\"orange\")\n",
    "plt.xscale(\"log\")\n",
    "ax.set_title(\"How many interactions in each session\")\n",
    "ax.set_xlabel(\"# of interactions per session\")\n",
    "plt.grid()\n",
    "plt.show()\n",
    "fig.savefig(\"How many interactions per session\", dpi=300, facecolor=\"white\")"
   ]
  },
  {
   "cell_type": "code",
   "execution_count": null,
   "id": "ca406b9e-36ec-4065-be0d-15cfa5838899",
   "metadata": {},
   "outputs": [],
   "source": [
    "np.array(lengths).max()"
   ]
  },
  {
   "cell_type": "markdown",
   "id": "bdf94db3-9b0e-4278-b80a-5d513c2836f0",
   "metadata": {},
   "source": [
    "# Creating Attributes for Summarizing Sessions into one datapoint --> (Clustered_Sessions.csv)"
   ]
  },
  {
   "cell_type": "code",
   "execution_count": 9,
   "id": "b16f7e99-51be-4cae-b077-88db112895d8",
   "metadata": {},
   "outputs": [],
   "source": [
    "clusters_attributes = [\n",
    "    \"Percentage_incorrects\",\n",
    "    \"Percentage_corrects\",\n",
    "    \"percent_consecutive_incorrect_interactions\",   \n",
    "    'percent_consecutive_correct_interactions',\n",
    "    \"n_backs\",\n",
    "    \"nth_trial_of_frame\", #for that user\n",
    "    \"time_between_median\" ,\n",
    "] #[2,3,4,5,6,7,9]"
   ]
  },
  {
   "cell_type": "code",
   "execution_count": 401,
   "id": "549812b4-9960-4852-88d7-d57cb9e6d5db",
   "metadata": {},
   "outputs": [
    {
     "data": {
      "text/plain": [
       "['Percentage_incorrects',\n",
       " 'percent_consecutive_incorrect_interactions',\n",
       " 'percent_consecutive_correct_interactions',\n",
       " 'n_backs',\n",
       " 'nth_trial_of_frame',\n",
       " 'time_between_median']"
      ]
     },
     "execution_count": 401,
     "metadata": {},
     "output_type": "execute_result"
    }
   ],
   "source": [
    "clusters_attributes"
   ]
  },
  {
   "cell_type": "code",
   "execution_count": 5,
   "id": "8c9fa3d0-b715-42ce-a45d-9624d3a1e2ab",
   "metadata": {},
   "outputs": [],
   "source": [
    "def get_n_two_conseuctive_incorrect(activities):\n",
    "    cnt = 0\n",
    "    flag = False\n",
    "    for activity in activities:\n",
    "        if activity == \"X\" and flag == False:\n",
    "            flag = True\n",
    "        elif activity == \"X\" and flag == True:\n",
    "            cnt += 1\n",
    "        elif activity != \"X\":\n",
    "            flag = False\n",
    "    return cnt\n",
    "\n",
    "def get_n_two_conseuctive_correct(activities):\n",
    "    cnt = 0\n",
    "    flag = False\n",
    "    for activity in activities:\n",
    "        if activity == \"Crrct\" and flag == False:\n",
    "            flag = True\n",
    "        elif activity == \"Crrct\" and flag == True:\n",
    "            cnt += 1\n",
    "        elif activity != \"Crrct\":\n",
    "            flag = False\n",
    "    return cnt\n",
    "\n",
    "def get_n_incorrect(activities):\n",
    "    cnt = 0\n",
    "    for activity in activities:\n",
    "        if activity == \"X\" :\n",
    "            cnt+=1\n",
    "    return cnt\n",
    "\n",
    "\n",
    "def get_n_correct(activities):\n",
    "    cnt = 0\n",
    "    for activity in activities:\n",
    "        if activity == \"Crrct\" :\n",
    "            cnt+=1\n",
    "    return cnt"
   ]
  },
  {
   "cell_type": "code",
   "execution_count": 10,
   "id": "39a2c427-a36d-4af8-b64b-b4f3f12a9205",
   "metadata": {},
   "outputs": [
    {
     "data": {
      "text/plain": [
       "['Percentage_incorrects',\n",
       " 'Percentage_corrects',\n",
       " 'percent_consecutive_incorrect_interactions',\n",
       " 'percent_consecutive_correct_interactions',\n",
       " 'n_backs',\n",
       " 'nth_trial_of_frame',\n",
       " 'time_between_median']"
      ]
     },
     "execution_count": 10,
     "metadata": {},
     "output_type": "execute_result"
    }
   ],
   "source": [
    "clusters_attributes"
   ]
  },
  {
   "cell_type": "code",
   "execution_count": 53,
   "id": "019e8092-0d6d-4fb5-b80f-4d7714e6e503",
   "metadata": {},
   "outputs": [
    {
     "data": {
      "text/plain": [
       "Index(['user_id', 'session_number', 'curr_frameset_name', 'activity_name',\n",
       "       'question_id', 'timestamp'],\n",
       "      dtype='object')"
      ]
     },
     "execution_count": 53,
     "metadata": {},
     "output_type": "execute_result"
    }
   ],
   "source": [
    "sessions = pd.read_excel('Sessions_1D_new_names.xlsx')\n",
    "sessions.columns"
   ]
  },
  {
   "cell_type": "code",
   "execution_count": 54,
   "id": "84f161e3-de75-4bc1-bed5-fde995243ee0",
   "metadata": {
    "tags": []
   },
   "outputs": [],
   "source": [
    "one_row = []\n",
    "sessions_attributes = []\n",
    "sessions_attributes_with_user_frameset = []\n",
    "attempted_before = {}\n",
    "n_backs, activity_counter, n_incorrects, n_corrects= 0, 0 , 0 ,0\n",
    "times_between = []\n",
    "session_activities = []\n",
    "question_ids = set()\n",
    "\n",
    "for interaction in sessions.iterrows():\n",
    "    interaction = interaction[1]\n",
    "    activity = interaction['activity_name']\n",
    "    question_id = interaction['question_id']\n",
    "    # If the interaction is SESSION_END then add the prev_session number, and move to the next iteration\n",
    "    if activity == 'SESSION_END' and activity_counter > 2:\n",
    "      \n",
    "        # Here we have been adding all interactions of one session to the list activities\n",
    "        n_consecutive_incorrects = get_n_two_conseuctive_incorrect(session_activities)\n",
    "        n_consecutive_corrects =   get_n_two_conseuctive_correct(session_activities)\n",
    "        n_incorrects = get_n_incorrect(session_activities) #becuase some sessions such as {Crrct --> X --> Crrt --> END_SESSION} will has zero value which doesn't represnt anything about the session\n",
    "        n_corrects = get_n_correct(session_activities)\n",
    "        percent_consecutive_incorrect_interactions = n_consecutive_incorrects/len(session_activities)\n",
    "        percent_consecutive_correct_interactions  = n_consecutive_corrects/len(session_activities)\n",
    "        \n",
    "        \n",
    "        if attempted_before.get(str(interaction['user_id']) + \"-\" + interaction['curr_frameset_name']) == None:\n",
    "            attempted_before[str(interaction['user_id']) + \"-\" + interaction['curr_frameset_name']] = 1\n",
    "        else:  # If the dictionary is not None, it means it have been finished before, and let's count how many times did they finish\n",
    "            attempted_before[str(interaction['user_id']) + \"-\" + interaction['curr_frameset_name']]  += 1\n",
    "\n",
    "        nth_trial_of_frame = attempted_before[str(interaction['user_id']) + \"-\" + interaction['curr_frameset_name']]\n",
    " \n",
    "        one_row = [n_incorrects/len(session_activities), n_corrects/len(session_activities), round(percent_consecutive_incorrect_interactions,3), round(percent_consecutive_correct_interactions,3), \n",
    "                  n_backs , nth_trial_of_frame, np.median(times_between)]\n",
    "        sessions_attributes.append( one_row )  \n",
    "        sessions_attributes_with_user_frameset.append([interaction['user_id'], interaction['session_number'], interaction['curr_frameset_name']]+ one_row) \n",
    "        \n",
    "    if activity == 'SESSION_END': # Regardless of the activity_counter\n",
    "        n_backs = 0\n",
    "        activity_counter = 0\n",
    "        start_time = interaction['timestamp']\n",
    "        times_between = []\n",
    "        max_question_id = -1\n",
    "        session_activities = []\n",
    "        question_ids = set()\n",
    "        continue # Move directly to the next iteration\n",
    "    \n",
    "    \n",
    "    # add one more activity to that session   \n",
    "    session_activities.append(activity)\n",
    "    activity_counter += 1\n",
    "    \n",
    "    question_ids.add(question_id)\n",
    "    \n",
    "    # If Back\n",
    "    if activity == \"Back\":\n",
    "        n_backs += 1\n",
    "    \n",
    "    if activity_counter!=1:\n",
    "        times_between.append((interaction['timestamp'] - prev_session_time).total_seconds())\n",
    "    prev_session_time = interaction['timestamp']"
   ]
  },
  {
   "cell_type": "code",
   "execution_count": 55,
   "id": "f03652ac-716d-4235-85a6-359cc70b98da",
   "metadata": {
    "tags": []
   },
   "outputs": [],
   "source": [
    "sessions_attributes_with_user_frameset = pd.DataFrame(sessions_attributes_with_user_frameset, columns = ['user_id', 'session_number' , 'curr_frameset_name'] + clusters_attributes)"
   ]
  },
  {
   "cell_type": "code",
   "execution_count": 56,
   "id": "95359a81-3003-48e4-a67b-75e44eaa2d65",
   "metadata": {},
   "outputs": [
    {
     "data": {
      "text/html": [
       "<div>\n",
       "<style scoped>\n",
       "    .dataframe tbody tr th:only-of-type {\n",
       "        vertical-align: middle;\n",
       "    }\n",
       "\n",
       "    .dataframe tbody tr th {\n",
       "        vertical-align: top;\n",
       "    }\n",
       "\n",
       "    .dataframe thead th {\n",
       "        text-align: right;\n",
       "    }\n",
       "</style>\n",
       "<table border=\"1\" class=\"dataframe\">\n",
       "  <thead>\n",
       "    <tr style=\"text-align: right;\">\n",
       "      <th></th>\n",
       "      <th>user_id</th>\n",
       "      <th>session_number</th>\n",
       "      <th>curr_frameset_name</th>\n",
       "      <th>Percentage_incorrects</th>\n",
       "      <th>Percentage_corrects</th>\n",
       "      <th>percent_consecutive_incorrect_interactions</th>\n",
       "      <th>percent_consecutive_correct_interactions</th>\n",
       "      <th>n_backs</th>\n",
       "      <th>nth_trial_of_frame</th>\n",
       "      <th>time_between_median</th>\n",
       "    </tr>\n",
       "  </thead>\n",
       "  <tbody>\n",
       "    <tr>\n",
       "      <th>0</th>\n",
       "      <td>812</td>\n",
       "      <td>sesssion 2</td>\n",
       "      <td>LanguageFS</td>\n",
       "      <td>0.114286</td>\n",
       "      <td>0.885714</td>\n",
       "      <td>0.000</td>\n",
       "      <td>0.771</td>\n",
       "      <td>0</td>\n",
       "      <td>1</td>\n",
       "      <td>13.5</td>\n",
       "    </tr>\n",
       "    <tr>\n",
       "      <th>1</th>\n",
       "      <td>812</td>\n",
       "      <td>sesssion 3</td>\n",
       "      <td>GrammarIntroFS</td>\n",
       "      <td>0.250000</td>\n",
       "      <td>0.750000</td>\n",
       "      <td>0.083</td>\n",
       "      <td>0.500</td>\n",
       "      <td>0</td>\n",
       "      <td>1</td>\n",
       "      <td>7.0</td>\n",
       "    </tr>\n",
       "    <tr>\n",
       "      <th>2</th>\n",
       "      <td>812</td>\n",
       "      <td>sesssion 4</td>\n",
       "      <td>GrammarIntroFS</td>\n",
       "      <td>0.210526</td>\n",
       "      <td>0.789474</td>\n",
       "      <td>0.053</td>\n",
       "      <td>0.579</td>\n",
       "      <td>0</td>\n",
       "      <td>2</td>\n",
       "      <td>19.5</td>\n",
       "    </tr>\n",
       "    <tr>\n",
       "      <th>3</th>\n",
       "      <td>812</td>\n",
       "      <td>sesssion 5</td>\n",
       "      <td>RelationsFS</td>\n",
       "      <td>0.400000</td>\n",
       "      <td>0.550000</td>\n",
       "      <td>0.200</td>\n",
       "      <td>0.300</td>\n",
       "      <td>1</td>\n",
       "      <td>1</td>\n",
       "      <td>6.0</td>\n",
       "    </tr>\n",
       "    <tr>\n",
       "      <th>4</th>\n",
       "      <td>812</td>\n",
       "      <td>sesssion 6</td>\n",
       "      <td>EquivFS</td>\n",
       "      <td>0.333333</td>\n",
       "      <td>0.666667</td>\n",
       "      <td>0.167</td>\n",
       "      <td>0.333</td>\n",
       "      <td>0</td>\n",
       "      <td>1</td>\n",
       "      <td>79.0</td>\n",
       "    </tr>\n",
       "    <tr>\n",
       "      <th>5</th>\n",
       "      <td>812</td>\n",
       "      <td>sesssion 7</td>\n",
       "      <td>DFAintroFS</td>\n",
       "      <td>0.839080</td>\n",
       "      <td>0.160920</td>\n",
       "      <td>0.816</td>\n",
       "      <td>0.126</td>\n",
       "      <td>0</td>\n",
       "      <td>1</td>\n",
       "      <td>1.0</td>\n",
       "    </tr>\n",
       "    <tr>\n",
       "      <th>6</th>\n",
       "      <td>812</td>\n",
       "      <td>sesssion 8</td>\n",
       "      <td>DFAadvancedFS</td>\n",
       "      <td>0.000000</td>\n",
       "      <td>1.000000</td>\n",
       "      <td>0.000</td>\n",
       "      <td>0.909</td>\n",
       "      <td>0</td>\n",
       "      <td>1</td>\n",
       "      <td>17.5</td>\n",
       "    </tr>\n",
       "    <tr>\n",
       "      <th>7</th>\n",
       "      <td>812</td>\n",
       "      <td>sesssion 9</td>\n",
       "      <td>NFAFS</td>\n",
       "      <td>0.533333</td>\n",
       "      <td>0.466667</td>\n",
       "      <td>0.367</td>\n",
       "      <td>0.267</td>\n",
       "      <td>0</td>\n",
       "      <td>1</td>\n",
       "      <td>14.0</td>\n",
       "    </tr>\n",
       "    <tr>\n",
       "      <th>8</th>\n",
       "      <td>812</td>\n",
       "      <td>sesssion 10</td>\n",
       "      <td>NFA2DFAlargeExFS</td>\n",
       "      <td>0.000000</td>\n",
       "      <td>1.000000</td>\n",
       "      <td>0.000</td>\n",
       "      <td>0.938</td>\n",
       "      <td>0</td>\n",
       "      <td>1</td>\n",
       "      <td>11.0</td>\n",
       "    </tr>\n",
       "    <tr>\n",
       "      <th>9</th>\n",
       "      <td>812</td>\n",
       "      <td>sesssion 11</td>\n",
       "      <td>DFAMinFS</td>\n",
       "      <td>0.277778</td>\n",
       "      <td>0.722222</td>\n",
       "      <td>0.056</td>\n",
       "      <td>0.500</td>\n",
       "      <td>0</td>\n",
       "      <td>1</td>\n",
       "      <td>22.0</td>\n",
       "    </tr>\n",
       "    <tr>\n",
       "      <th>10</th>\n",
       "      <td>812</td>\n",
       "      <td>sesssion 12</td>\n",
       "      <td>DFAMinEx1FS</td>\n",
       "      <td>0.045455</td>\n",
       "      <td>0.954545</td>\n",
       "      <td>0.000</td>\n",
       "      <td>0.864</td>\n",
       "      <td>0</td>\n",
       "      <td>1</td>\n",
       "      <td>20.0</td>\n",
       "    </tr>\n",
       "    <tr>\n",
       "      <th>11</th>\n",
       "      <td>812</td>\n",
       "      <td>sesssion 13</td>\n",
       "      <td>DFAMinEx2FS</td>\n",
       "      <td>0.040000</td>\n",
       "      <td>0.960000</td>\n",
       "      <td>0.000</td>\n",
       "      <td>0.880</td>\n",
       "      <td>0</td>\n",
       "      <td>1</td>\n",
       "      <td>16.5</td>\n",
       "    </tr>\n",
       "    <tr>\n",
       "      <th>...</th>\n",
       "      <td>...</td>\n",
       "      <td>...</td>\n",
       "      <td>...</td>\n",
       "      <td>...</td>\n",
       "      <td>...</td>\n",
       "      <td>...</td>\n",
       "      <td>...</td>\n",
       "      <td>...</td>\n",
       "      <td>...</td>\n",
       "      <td>...</td>\n",
       "    </tr>\n",
       "    <tr>\n",
       "      <th>8667</th>\n",
       "      <td>13695</td>\n",
       "      <td>sesssion 9724</td>\n",
       "      <td>DFAMinFS</td>\n",
       "      <td>0.416667</td>\n",
       "      <td>0.583333</td>\n",
       "      <td>0.167</td>\n",
       "      <td>0.292</td>\n",
       "      <td>0</td>\n",
       "      <td>1</td>\n",
       "      <td>9.0</td>\n",
       "    </tr>\n",
       "    <tr>\n",
       "      <th>8668</th>\n",
       "      <td>13695</td>\n",
       "      <td>sesssion 9725</td>\n",
       "      <td>DFAMinEx1FS</td>\n",
       "      <td>0.212121</td>\n",
       "      <td>0.757576</td>\n",
       "      <td>0.061</td>\n",
       "      <td>0.545</td>\n",
       "      <td>1</td>\n",
       "      <td>1</td>\n",
       "      <td>12.5</td>\n",
       "    </tr>\n",
       "    <tr>\n",
       "      <th>8669</th>\n",
       "      <td>13695</td>\n",
       "      <td>sesssion 9726</td>\n",
       "      <td>DFAMinEx2FS</td>\n",
       "      <td>0.333333</td>\n",
       "      <td>0.641026</td>\n",
       "      <td>0.026</td>\n",
       "      <td>0.282</td>\n",
       "      <td>1</td>\n",
       "      <td>1</td>\n",
       "      <td>6.5</td>\n",
       "    </tr>\n",
       "    <tr>\n",
       "      <th>8670</th>\n",
       "      <td>13695</td>\n",
       "      <td>sesssion 9727</td>\n",
       "      <td>RegExFS</td>\n",
       "      <td>0.421053</td>\n",
       "      <td>0.578947</td>\n",
       "      <td>0.263</td>\n",
       "      <td>0.395</td>\n",
       "      <td>0</td>\n",
       "      <td>1</td>\n",
       "      <td>16.0</td>\n",
       "    </tr>\n",
       "    <tr>\n",
       "      <th>8671</th>\n",
       "      <td>13695</td>\n",
       "      <td>sesssion 9728</td>\n",
       "      <td>RegEx2NFA1FS</td>\n",
       "      <td>0.200000</td>\n",
       "      <td>0.800000</td>\n",
       "      <td>0.000</td>\n",
       "      <td>0.500</td>\n",
       "      <td>0</td>\n",
       "      <td>1</td>\n",
       "      <td>7.0</td>\n",
       "    </tr>\n",
       "    <tr>\n",
       "      <th>8672</th>\n",
       "      <td>13695</td>\n",
       "      <td>sesssion 9729</td>\n",
       "      <td>RegEx2NFAorFS</td>\n",
       "      <td>0.142857</td>\n",
       "      <td>0.857143</td>\n",
       "      <td>0.000</td>\n",
       "      <td>0.571</td>\n",
       "      <td>0</td>\n",
       "      <td>1</td>\n",
       "      <td>5.5</td>\n",
       "    </tr>\n",
       "    <tr>\n",
       "      <th>8673</th>\n",
       "      <td>13695</td>\n",
       "      <td>sesssion 9730</td>\n",
       "      <td>RegEx2NFAcatFS</td>\n",
       "      <td>0.333333</td>\n",
       "      <td>0.666667</td>\n",
       "      <td>0.000</td>\n",
       "      <td>0.250</td>\n",
       "      <td>0</td>\n",
       "      <td>1</td>\n",
       "      <td>5.0</td>\n",
       "    </tr>\n",
       "    <tr>\n",
       "      <th>8674</th>\n",
       "      <td>13695</td>\n",
       "      <td>sesssion 9731</td>\n",
       "      <td>RegEx2NFAstarFS</td>\n",
       "      <td>0.142857</td>\n",
       "      <td>0.857143</td>\n",
       "      <td>0.000</td>\n",
       "      <td>0.571</td>\n",
       "      <td>0</td>\n",
       "      <td>1</td>\n",
       "      <td>8.0</td>\n",
       "    </tr>\n",
       "    <tr>\n",
       "      <th>8675</th>\n",
       "      <td>13695</td>\n",
       "      <td>sesssion 9732</td>\n",
       "      <td>RegEx2NFAExampleFS</td>\n",
       "      <td>0.782609</td>\n",
       "      <td>0.217391</td>\n",
       "      <td>0.609</td>\n",
       "      <td>0.043</td>\n",
       "      <td>0</td>\n",
       "      <td>1</td>\n",
       "      <td>3.0</td>\n",
       "    </tr>\n",
       "    <tr>\n",
       "      <th>8676</th>\n",
       "      <td>13695</td>\n",
       "      <td>sesssion 9733</td>\n",
       "      <td>PDAFS</td>\n",
       "      <td>0.181818</td>\n",
       "      <td>0.818182</td>\n",
       "      <td>0.000</td>\n",
       "      <td>0.545</td>\n",
       "      <td>0</td>\n",
       "      <td>1</td>\n",
       "      <td>18.5</td>\n",
       "    </tr>\n",
       "    <tr>\n",
       "      <th>8677</th>\n",
       "      <td>13695</td>\n",
       "      <td>sesssion 9734</td>\n",
       "      <td>PDATransitionsFS</td>\n",
       "      <td>0.150000</td>\n",
       "      <td>0.850000</td>\n",
       "      <td>0.000</td>\n",
       "      <td>0.650</td>\n",
       "      <td>0</td>\n",
       "      <td>1</td>\n",
       "      <td>10.0</td>\n",
       "    </tr>\n",
       "    <tr>\n",
       "      <th>8678</th>\n",
       "      <td>13695</td>\n",
       "      <td>sesssion 9736</td>\n",
       "      <td>CFLFS</td>\n",
       "      <td>0.944444</td>\n",
       "      <td>0.055556</td>\n",
       "      <td>0.833</td>\n",
       "      <td>0.000</td>\n",
       "      <td>0</td>\n",
       "      <td>1</td>\n",
       "      <td>8.0</td>\n",
       "    </tr>\n",
       "  </tbody>\n",
       "</table>\n",
       "<p>8679 rows × 10 columns</p>\n",
       "</div>"
      ],
      "text/plain": [
       "      user_id session_number  curr_frameset_name  Percentage_incorrects  \\\n",
       "0         812     sesssion 2          LanguageFS               0.114286   \n",
       "1         812     sesssion 3      GrammarIntroFS               0.250000   \n",
       "2         812     sesssion 4      GrammarIntroFS               0.210526   \n",
       "3         812     sesssion 5         RelationsFS               0.400000   \n",
       "4         812     sesssion 6             EquivFS               0.333333   \n",
       "5         812     sesssion 7          DFAintroFS               0.839080   \n",
       "6         812     sesssion 8       DFAadvancedFS               0.000000   \n",
       "7         812     sesssion 9               NFAFS               0.533333   \n",
       "8         812    sesssion 10    NFA2DFAlargeExFS               0.000000   \n",
       "9         812    sesssion 11            DFAMinFS               0.277778   \n",
       "10        812    sesssion 12         DFAMinEx1FS               0.045455   \n",
       "11        812    sesssion 13         DFAMinEx2FS               0.040000   \n",
       "...       ...            ...                 ...                    ...   \n",
       "8667    13695  sesssion 9724            DFAMinFS               0.416667   \n",
       "8668    13695  sesssion 9725         DFAMinEx1FS               0.212121   \n",
       "8669    13695  sesssion 9726         DFAMinEx2FS               0.333333   \n",
       "8670    13695  sesssion 9727             RegExFS               0.421053   \n",
       "8671    13695  sesssion 9728        RegEx2NFA1FS               0.200000   \n",
       "8672    13695  sesssion 9729       RegEx2NFAorFS               0.142857   \n",
       "8673    13695  sesssion 9730      RegEx2NFAcatFS               0.333333   \n",
       "8674    13695  sesssion 9731     RegEx2NFAstarFS               0.142857   \n",
       "8675    13695  sesssion 9732  RegEx2NFAExampleFS               0.782609   \n",
       "8676    13695  sesssion 9733               PDAFS               0.181818   \n",
       "8677    13695  sesssion 9734    PDATransitionsFS               0.150000   \n",
       "8678    13695  sesssion 9736               CFLFS               0.944444   \n",
       "\n",
       "      Percentage_corrects  percent_consecutive_incorrect_interactions  \\\n",
       "0                0.885714                                       0.000   \n",
       "1                0.750000                                       0.083   \n",
       "2                0.789474                                       0.053   \n",
       "3                0.550000                                       0.200   \n",
       "4                0.666667                                       0.167   \n",
       "5                0.160920                                       0.816   \n",
       "6                1.000000                                       0.000   \n",
       "7                0.466667                                       0.367   \n",
       "8                1.000000                                       0.000   \n",
       "9                0.722222                                       0.056   \n",
       "10               0.954545                                       0.000   \n",
       "11               0.960000                                       0.000   \n",
       "...                   ...                                         ...   \n",
       "8667             0.583333                                       0.167   \n",
       "8668             0.757576                                       0.061   \n",
       "8669             0.641026                                       0.026   \n",
       "8670             0.578947                                       0.263   \n",
       "8671             0.800000                                       0.000   \n",
       "8672             0.857143                                       0.000   \n",
       "8673             0.666667                                       0.000   \n",
       "8674             0.857143                                       0.000   \n",
       "8675             0.217391                                       0.609   \n",
       "8676             0.818182                                       0.000   \n",
       "8677             0.850000                                       0.000   \n",
       "8678             0.055556                                       0.833   \n",
       "\n",
       "      percent_consecutive_correct_interactions  n_backs  nth_trial_of_frame  \\\n",
       "0                                        0.771        0                   1   \n",
       "1                                        0.500        0                   1   \n",
       "2                                        0.579        0                   2   \n",
       "3                                        0.300        1                   1   \n",
       "4                                        0.333        0                   1   \n",
       "5                                        0.126        0                   1   \n",
       "6                                        0.909        0                   1   \n",
       "7                                        0.267        0                   1   \n",
       "8                                        0.938        0                   1   \n",
       "9                                        0.500        0                   1   \n",
       "10                                       0.864        0                   1   \n",
       "11                                       0.880        0                   1   \n",
       "...                                        ...      ...                 ...   \n",
       "8667                                     0.292        0                   1   \n",
       "8668                                     0.545        1                   1   \n",
       "8669                                     0.282        1                   1   \n",
       "8670                                     0.395        0                   1   \n",
       "8671                                     0.500        0                   1   \n",
       "8672                                     0.571        0                   1   \n",
       "8673                                     0.250        0                   1   \n",
       "8674                                     0.571        0                   1   \n",
       "8675                                     0.043        0                   1   \n",
       "8676                                     0.545        0                   1   \n",
       "8677                                     0.650        0                   1   \n",
       "8678                                     0.000        0                   1   \n",
       "\n",
       "      time_between_median  \n",
       "0                    13.5  \n",
       "1                     7.0  \n",
       "2                    19.5  \n",
       "3                     6.0  \n",
       "4                    79.0  \n",
       "5                     1.0  \n",
       "6                    17.5  \n",
       "7                    14.0  \n",
       "8                    11.0  \n",
       "9                    22.0  \n",
       "10                   20.0  \n",
       "11                   16.5  \n",
       "...                   ...  \n",
       "8667                  9.0  \n",
       "8668                 12.5  \n",
       "8669                  6.5  \n",
       "8670                 16.0  \n",
       "8671                  7.0  \n",
       "8672                  5.5  \n",
       "8673                  5.0  \n",
       "8674                  8.0  \n",
       "8675                  3.0  \n",
       "8676                 18.5  \n",
       "8677                 10.0  \n",
       "8678                  8.0  \n",
       "\n",
       "[8679 rows x 10 columns]"
      ]
     },
     "execution_count": 56,
     "metadata": {},
     "output_type": "execute_result"
    }
   ],
   "source": [
    "sessions_attributes_with_user_frameset"
   ]
  },
  {
   "cell_type": "markdown",
   "id": "49ac6a7d-f81d-4f9e-a8d6-0d1a0941f4e6",
   "metadata": {
    "tags": []
   },
   "source": [
    "# The Clustering Algorithm"
   ]
  },
  {
   "cell_type": "code",
   "execution_count": 2,
   "id": "08399e16-49e0-4128-bc4e-17aa95439b0b",
   "metadata": {},
   "outputs": [],
   "source": [
    "from sklearn.cluster import KMeans\n",
    "from sklearn.decomposition import PCA\n",
    "from sklearn.manifold import TSNE\n",
    "from sklearn.preprocessing import MinMaxScaler, StandardScaler\n",
    "from sklearn.metrics import silhouette_score\n",
    "import skfuzzy as fuzz\n",
    "from fcmeans import FCM\n"
   ]
  },
  {
   "cell_type": "code",
   "execution_count": 3,
   "id": "fb4d4f63-18d8-48a5-b95a-5d353658d1e3",
   "metadata": {},
   "outputs": [
    {
     "data": {
      "text/plain": [
       "Index(['cluster', 'user_id', 'session_number', 'curr_frameset_name',\n",
       "       'Percentage_incorrects', 'Percentage_corrects',\n",
       "       'percent_consecutive_incorrect_interactions',\n",
       "       'percent_consecutive_correct_interactions', 'n_backs',\n",
       "       'nth_trial_of_frame', 'time_between_median'],\n",
       "      dtype='object')"
      ]
     },
     "execution_count": 3,
     "metadata": {},
     "output_type": "execute_result"
    }
   ],
   "source": [
    "df = pd.read_csv(\"Clustered_Sessions_FCM.csv\")\n",
    "df.columns"
   ]
  },
  {
   "cell_type": "code",
   "execution_count": 4,
   "id": "221daa4e-bfdc-4956-a60b-c073af0d8c49",
   "metadata": {},
   "outputs": [],
   "source": [
    "df.columns\n",
    "sessions_attributes = df[['Percentage_incorrects',\n",
    " 'Percentage_corrects',\n",
    " 'percent_consecutive_incorrect_interactions',\n",
    " 'percent_consecutive_correct_interactions',\n",
    " 'n_backs',\n",
    " 'nth_trial_of_frame',\n",
    " 'time_between_median']]"
   ]
  },
  {
   "cell_type": "code",
   "execution_count": 5,
   "id": "30a88a86-6200-458d-890f-a3550662ef36",
   "metadata": {
    "tags": []
   },
   "outputs": [
    {
     "data": {
      "text/html": [
       "<div>\n",
       "<style scoped>\n",
       "    .dataframe tbody tr th:only-of-type {\n",
       "        vertical-align: middle;\n",
       "    }\n",
       "\n",
       "    .dataframe tbody tr th {\n",
       "        vertical-align: top;\n",
       "    }\n",
       "\n",
       "    .dataframe thead th {\n",
       "        text-align: right;\n",
       "    }\n",
       "</style>\n",
       "<table border=\"1\" class=\"dataframe\">\n",
       "  <thead>\n",
       "    <tr style=\"text-align: right;\">\n",
       "      <th></th>\n",
       "      <th>Percentage_incorrects</th>\n",
       "      <th>Percentage_corrects</th>\n",
       "      <th>percent_consecutive_incorrect_interactions</th>\n",
       "      <th>percent_consecutive_correct_interactions</th>\n",
       "      <th>n_backs</th>\n",
       "      <th>nth_trial_of_frame</th>\n",
       "      <th>time_between_median</th>\n",
       "    </tr>\n",
       "  </thead>\n",
       "  <tbody>\n",
       "    <tr>\n",
       "      <th>0</th>\n",
       "      <td>0.114286</td>\n",
       "      <td>0.885714</td>\n",
       "      <td>0.000</td>\n",
       "      <td>0.771</td>\n",
       "      <td>0</td>\n",
       "      <td>1</td>\n",
       "      <td>13.5</td>\n",
       "    </tr>\n",
       "    <tr>\n",
       "      <th>1</th>\n",
       "      <td>0.250000</td>\n",
       "      <td>0.750000</td>\n",
       "      <td>0.083</td>\n",
       "      <td>0.500</td>\n",
       "      <td>0</td>\n",
       "      <td>1</td>\n",
       "      <td>7.0</td>\n",
       "    </tr>\n",
       "    <tr>\n",
       "      <th>2</th>\n",
       "      <td>0.210526</td>\n",
       "      <td>0.789474</td>\n",
       "      <td>0.053</td>\n",
       "      <td>0.579</td>\n",
       "      <td>0</td>\n",
       "      <td>2</td>\n",
       "      <td>19.5</td>\n",
       "    </tr>\n",
       "    <tr>\n",
       "      <th>3</th>\n",
       "      <td>0.400000</td>\n",
       "      <td>0.550000</td>\n",
       "      <td>0.200</td>\n",
       "      <td>0.300</td>\n",
       "      <td>1</td>\n",
       "      <td>1</td>\n",
       "      <td>6.0</td>\n",
       "    </tr>\n",
       "    <tr>\n",
       "      <th>4</th>\n",
       "      <td>0.333333</td>\n",
       "      <td>0.666667</td>\n",
       "      <td>0.167</td>\n",
       "      <td>0.333</td>\n",
       "      <td>0</td>\n",
       "      <td>1</td>\n",
       "      <td>79.0</td>\n",
       "    </tr>\n",
       "    <tr>\n",
       "      <th>5</th>\n",
       "      <td>0.839080</td>\n",
       "      <td>0.160920</td>\n",
       "      <td>0.816</td>\n",
       "      <td>0.126</td>\n",
       "      <td>0</td>\n",
       "      <td>1</td>\n",
       "      <td>1.0</td>\n",
       "    </tr>\n",
       "    <tr>\n",
       "      <th>6</th>\n",
       "      <td>0.000000</td>\n",
       "      <td>1.000000</td>\n",
       "      <td>0.000</td>\n",
       "      <td>0.909</td>\n",
       "      <td>0</td>\n",
       "      <td>1</td>\n",
       "      <td>17.5</td>\n",
       "    </tr>\n",
       "    <tr>\n",
       "      <th>7</th>\n",
       "      <td>0.533333</td>\n",
       "      <td>0.466667</td>\n",
       "      <td>0.367</td>\n",
       "      <td>0.267</td>\n",
       "      <td>0</td>\n",
       "      <td>1</td>\n",
       "      <td>14.0</td>\n",
       "    </tr>\n",
       "    <tr>\n",
       "      <th>8</th>\n",
       "      <td>0.000000</td>\n",
       "      <td>1.000000</td>\n",
       "      <td>0.000</td>\n",
       "      <td>0.938</td>\n",
       "      <td>0</td>\n",
       "      <td>1</td>\n",
       "      <td>11.0</td>\n",
       "    </tr>\n",
       "    <tr>\n",
       "      <th>9</th>\n",
       "      <td>0.277778</td>\n",
       "      <td>0.722222</td>\n",
       "      <td>0.056</td>\n",
       "      <td>0.500</td>\n",
       "      <td>0</td>\n",
       "      <td>1</td>\n",
       "      <td>22.0</td>\n",
       "    </tr>\n",
       "    <tr>\n",
       "      <th>10</th>\n",
       "      <td>0.045455</td>\n",
       "      <td>0.954545</td>\n",
       "      <td>0.000</td>\n",
       "      <td>0.864</td>\n",
       "      <td>0</td>\n",
       "      <td>1</td>\n",
       "      <td>20.0</td>\n",
       "    </tr>\n",
       "    <tr>\n",
       "      <th>11</th>\n",
       "      <td>0.040000</td>\n",
       "      <td>0.960000</td>\n",
       "      <td>0.000</td>\n",
       "      <td>0.880</td>\n",
       "      <td>0</td>\n",
       "      <td>1</td>\n",
       "      <td>16.5</td>\n",
       "    </tr>\n",
       "    <tr>\n",
       "      <th>...</th>\n",
       "      <td>...</td>\n",
       "      <td>...</td>\n",
       "      <td>...</td>\n",
       "      <td>...</td>\n",
       "      <td>...</td>\n",
       "      <td>...</td>\n",
       "      <td>...</td>\n",
       "    </tr>\n",
       "    <tr>\n",
       "      <th>8667</th>\n",
       "      <td>0.416667</td>\n",
       "      <td>0.583333</td>\n",
       "      <td>0.167</td>\n",
       "      <td>0.292</td>\n",
       "      <td>0</td>\n",
       "      <td>1</td>\n",
       "      <td>9.0</td>\n",
       "    </tr>\n",
       "    <tr>\n",
       "      <th>8668</th>\n",
       "      <td>0.212121</td>\n",
       "      <td>0.757576</td>\n",
       "      <td>0.061</td>\n",
       "      <td>0.545</td>\n",
       "      <td>1</td>\n",
       "      <td>1</td>\n",
       "      <td>12.5</td>\n",
       "    </tr>\n",
       "    <tr>\n",
       "      <th>8669</th>\n",
       "      <td>0.333333</td>\n",
       "      <td>0.641026</td>\n",
       "      <td>0.026</td>\n",
       "      <td>0.282</td>\n",
       "      <td>1</td>\n",
       "      <td>1</td>\n",
       "      <td>6.5</td>\n",
       "    </tr>\n",
       "    <tr>\n",
       "      <th>8670</th>\n",
       "      <td>0.421053</td>\n",
       "      <td>0.578947</td>\n",
       "      <td>0.263</td>\n",
       "      <td>0.395</td>\n",
       "      <td>0</td>\n",
       "      <td>1</td>\n",
       "      <td>16.0</td>\n",
       "    </tr>\n",
       "    <tr>\n",
       "      <th>8671</th>\n",
       "      <td>0.200000</td>\n",
       "      <td>0.800000</td>\n",
       "      <td>0.000</td>\n",
       "      <td>0.500</td>\n",
       "      <td>0</td>\n",
       "      <td>1</td>\n",
       "      <td>7.0</td>\n",
       "    </tr>\n",
       "    <tr>\n",
       "      <th>8672</th>\n",
       "      <td>0.142857</td>\n",
       "      <td>0.857143</td>\n",
       "      <td>0.000</td>\n",
       "      <td>0.571</td>\n",
       "      <td>0</td>\n",
       "      <td>1</td>\n",
       "      <td>5.5</td>\n",
       "    </tr>\n",
       "    <tr>\n",
       "      <th>8673</th>\n",
       "      <td>0.333333</td>\n",
       "      <td>0.666667</td>\n",
       "      <td>0.000</td>\n",
       "      <td>0.250</td>\n",
       "      <td>0</td>\n",
       "      <td>1</td>\n",
       "      <td>5.0</td>\n",
       "    </tr>\n",
       "    <tr>\n",
       "      <th>8674</th>\n",
       "      <td>0.142857</td>\n",
       "      <td>0.857143</td>\n",
       "      <td>0.000</td>\n",
       "      <td>0.571</td>\n",
       "      <td>0</td>\n",
       "      <td>1</td>\n",
       "      <td>8.0</td>\n",
       "    </tr>\n",
       "    <tr>\n",
       "      <th>8675</th>\n",
       "      <td>0.782609</td>\n",
       "      <td>0.217391</td>\n",
       "      <td>0.609</td>\n",
       "      <td>0.043</td>\n",
       "      <td>0</td>\n",
       "      <td>1</td>\n",
       "      <td>3.0</td>\n",
       "    </tr>\n",
       "    <tr>\n",
       "      <th>8676</th>\n",
       "      <td>0.181818</td>\n",
       "      <td>0.818182</td>\n",
       "      <td>0.000</td>\n",
       "      <td>0.545</td>\n",
       "      <td>0</td>\n",
       "      <td>1</td>\n",
       "      <td>18.5</td>\n",
       "    </tr>\n",
       "    <tr>\n",
       "      <th>8677</th>\n",
       "      <td>0.150000</td>\n",
       "      <td>0.850000</td>\n",
       "      <td>0.000</td>\n",
       "      <td>0.650</td>\n",
       "      <td>0</td>\n",
       "      <td>1</td>\n",
       "      <td>10.0</td>\n",
       "    </tr>\n",
       "    <tr>\n",
       "      <th>8678</th>\n",
       "      <td>0.944444</td>\n",
       "      <td>0.055556</td>\n",
       "      <td>0.833</td>\n",
       "      <td>0.000</td>\n",
       "      <td>0</td>\n",
       "      <td>1</td>\n",
       "      <td>8.0</td>\n",
       "    </tr>\n",
       "  </tbody>\n",
       "</table>\n",
       "<p>8679 rows × 7 columns</p>\n",
       "</div>"
      ],
      "text/plain": [
       "      Percentage_incorrects  Percentage_corrects  \\\n",
       "0                  0.114286             0.885714   \n",
       "1                  0.250000             0.750000   \n",
       "2                  0.210526             0.789474   \n",
       "3                  0.400000             0.550000   \n",
       "4                  0.333333             0.666667   \n",
       "5                  0.839080             0.160920   \n",
       "6                  0.000000             1.000000   \n",
       "7                  0.533333             0.466667   \n",
       "8                  0.000000             1.000000   \n",
       "9                  0.277778             0.722222   \n",
       "10                 0.045455             0.954545   \n",
       "11                 0.040000             0.960000   \n",
       "...                     ...                  ...   \n",
       "8667               0.416667             0.583333   \n",
       "8668               0.212121             0.757576   \n",
       "8669               0.333333             0.641026   \n",
       "8670               0.421053             0.578947   \n",
       "8671               0.200000             0.800000   \n",
       "8672               0.142857             0.857143   \n",
       "8673               0.333333             0.666667   \n",
       "8674               0.142857             0.857143   \n",
       "8675               0.782609             0.217391   \n",
       "8676               0.181818             0.818182   \n",
       "8677               0.150000             0.850000   \n",
       "8678               0.944444             0.055556   \n",
       "\n",
       "      percent_consecutive_incorrect_interactions  \\\n",
       "0                                          0.000   \n",
       "1                                          0.083   \n",
       "2                                          0.053   \n",
       "3                                          0.200   \n",
       "4                                          0.167   \n",
       "5                                          0.816   \n",
       "6                                          0.000   \n",
       "7                                          0.367   \n",
       "8                                          0.000   \n",
       "9                                          0.056   \n",
       "10                                         0.000   \n",
       "11                                         0.000   \n",
       "...                                          ...   \n",
       "8667                                       0.167   \n",
       "8668                                       0.061   \n",
       "8669                                       0.026   \n",
       "8670                                       0.263   \n",
       "8671                                       0.000   \n",
       "8672                                       0.000   \n",
       "8673                                       0.000   \n",
       "8674                                       0.000   \n",
       "8675                                       0.609   \n",
       "8676                                       0.000   \n",
       "8677                                       0.000   \n",
       "8678                                       0.833   \n",
       "\n",
       "      percent_consecutive_correct_interactions  n_backs  nth_trial_of_frame  \\\n",
       "0                                        0.771        0                   1   \n",
       "1                                        0.500        0                   1   \n",
       "2                                        0.579        0                   2   \n",
       "3                                        0.300        1                   1   \n",
       "4                                        0.333        0                   1   \n",
       "5                                        0.126        0                   1   \n",
       "6                                        0.909        0                   1   \n",
       "7                                        0.267        0                   1   \n",
       "8                                        0.938        0                   1   \n",
       "9                                        0.500        0                   1   \n",
       "10                                       0.864        0                   1   \n",
       "11                                       0.880        0                   1   \n",
       "...                                        ...      ...                 ...   \n",
       "8667                                     0.292        0                   1   \n",
       "8668                                     0.545        1                   1   \n",
       "8669                                     0.282        1                   1   \n",
       "8670                                     0.395        0                   1   \n",
       "8671                                     0.500        0                   1   \n",
       "8672                                     0.571        0                   1   \n",
       "8673                                     0.250        0                   1   \n",
       "8674                                     0.571        0                   1   \n",
       "8675                                     0.043        0                   1   \n",
       "8676                                     0.545        0                   1   \n",
       "8677                                     0.650        0                   1   \n",
       "8678                                     0.000        0                   1   \n",
       "\n",
       "      time_between_median  \n",
       "0                    13.5  \n",
       "1                     7.0  \n",
       "2                    19.5  \n",
       "3                     6.0  \n",
       "4                    79.0  \n",
       "5                     1.0  \n",
       "6                    17.5  \n",
       "7                    14.0  \n",
       "8                    11.0  \n",
       "9                    22.0  \n",
       "10                   20.0  \n",
       "11                   16.5  \n",
       "...                   ...  \n",
       "8667                  9.0  \n",
       "8668                 12.5  \n",
       "8669                  6.5  \n",
       "8670                 16.0  \n",
       "8671                  7.0  \n",
       "8672                  5.5  \n",
       "8673                  5.0  \n",
       "8674                  8.0  \n",
       "8675                  3.0  \n",
       "8676                 18.5  \n",
       "8677                 10.0  \n",
       "8678                  8.0  \n",
       "\n",
       "[8679 rows x 7 columns]"
      ]
     },
     "execution_count": 5,
     "metadata": {},
     "output_type": "execute_result"
    }
   ],
   "source": [
    "sessions_attributes"
   ]
  },
  {
   "cell_type": "code",
   "execution_count": 6,
   "id": "3641cb57-272d-4258-9510-9386fbb61fc6",
   "metadata": {},
   "outputs": [],
   "source": [
    "traces_attributes = np.asarray(sessions_attributes)\n",
    "traces_attributes_standardized = StandardScaler().fit_transform(traces_attributes)\n",
    "traces_attributes_centered = StandardScaler(with_std=False).fit_transform(traces_attributes)\n",
    "traces_attributes_minmax = MinMaxScaler().fit_transform(traces_attributes)"
   ]
  },
  {
   "cell_type": "code",
   "execution_count": 7,
   "id": "5e29f489-b7e3-41d8-a73d-9363adeb4a3a",
   "metadata": {},
   "outputs": [
    {
     "data": {
      "text/plain": [
       "(8679, 7)"
      ]
     },
     "execution_count": 7,
     "metadata": {},
     "output_type": "execute_result"
    }
   ],
   "source": [
    "traces_attributes.shape"
   ]
  },
  {
   "cell_type": "code",
   "execution_count": null,
   "id": "367b0275-ea9d-45e2-9734-cf00646f4647",
   "metadata": {
    "tags": []
   },
   "outputs": [
    {
     "name": "stderr",
     "output_type": "stream",
     "text": [
      "C:\\Users\\Yusuf\\AppData\\Local\\Programs\\Python\\Python310\\lib\\site-packages\\sklearn\\manifold\\_t_sne.py:790: FutureWarning: The default learning rate in TSNE will change from 200.0 to 'auto' in 1.2.\n",
      "  warnings.warn(\n",
      "C:\\Users\\Yusuf\\AppData\\Local\\Programs\\Python\\Python310\\lib\\site-packages\\sklearn\\manifold\\_t_sne.py:982: FutureWarning: The PCA initialization in TSNE will change to have the standard deviation of PC1 equal to 1e-4 in 1.2. This will ensure better convergence.\n",
      "  warnings.warn(\n"
     ]
    }
   ],
   "source": [
    "X_embedded = TSNE(n_components=2, init=\"pca\").fit_transform(sessions_attributes)"
   ]
  },
  {
   "cell_type": "code",
   "execution_count": null,
   "id": "f51fe2fa-d781-4ba3-aeca-06fb2d119435",
   "metadata": {},
   "outputs": [],
   "source": [
    "pca_model = PCA(n_components=2).fit(traces_attributes_standardized)\n",
    "X_pca = pca_model.transform(traces_attributes_standardized)\n",
    "pca_model.explained_variance_ratio_ , sum(pca_model.explained_variance_ratio_) #69.6"
   ]
  },
  {
   "cell_type": "code",
   "execution_count": null,
   "id": "5d7c26bf-ffa1-4eca-9b1f-4661ec9166e5",
   "metadata": {},
   "outputs": [],
   "source": [
    "traces_attributes_standardized.shape"
   ]
  },
  {
   "cell_type": "code",
   "execution_count": 17,
   "id": "09abe14a-c4d8-44ab-a29e-46e091ed3799",
   "metadata": {},
   "outputs": [
    {
     "data": {
      "text/plain": [
       "['Percentage_incorrects',\n",
       " 'Percentage_corrects',\n",
       " 'percent_consecutive_incorrect_interactions',\n",
       " 'percent_consecutive_correct_interactions',\n",
       " 'n_backs',\n",
       " 'nth_trial_of_frame',\n",
       " 'time_between_median']"
      ]
     },
     "execution_count": 17,
     "metadata": {},
     "output_type": "execute_result"
    }
   ],
   "source": [
    "clusters_attributes"
   ]
  },
  {
   "cell_type": "markdown",
   "id": "03084d80-2100-4bd3-8545-af98589876cd",
   "metadata": {},
   "source": [
    "## Fuzzy C-Means"
   ]
  },
  {
   "cell_type": "code",
   "execution_count": 18,
   "id": "a1804ba7-9ffe-4573-a3d4-71cbbb3ae867",
   "metadata": {},
   "outputs": [
    {
     "name": "stdout",
     "output_type": "stream",
     "text": [
      "2 0.7910937993093714 0.4953626302268273\n",
      "3 0.7001797649607631 0.4177935356764132\n",
      "4 0.6678649062390584 0.46673025208409386\n",
      "5 0.6342557361384776 0.4232903698677014\n",
      "6 0.6074590391645487 0.39519876196619674\n",
      "7 0.587006794684324 0.37764913346438106\n",
      "8 0.5692123914270371 0.3584934247130146\n",
      "9 0.5754731024080489 0.40528420691850187\n",
      "10 0.569970835580709 0.3837669600664287\n",
      "11 0.5687213199089101 0.40369792410851857\n",
      "12 0.5595897134135305 0.3766812153112008\n"
     ]
    }
   ],
   "source": [
    "fpcs = []\n",
    "silhouettes = []\n",
    "for i in range(2,13):\n",
    "    ncenters = i\n",
    "    alldata = X_pca\n",
    "    cntr, u, u0, d, jm, p, fpc = fuzz.cluster.cmeans(\n",
    "            alldata.T, ncenters , 2, error=0.005, maxiter=1000, init=None)\n",
    "    fcm_labels = np.argmax(u, axis=0)\n",
    "    sil = silhouette_score(X_pca, fcm_labels)\n",
    "    silhouettes.append(sil)\n",
    "    fpcs.append(fpc)\n",
    "    print(i, fpc, sil)"
   ]
  },
  {
   "cell_type": "code",
   "execution_count": 17,
   "id": "1a7a6bb6-b198-4db4-8783-e4df337b6460",
   "metadata": {},
   "outputs": [
    {
     "data": {
      "text/plain": [
       "(0.4953626302268273, 0.7910914825037535)"
      ]
     },
     "execution_count": 17,
     "metadata": {},
     "output_type": "execute_result"
    }
   ],
   "source": [
    "ncenters = 2\n",
    "alldata = X_pca\n",
    "cntr, u, u0, d, jm, p, fpc = fuzz.cluster.cmeans(\n",
    "        alldata.T, ncenters , 2, error=0.005, maxiter=1000, init=None)\n",
    "fcm_labels = np.argmax(u, axis=0)\n",
    "sil = silhouette_score(X_pca, fcm_labels)\n",
    "sil, fpc\n",
    "# (0.4953626302268621, 0.7910909886058047)"
   ]
  },
  {
   "cell_type": "code",
   "execution_count": 19,
   "id": "d804362f-7794-4c34-af3f-84ba900120bf",
   "metadata": {
    "tags": []
   },
   "outputs": [
    {
     "name": "stderr",
     "output_type": "stream",
     "text": [
      "C:\\Users\\Yusuf\\AppData\\Local\\Programs\\Python\\Python310\\lib\\site-packages\\seaborn\\_decorators.py:36: FutureWarning: Pass the following variables as keyword args: x, y. From version 0.12, the only valid positional argument will be `data`, and passing other arguments without an explicit keyword will result in an error or misinterpretation.\n",
      "  warnings.warn(\n"
     ]
    },
    {
     "data": {
      "image/png": "[encoded data removed]",
      "text/plain": [
       "<Figure size 756x468 with 1 Axes>"
      ]
     },
     "metadata": {},
     "output_type": "display_data"
    }
   ],
   "source": [
    "sns.set_style(\"white\")\n",
    "\n",
    "fig, ax = plt.subplots(figsize=(10.5, 6.5))\n",
    "plt.axvline(2, 0,1, linestyle='dashed', color='black',label='at k = 2, score = 0.791')\n",
    "\n",
    "gfg = sns.lineplot(\n",
    "    range(2,13) , fpcs, markers=True, dashes=False, marker='D'\n",
    ")\n",
    " \n",
    "\n",
    "\n",
    "gfg.set(\n",
    "    xlabel=\"k\",\n",
    "    ylabel=\"FPC score\",\n",
    "    # title=\"Fuzzy Power Control (FPC) Score for Fuzzy C-Means Clustering\",\n",
    "    # yticks=(np.arange(0,1.1,0.1)),\n",
    "    # xticks=(np.arange(min(fpcs), max(fpcs), 0.05)),\n",
    ")\n",
    "plt.legend(loc='upper right',  frameon=True,  shadow=True,prop={'size': 14})\n",
    "plt.grid()  \n",
    "fig.savefig(\"FPC_first_two.pdf\", facecolor=\"white\",dpi=500,)"
   ]
  },
  {
   "cell_type": "code",
   "execution_count": 20,
   "id": "6a515fc9-e7e6-49c8-902f-2700e1d26e1f",
   "metadata": {
    "tags": []
   },
   "outputs": [
    {
     "name": "stderr",
     "output_type": "stream",
     "text": [
      "C:\\Users\\Yusuf\\AppData\\Local\\Programs\\Python\\Python310\\lib\\site-packages\\seaborn\\_decorators.py:36: FutureWarning: Pass the following variables as keyword args: x, y. From version 0.12, the only valid positional argument will be `data`, and passing other arguments without an explicit keyword will result in an error or misinterpretation.\n",
      "  warnings.warn(\n"
     ]
    },
    {
     "data": {
      "image/png": "[encoded data removed]",
      "text/plain": [
       "<Figure size 756x468 with 1 Axes>"
      ]
     },
     "metadata": {},
     "output_type": "display_data"
    }
   ],
   "source": [
    "sns.set_style(\"white\")\n",
    "\n",
    "fig, ax = plt.subplots(figsize=(10.5, 6.5))\n",
    "plt.axvline(2, 0,1, linestyle='dashed', color='black',label='at k = 2, score = 0.495')\n",
    "\n",
    "gfg = sns.lineplot(\n",
    "    range(2,13) , silhouettes, markers=True, dashes=False, marker='D'\n",
    ")\n",
    " \n",
    "\n",
    "\n",
    "gfg.set(\n",
    "    xlabel=\"k\",\n",
    "    ylabel=\"silhouette score\",\n",
    "    # title=\"Silhouette Score for Fuzzy C-Means Clustering\",\n",
    "    # yticks=(np.arange(0,1.1,0.1)),\n",
    "    # xticks=(np.arange(min(fpcs), max(fpcs), 0.05)),\n",
    ")\n",
    "plt.legend(loc='upper right',  frameon=True,  shadow=True,prop={'size': 14})\n",
    "plt.grid()  \n",
    "fig.savefig(\"silhouette_first_two.pdf\", facecolor=\"white\",dpi=500,)"
   ]
  },
  {
   "cell_type": "code",
   "execution_count": 61,
   "id": "5c9dc8e0-16ee-4a64-909e-8ef012fd57d7",
   "metadata": {},
   "outputs": [
    {
     "data": {
      "text/plain": [
       "0.7910916432429076"
      ]
     },
     "execution_count": 61,
     "metadata": {},
     "output_type": "execute_result"
    }
   ],
   "source": [
    "ncenters =2\n",
    "alldata = X_pca\n",
    "cntr, u, u0, d, jm, p, fpc = fuzz.cluster.cmeans(\n",
    "        alldata.T, ncenters , 2, error=0.005, maxiter=1000, init=None)\n",
    "fpc"
   ]
  },
  {
   "cell_type": "code",
   "execution_count": 48,
   "id": "12ef0196-7104-428e-8758-feae92f2468d",
   "metadata": {},
   "outputs": [
    {
     "data": {
      "text/plain": [
       "array([[2.46649041, 2.38684717, 1.35487414, ..., 3.15725075, 0.46318765,\n",
       "        0.49282525],\n",
       "       [1.0438028 , 1.49097152, 2.004703  , ..., 0.78727684, 3.29963834,\n",
       "        3.64062467]])"
      ]
     },
     "execution_count": 48,
     "metadata": {},
     "output_type": "execute_result"
    }
   ],
   "source": [
    "d"
   ]
  },
  {
   "cell_type": "code",
   "execution_count": 67,
   "id": "850705e3-a381-4404-8b15-e7747ded2176",
   "metadata": {},
   "outputs": [],
   "source": [
    "import sklearn\n",
    "dist = sklearn.metrics.pairwise_distances(X_pca)"
   ]
  },
  {
   "cell_type": "code",
   "execution_count": 45,
   "id": "7527172a-1108-4d53-821e-d24506d6d097",
   "metadata": {},
   "outputs": [],
   "source": [
    "np.save('centers', cntr)"
   ]
  },
  {
   "cell_type": "code",
   "execution_count": 39,
   "id": "586ee7ff-955e-4785-8a3c-4e5d9b5ab363",
   "metadata": {},
   "outputs": [],
   "source": [
    "u, u0, d, jm, p, fpc= fuzz.cmeans_predict(X_pca.T, cntr, 2, error=0.005, maxiter=1000, init=None)"
   ]
  },
  {
   "cell_type": "code",
   "execution_count": 40,
   "id": "8418b408-c31e-4191-820f-4a8b5aa35cb2",
   "metadata": {},
   "outputs": [
    {
     "data": {
      "text/plain": [
       "0.797092577466105"
      ]
     },
     "execution_count": 40,
     "metadata": {},
     "output_type": "execute_result"
    }
   ],
   "source": [
    "fpc"
   ]
  },
  {
   "cell_type": "code",
   "execution_count": 42,
   "id": "6425aa52-6b9b-4d99-b1a7-09efca17d60c",
   "metadata": {},
   "outputs": [
    {
     "data": {
      "text/plain": [
       "('1:', 1373, '0:', 2637, 0.5115868549946267)"
      ]
     },
     "execution_count": 42,
     "metadata": {},
     "output_type": "execute_result"
    }
   ],
   "source": [
    "fcm_labels = np.argmax(u, axis=0)\n",
    "ones = np.sum(fcm_labels) # 1 is normal\n",
    "zeros = len(fcm_labels) - ones # 0 is credit-seeking\n",
    "'1:', ones, '0:', zeros, silhouette_score(X_pca, fcm_labels)"
   ]
  },
  {
   "cell_type": "code",
   "execution_count": 440,
   "id": "2b16bdae-3d12-4cbb-9885-f501dcaf22af",
   "metadata": {},
   "outputs": [],
   "source": [
    "fcm_labels = [\"Credit Seeking\" if x == 0 else \"Normal\" for x in fcm_labels]"
   ]
  },
  {
   "cell_type": "code",
   "execution_count": 441,
   "id": "2c757bf1-c9a8-4b6f-897e-0804d193f5cf",
   "metadata": {},
   "outputs": [],
   "source": [
    "Clustered_Sessions_FCM = pd.DataFrame(np.concatenate((np.expand_dims(fcm_labels, axis=1), sessions_attributes_with_user_frameset, ), 1,), \n",
    "                                  columns = ['cluster', 'user_id', 'session_number' , 'curr_frameset_name'] + clusters_attributes)"
   ]
  },
  {
   "cell_type": "code",
   "execution_count": 442,
   "id": "0fac0d7a-c997-4eae-8d4e-310ba8564e43",
   "metadata": {
    "tags": []
   },
   "outputs": [],
   "source": [
    "Clustered_Sessions_FCM.to_csv(\"Clustered_Sessions_FCM.csv\",  index=False)"
   ]
  },
  {
   "cell_type": "code",
   "execution_count": 43,
   "id": "1e642047-0452-45a2-8961-6fae2597d58e",
   "metadata": {
    "collapsed": true,
    "jupyter": {
     "outputs_hidden": true
    },
    "tags": []
   },
   "outputs": [
    {
     "ename": "NameError",
     "evalue": "name 'X_embedded' is not defined",
     "output_type": "error",
     "traceback": [
      "\u001b[1;31m---------------------------------------------------------------------------\u001b[0m",
      "\u001b[1;31mNameError\u001b[0m                                 Traceback (most recent call last)",
      "Input \u001b[1;32mIn [43]\u001b[0m, in \u001b[0;36m<module>\u001b[1;34m\u001b[0m\n\u001b[0;32m      1\u001b[0m fig, ax \u001b[38;5;241m=\u001b[39m plt\u001b[38;5;241m.\u001b[39msubplots(figsize\u001b[38;5;241m=\u001b[39m(\u001b[38;5;241m10.5\u001b[39m, \u001b[38;5;241m6.5\u001b[39m))\n\u001b[0;32m      2\u001b[0m ax \u001b[38;5;241m=\u001b[39m sns\u001b[38;5;241m.\u001b[39mscatterplot(\n\u001b[1;32m----> 3\u001b[0m     x\u001b[38;5;241m=\u001b[39m\u001b[43mX_embedded\u001b[49m[:, \u001b[38;5;241m0\u001b[39m], y\u001b[38;5;241m=\u001b[39mX_embedded[:, \u001b[38;5;241m1\u001b[39m], hue\u001b[38;5;241m=\u001b[39mu\u001b[38;5;241m.\u001b[39mT[:,\u001b[38;5;241m1\u001b[39m], s\u001b[38;5;241m=\u001b[39m\u001b[38;5;241m25\u001b[39m, palette\u001b[38;5;241m=\u001b[39m\u001b[38;5;124m\"\u001b[39m\u001b[38;5;124mviridis\u001b[39m\u001b[38;5;124m\"\u001b[39m, alpha\u001b[38;5;241m=\u001b[39m\u001b[38;5;241m.5\u001b[39m\n\u001b[0;32m      4\u001b[0m )\n",
      "\u001b[1;31mNameError\u001b[0m: name 'X_embedded' is not defined"
     ]
    },
    {
     "data": {
      "image/png": "[encoded data removed]",
      "text/plain": [
       "<Figure size 1050x650 with 1 Axes>"
      ]
     },
     "metadata": {},
     "output_type": "display_data"
    }
   ],
   "source": [
    "fig, ax = plt.subplots(figsize=(10.5, 6.5))\n",
    "ax = sns.scatterplot(\n",
    "    x=X_embedded[:, 0], y=X_embedded[:, 1], hue=u.T[:,1], s=25, palette=\"viridis\", alpha=.5\n",
    ")"
   ]
  },
  {
   "cell_type": "markdown",
   "id": "90cffd87-7168-4ede-87cc-ab9ac7779d09",
   "metadata": {
    "tags": []
   },
   "source": [
    "\n",
    "# Analyze Which Framesets attract Credit-Seeking"
   ]
  },
  {
   "cell_type": "code",
   "execution_count": null,
   "id": "479bdea7-b00d-4926-b50d-f4aaf9088473",
   "metadata": {},
   "outputs": [],
   "source": [
    "clusters_df = pd.read_csv(\"Clustered_Sessions.csv\")\n",
    "framesets_info_df = pd.read_csv(\n",
    "    \"Framesets_Info.csv\"\n",
    ")  ## We need to create a file that has information about each frameset, and how many times had been considered credit seeking\n",
    "\n",
    "framesets_info_df.set_index(\"FramesetName\")\n",
    "# frames_clustered --> The distinct n_users credit seeking for this frameset + sessions_count is the number of attempts (maybe many attempts for one user)\n",
    "\n",
    "temp_df = (\n",
    "    clusters_df[clusters_df[\"Cluster\"] == \"Credit Seeking\"]\n",
    "    .groupby([\"FramesetName\"], as_index=False)\n",
    "    .agg(\n",
    "        Users_count_CrSK=(\"UserID\", pd.Series.nunique),\n",
    "        Sessions_count_CrSk=(\"UserID\", \"count\"),\n",
    "    )\n",
    ")\n",
    "\n",
    "framesets_info_df = framesets_info_df.merge(temp_df, left_on=\"FramesetName\", right_on=\"FramesetName\", how='outer')\n",
    "# frames_clustered --> The distinct n_users normal behavior for this frameset + sessions_count is the number of attempts (maybe many attempts for one user)\n",
    "\n",
    "temp_df = (\n",
    "    clusters_df[clusters_df[\"Cluster\"] == \"Normal\"]\n",
    "    .groupby([\"FramesetName\"], as_index=False)\n",
    "    .agg(\n",
    "        Users_count_Nrml=(\"UserID\", pd.Series.nunique),\n",
    "        Sessions_count_Nrml=(\"UserID\", \"count\"),\n",
    "    )\n",
    ")\n",
    "framesets_info_df = framesets_info_df.merge(temp_df, left_on=\"FramesetName\", right_on=\"FramesetName\", how='outer')\n"
   ]
  },
  {
   "cell_type": "code",
   "execution_count": null,
   "id": "2f4196eb-54a2-4650-a30a-7cd0e52f2713",
   "metadata": {},
   "outputs": [],
   "source": [
    "len(clusters_df['UserID'].unique())"
   ]
  },
  {
   "cell_type": "code",
   "execution_count": null,
   "id": "97a73d57-2139-40f1-a842-c4f2433d0630",
   "metadata": {},
   "outputs": [],
   "source": [
    "framesets_info_df['Comments']= framesets_info_df['Comments'].fillna('')\n",
    "framesets_info_df['Users_count_CrSK']= framesets_info_df['Users_count_CrSK'].fillna(0)\n",
    "framesets_info_df['Sessions_count_CrSk']= framesets_info_df['Sessions_count_CrSk'].fillna(0)\n",
    "framesets_info_df['Users_count_Nrml']= framesets_info_df['Users_count_Nrml'].fillna(0)\n",
    "framesets_info_df['Sessions_count_Nrml']= framesets_info_df['Sessions_count_Nrml'].fillna(0)"
   ]
  },
  {
   "cell_type": "code",
   "execution_count": null,
   "id": "70cd7586-c2ad-437d-9a5c-0ef1ff27520f",
   "metadata": {},
   "outputs": [],
   "source": [
    "# The percentage isntead of just raw number of students\n",
    "# Percentage_Users_Attempted_CrSk --> Out of all users who attempted this frameset, What percentage of them did credit-seeking behavior\n",
    "# Percentage_Users_Out_of_All_CrSk --> Out of all users in my dataset, What percentage of them did credit-seeking behavior\n",
    "# Percentage_Sessions_CrSk --> Out of all sessions who attempted this frameset, What percentage of them did credit-seeking behavior\n",
    "framesets_info_df[\"Percentage_Users_Attempted_CrSk\"] = framesets_info_df['Users_count_CrSK'] /(framesets_info_df['Users_count_CrSK'] + framesets_info_df['Users_count_Nrml'] )\n",
    "framesets_info_df[\"Percentage_Users_Attempted_Nrml\"] = framesets_info_df['Users_count_Nrml'] /(framesets_info_df['Users_count_CrSK'] + framesets_info_df['Users_count_Nrml'] )\n",
    "framesets_info_df[\"Percentage_Users_Out_of_All_CrSk\"] = framesets_info_df['Users_count_CrSK'] /len(clusters_df['UserID'].unique())\n",
    "framesets_info_df[\"Percentage_Users_Out_of_All_Nrml\"] = framesets_info_df['Users_count_Nrml'] /len(clusters_df['UserID'].unique())\n",
    "framesets_info_df[\"Percentage_Sessions_CrSk\"] = framesets_info_df['Sessions_count_CrSk'] /(framesets_info_df['Sessions_count_CrSk'] + framesets_info_df['Sessions_count_Nrml'] )\n",
    "framesets_info_df[\"Percentage_Sessions_Nrml\"] = framesets_info_df['Sessions_count_Nrml'] /(framesets_info_df['Sessions_count_CrSk'] + framesets_info_df['Sessions_count_Nrml'] )\n",
    "# If a student has NA, that means we couldn't divide because the 'frames_clustered_by_CrSK' for this frameset is Empty (i.e., if a frameset is always normal, put 1)\n",
    "framesets_info_df.to_csv(\"Framesets_Info.csv\")"
   ]
  },
  {
   "cell_type": "code",
   "execution_count": null,
   "id": "0077decb-05e1-4f85-bf3c-0b33f81517cd",
   "metadata": {},
   "outputs": [],
   "source": [
    "framesets_info_df.dropna(inplace=True) # Delete the ones that are in OpenFLA Book but not in OpenDSA Database\n"
   ]
  },
  {
   "cell_type": "code",
   "execution_count": null,
   "id": "237180a1-7b3f-432b-ac4c-bb3f60989fcd",
   "metadata": {
    "tags": []
   },
   "outputs": [],
   "source": [
    "fig, ax = plt.subplots(figsize=(30.5, 12.5))\n",
    "gfg = sns.barplot(\n",
    "    data=framesets_info_df.sort_values(\n",
    "        by=\"Users_count_CrSK\", ascending=False\n",
    "    ),\n",
    "    x=\"FramesetName\",\n",
    "    y=\"Users_count_CrSK\",\n",
    ")\n",
    "gfg.set(\n",
    "    xlabel=\"Frameset Name\",\n",
    "    ylabel=\"Count of Students\",\n",
    "    title=\"Credit Seeking Cases Barplot\",\n",
    ")\n",
    "ax.set_xticklabels(ax.get_xticklabels(), rotation=40, ha=\"right\")\n",
    "plt.tight_layout()\n",
    "plt.show()\n",
    "fig.savefig(\"Users_count_CrSK\", dpi=1000, facecolor=\"white\")"
   ]
  },
  {
   "cell_type": "code",
   "execution_count": null,
   "id": "f8f4e3bb-b752-405d-83ab-1a9490a0dae5",
   "metadata": {},
   "outputs": [],
   "source": [
    "fig, ax = plt.subplots(figsize=(30.5, 12.5))\n",
    "gfg = sns.barplot(\n",
    "    data=framesets_info_df.sort_values(\n",
    "        by=\"Percentage_Users_Attempted_CrSk\", ascending=False\n",
    "    ),\n",
    "    x=\"FramesetName\",\n",
    "    y=\"Percentage_Users_Attempted_CrSk\",\n",
    ")\n",
    "gfg.set(\n",
    "    xlabel=\"Frameset Name\",\n",
    "    ylabel=\"Percentage of Students\",\n",
    "    title=\"Credit Seeking Cases Barplot\",\n",
    ")\n",
    "ax.set_xticklabels(ax.get_xticklabels(), rotation=40, ha=\"right\")\n",
    "plt.tight_layout()\n",
    "plt.show()\n",
    "fig.savefig(\"Percentage_Users_Attempted_CrSk\", dpi=1000, facecolor=\"white\")"
   ]
  },
  {
   "cell_type": "code",
   "execution_count": null,
   "id": "53630a8a-cb8a-484f-938f-af2ac990a722",
   "metadata": {},
   "outputs": [],
   "source": [
    "fig, ax = plt.subplots(figsize=(30.5, 12.5))\n",
    "gfg = sns.barplot(\n",
    "    data=framesets_info_df.sort_values(\n",
    "        by=\"Percentage_Users_Out_of_All_CrSk\", ascending=False\n",
    "    ),\n",
    "    x=\"FramesetName\",\n",
    "    y=\"Percentage_Users_Out_of_All_CrSk\",\n",
    ")\n",
    "gfg.set(\n",
    "    xlabel=\"Frameset Name\",\n",
    "    ylabel=\"Percentage of Students\",\n",
    "    title=\"Credit Seeking Cases Barplot\",\n",
    ")\n",
    "ax.set_xticklabels(ax.get_xticklabels(), rotation=40, ha=\"right\")\n",
    "plt.tight_layout()\n",
    "plt.show()\n",
    "fig.savefig(\"Percentage_Users_Out_of_All_CrSk\", dpi=1000, facecolor=\"white\")"
   ]
  },
  {
   "cell_type": "code",
   "execution_count": null,
   "id": "a2d10837-4d8e-49e8-a8c5-be4440245d54",
   "metadata": {
    "tags": []
   },
   "outputs": [],
   "source": [
    "fig, ax = plt.subplots(figsize=(30.5, 12.5))\n",
    "gfg = sns.barplot(\n",
    "    data=framesets_info_df.sort_values(\n",
    "        by=\"Users_count_Nrml\", ascending=False\n",
    "    ),\n",
    "    x=\"FramesetName\",\n",
    "    y=\"Users_count_Nrml\",\n",
    ")\n",
    "\n",
    "gfg.set(\n",
    "    xlabel=\"Frameset Name\", ylabel=\"Count of Students\", title=\"Normal Cases Barplot\"\n",
    ")\n",
    "\n",
    "ax.set_xticklabels(ax.get_xticklabels(), rotation=40, ha=\"right\")\n",
    "plt.tight_layout()\n",
    "plt.show()\n",
    "fig.savefig(\"Users_count_Nrml\", dpi=1000, facecolor=\"white\")"
   ]
  },
  {
   "cell_type": "code",
   "execution_count": null,
   "id": "f6053d4d-9257-4b3b-9216-0e014d9dfb8b",
   "metadata": {},
   "outputs": [],
   "source": [
    "fig, ax = plt.subplots(figsize=(30.5, 12.5))\n",
    "gfg = sns.barplot(\n",
    "    data=framesets_info_df.sort_values(\n",
    "        by=\"Percentage_Users_Attempted_Nrml\", ascending=False\n",
    "    ),\n",
    "    x=\"FramesetName\",\n",
    "    y=\"Percentage_Users_Attempted_Nrml\",\n",
    ")\n",
    "\n",
    "gfg.set(\n",
    "    xlabel=\"Frameset Name\",\n",
    "    ylabel=\"Percentage of Students\",\n",
    "    title=\"Normal Cases Barplot\",\n",
    ")\n",
    "\n",
    "ax.set_xticklabels(ax.get_xticklabels(), rotation=40, ha=\"right\")\n",
    "plt.tight_layout()\n",
    "plt.show()\n",
    "fig.savefig(\"Percentage_Users_Attempted_Nrml\", dpi=1000, facecolor='white')"
   ]
  },
  {
   "cell_type": "code",
   "execution_count": null,
   "id": "3d3cb004-7e24-4aac-bac6-567536e5871b",
   "metadata": {},
   "outputs": [],
   "source": [
    "fig, ax = plt.subplots(figsize=(30.5, 12.5))\n",
    "gfg = sns.barplot(\n",
    "    data=framesets_info_df.sort_values(\n",
    "        by=\"Percentage_Users_Out_of_All_Nrml\", ascending=False\n",
    "    ),\n",
    "    x=\"FramesetName\",\n",
    "    y=\"Percentage_Users_Out_of_All_Nrml\",\n",
    ")\n",
    "gfg.set(\n",
    "    xlabel=\"Frameset Name\",\n",
    "    ylabel=\"Percentage of Students\",\n",
    "    title=\"Credit Seeking Cases Barplot\",\n",
    ")\n",
    "ax.set_xticklabels(ax.get_xticklabels(), rotation=40, ha=\"right\")\n",
    "plt.tight_layout()\n",
    "plt.show()\n",
    "fig.savefig(\"Percentage_Users_Out_of_All_Nrml\", dpi=1000, facecolor=\"white\")"
   ]
  },
  {
   "cell_type": "code",
   "execution_count": null,
   "id": "672171c7-b599-4b7c-a8c5-78e4ee60f1da",
   "metadata": {},
   "outputs": [],
   "source": [
    "fig, ax = plt.subplots(figsize=(30.5, 12.5))\n",
    "gfg = sns.barplot(\n",
    "    data=framesets_info_df,\n",
    "    x=\"FramesetName\",\n",
    "    y=\"Percentage_Users_Attempted_Nrml\",\n",
    "    color=\"limegreen\",\n",
    "    label=\"Normal\",\n",
    "    alpha=0.65,\n",
    ")\n",
    "\n",
    "gfg = sns.barplot(\n",
    "    data=framesets_info_df,\n",
    "    x=\"FramesetName\",\n",
    "    y=\"Percentage_Users_Attempted_CrSk\",\n",
    "    color=\"red\",\n",
    "    label=\"Credit Seeking\",\n",
    "    alpha=0.65,\n",
    ")\n",
    "\n",
    "gfg.set(\n",
    "    xlabel=\"Frameset Name\", ylabel=\"# of Users\", title=\"Normal + Credit Seeking Barplot\"\n",
    ")\n",
    "\n",
    "ax.set_xticklabels(ax.get_xticklabels(), rotation=40, ha=\"right\")\n",
    "plt.tight_layout()\n",
    "ax.legend()\n",
    "plt.show()\n",
    "fig.savefig(\"Normal + Credit Seeking\", dpi=1000, facecolor=\"white\")"
   ]
  }
 ],
 "metadata": {
  "kernelspec": {
   "display_name": "Python 3 (ipykernel)",
   "language": "python",
   "name": "python3"
  },
  "language_info": {
   "codemirror_mode": {
    "name": "ipython",
    "version": 3
   },
   "file_extension": ".py",
   "mimetype": "text/x-python",
   "name": "python",
   "nbconvert_exporter": "python",
   "pygments_lexer": "ipython3",
   "version": "3.10.2"
  }
 },
 "nbformat": 4,
 "nbformat_minor": 5
}
