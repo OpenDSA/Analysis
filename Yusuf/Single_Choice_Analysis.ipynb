{
 "cells": [
  {
   "cell_type": "code",
   "execution_count": 3,
   "id": "0dbf182d-b497-44ea-b079-c370e88a4bfe",
   "metadata": {},
   "outputs": [],
   "source": [
    "import json\n",
    "import os\n",
    "from math import comb\n",
    "import csv\n",
    "import matplotlib\n",
    "import matplotlib.pyplot as plt\n",
    "import numpy as np\n",
    "import pandas as pd\n",
    "import seaborn as sns\n",
    "from scipy import stats\n",
    "import time\n",
    "\n",
    "%matplotlib inline\n",
    "pd.options.display.min_rows = 25"
   ]
  },
  {
   "cell_type": "markdown",
   "id": "f2a7d5ed-5932-4478-b6ff-9ebc046a22a7",
   "metadata": {},
   "source": [
    "# Add More Fine-Grained Attributes "
   ]
  },
  {
   "cell_type": "markdown",
   "id": "7d3bcc2b-1648-45d1-8ab7-14fcc5ed315d",
   "metadata": {},
   "source": [
    "## Importing Question Details"
   ]
  },
  {
   "cell_type": "code",
   "execution_count": 116,
   "id": "6a13010c-d936-4a8a-a0da-fc4d62e30bf4",
   "metadata": {},
   "outputs": [],
   "source": [
    "questions_detailed = pd.read_csv(\"Frameset_Questions_Detailed_all.csv\")\n",
    "questions_detailed = questions_detailed[~(questions_detailed['n_choices']==0)] #Because some of them has no choice, it's just \"True\"\n",
    "questions_detailed  = questions_detailed.drop_duplicates(subset=['frameset_name', 'question_name'])\n",
    "questions_detailed['frameset-qID'] = questions_detailed['frameset_name'] + '-'+ questions_detailed.question_id.astype(str)\n",
    "\n",
    "question_detailed_types = dict(zip(questions_detailed['frameset-qID'], questions_detailed.question_type))"
   ]
  },
  {
   "cell_type": "code",
   "execution_count": 165,
   "id": "d4887deb-b966-4a99-974d-208e8428cfa3",
   "metadata": {
    "tags": []
   },
   "outputs": [
    {
     "name": "stderr",
     "output_type": "stream",
     "text": [
      "C:\\Users\\Yusuf\\AppData\\Local\\Temp\\ipykernel_20200\\2071197035.py:4: UserWarning: Boolean Series key will be reindexed to match DataFrame index.\n",
      "  questions_detailed_multi = questions_detailed[questions_detailed['question_type']=='single-Choice'][questions_detailed['n_choices']>1]\n",
      "C:\\Users\\Yusuf\\AppData\\Local\\Temp\\ipykernel_20200\\2071197035.py:7: UserWarning: Boolean Series key will be reindexed to match DataFrame index.\n",
      "  questions_detailed_single = questions_detailed[questions_detailed['question_type']=='Single-Choice'][questions_detailed['n_choices']>1]\n"
     ]
    }
   ],
   "source": [
    "# Dictionary for returning if a the n_choices using key \"Frameset-qID\"\n",
    "\n",
    "# Some single Choose Questions has only two choices, we will ignore them in our analysis\n",
    "questions_detailed_multi = questions_detailed[questions_detailed['question_type']=='single-Choice'][questions_detailed['n_choices']>1]    \n",
    "questions_detailed_multi_dict = dict(zip(questions_detailed_multi['frameset-qID'], questions_detailed_multi.n_choices))\n",
    "\n",
    "questions_detailed_single = questions_detailed[questions_detailed['question_type']=='Single-Choice'][questions_detailed['n_choices']>1]    \n",
    "questions_detailed_single_dict = dict(zip(questions_detailed_single['frameset-qID'], questions_detailed_single.n_choices))\n",
    "\n",
    "questions_detailed_TF = questions_detailed[questions_detailed['question_type']=='T/F']  \n",
    "questions_detailed_TF_dict = dict(zip(questions_detailed_TF['frameset-qID'], questions_detailed_TF.n_choices))"
   ]
  },
  {
   "cell_type": "code",
   "execution_count": 80,
   "id": "8027261d-e589-4f4a-afc1-a530198f2b10",
   "metadata": {},
   "outputs": [],
   "source": [
    "questions_max = questions_detailed.pivot_table(columns='frameset_name', aggfunc=len,values='n_choices').T.reset_index()\n",
    "single_questions_max = questions_max[questions_max.frameset_name.isin(questions_detailed_single.frameset_name.unique())]"
   ]
  },
  {
   "cell_type": "markdown",
   "id": "a5dd5192-505e-40c3-a83d-dc2546a46797",
   "metadata": {},
   "source": [
    "## Importing Session Interactions"
   ]
  },
  {
   "cell_type": "code",
   "execution_count": 62,
   "id": "4ac16688-9c1c-42e6-8f22-b9b8968750c7",
   "metadata": {
    "tags": []
   },
   "outputs": [],
   "source": [
    "sessions_interactions_20_21 = pd.read_excel('../Sessions_1D_old_names.xlsx')\n",
    "sessions_interactions_22 = pd.read_excel('../Spring_22/Sessions_1D_22.xlsx')"
   ]
  },
  {
   "cell_type": "code",
   "execution_count": 63,
   "id": "404d1a02-2a0f-4aaf-b8bb-2cee8d41ea76",
   "metadata": {},
   "outputs": [],
   "source": [
    "sessions_interactions_20_21['frameset-qID'] = sessions_interactions_20_21['curr_frameset_name'] + '-'+ sessions_interactions_20_21.question_id.astype(str)\n",
    "sessions_interactions_22['frameset-qID'] = sessions_interactions_22['curr_frameset_name'] + '-'+ sessions_interactions_22.question_id.astype(str)"
   ]
  },
  {
   "cell_type": "code",
   "execution_count": 64,
   "id": "cf3cf102-85f5-42f2-9ba1-714925e778fc",
   "metadata": {},
   "outputs": [],
   "source": [
    "sessions_interactions_20_21['session_number'] +='-20_21'"
   ]
  },
  {
   "cell_type": "code",
   "execution_count": 65,
   "id": "d0cfc252-f65f-464e-8115-ec7eacf5ce7a",
   "metadata": {},
   "outputs": [],
   "source": [
    "sessions_interactions_22['session_number'] +='-22'"
   ]
  },
  {
   "cell_type": "code",
   "execution_count": 100,
   "id": "1768a5e2-89d0-4f21-8469-4e6155f60199",
   "metadata": {},
   "outputs": [],
   "source": [
    "sessions_interactions_all = pd.concat([sessions_interactions_20_21, sessions_interactions_22 ])\n",
    "sessions_interactions_all = sessions_interactions_all[sessions_interactions_all.curr_frameset_name.isin(questions_detailed.frameset_name)]"
   ]
  },
  {
   "cell_type": "markdown",
   "id": "2bd9e60f-c914-47fc-8ed8-e686bc4f0fcb",
   "metadata": {},
   "source": [
    "## Importing Session CLusters"
   ]
  },
  {
   "cell_type": "code",
   "execution_count": 69,
   "id": "c9e7dfe3-b3ee-4eef-a6b4-063faafac8e2",
   "metadata": {},
   "outputs": [
    {
     "data": {
      "text/plain": [
       "Index(['Unnamed: 0', 'cluster', 'user_id', 'session_number',\n",
       "       'curr_frameset_name', 'Percentage_incorrects', 'Percentage_corrects',\n",
       "       'percent_consecutive_incorrect_interactions',\n",
       "       'percent_consecutive_correct_interactions', 'n_backs',\n",
       "       'nth_trial_of_frame', 'time_between_median', 'u'],\n",
       "      dtype='object')"
      ]
     },
     "execution_count": 69,
     "metadata": {},
     "output_type": "execute_result"
    }
   ],
   "source": [
    "clustered_sessions_20_21 = pd.read_csv(\"../Clustered_Sessions_FCM.csv\")\n",
    "clustered_sessions_20_21['session_number'] +='-20_21'\n",
    "\n",
    "clustered_sessions_22 = pd.read_csv(\"../Spring_22/Clustered_Sessions_FCM.csv\")\n",
    "clustered_sessions_22['session_number'] +='-22'\n",
    "\n",
    "clustered_sessions_all = pd.concat([clustered_sessions_20_21,clustered_sessions_22])\n",
    "clustered_sessions_all.columns # Use it to get if a session is credit seeking or normal"
   ]
  },
  {
   "cell_type": "code",
   "execution_count": 81,
   "id": "3eb6338c-b74f-4464-877d-c3992debc2ae",
   "metadata": {},
   "outputs": [
    {
     "data": {
      "text/plain": [
       "(12689, 6194, 2242, 3952)"
      ]
     },
     "execution_count": 81,
     "metadata": {},
     "output_type": "execute_result"
    }
   ],
   "source": [
    "single_framesetnames = questions_detailed_single.frameset_name .unique()\n",
    "\n",
    "single_sessions = clustered_sessions_all[clustered_sessions_all.curr_frameset_name.isin(single_framesetnames)]\n",
    "\n",
    "len(clustered_sessions_all), len(single_sessions), len(single_sessions[single_sessions.cluster ==\"Credit Seeking\"]), len(single_sessions[single_sessions.cluster ==\"Normal\"])"
   ]
  },
  {
   "cell_type": "code",
   "execution_count": 93,
   "id": "f1811f72-1519-46b4-a80f-1be775035176",
   "metadata": {},
   "outputs": [
    {
     "name": "stdout",
     "output_type": "stream",
     "text": [
      "None\n"
     ]
    }
   ],
   "source": [
    "print(question_detailed_types.get(0))"
   ]
  },
  {
   "cell_type": "code",
   "execution_count": 121,
   "id": "6327b154-ecbb-4451-a5bf-463acb0afa57",
   "metadata": {},
   "outputs": [
    {
     "name": "stderr",
     "output_type": "stream",
     "text": [
      "C:\\Users\\Yusuf\\AppData\\Local\\Temp\\ipykernel_20200\\2495882395.py:12: FutureWarning: In a future version of pandas all arguments of Series.dropna will be keyword-only.\n",
      "  sessions_interactions_all['question_type'].dropna(None,inplace=True)\n"
     ]
    }
   ],
   "source": [
    "sessions_interactions_all['question_type'] = sessions_interactions_all['frameset-qID'].apply(lambda row : question_detailed_types.get(row))\n",
    "sessions_interactions_all['question_type'].dropna(inplace=True)\n",
    "sessions_interactions_all['question_type'].dropna(None,inplace=True)"
   ]
  },
  {
   "cell_type": "code",
   "execution_count": 125,
   "id": "6ed37a53-1e82-46ea-b123-ae9c42bc13e2",
   "metadata": {},
   "outputs": [],
   "source": [
    "# THE BEAUTIFUL PART\n",
    "\n",
    "temp = sessions_interactions_all.pivot_table(index=['session_number','curr_frameset_name'], columns='question_type',values='question_id',aggfunc=len).reset_index()\n",
    "temp = temp.fillna(0)\n",
    "temp.columns"
   ]
  },
  {
   "cell_type": "code",
   "execution_count": 169,
   "id": "b1defb1c-eb5e-4c58-8aa8-eaeac33b15f0",
   "metadata": {},
   "outputs": [],
   "source": [
    "most_of_it = []\n",
    "for idx, row in temp.iterrows():\n",
    "    if row['Multi-Choice'] >= row['Single-Choice'] and row['Multi-Choice'] >=  row['T/F']:\n",
    "        most_of_it.append('single-Choice')\n",
    "    elif row['Single-Choice'] >= row['Multi-Choice'] and row['Single-Choice'] >= row['T/F']:\n",
    "        most_of_it.append('Single-Choice')\n",
    "    elif row['T/F'] >= row['Single-Choice'] and row['T/F'] >=  row['Multi-Choice']:\n",
    "        most_of_it.append('T/F')\n",
    "    else:\n",
    "        print(\"JOEEE, el72nyyyyyy\")\n",
    "        \n",
    "temp['most_of_it'] = most_of_it\n",
    "temp = pd.merge(\n",
    "        temp, clustered_sessions_20_21[[\"session_number\",'cluster', 'u']], left_on=\"session_number\", right_on=\"session_number\", how=\"inner\"\n",
    "    )"
   ]
  },
  {
   "cell_type": "code",
   "execution_count": 170,
   "id": "2277bd1f-a1b0-4714-8743-fb73572a2a12",
   "metadata": {},
   "outputs": [
    {
     "data": {
      "image/png": "[encoded data removed]",
      "text/plain": [
       "<Figure size 432x288 with 1 Axes>"
      ]
     },
     "metadata": {
      "needs_background": "light"
     },
     "output_type": "display_data"
    }
   ],
   "source": [
    "temp\n",
    "ax = sns.countplot(data=temp,x = 'most_of_it', hue='cluster')\n",
    "for container in ax.containers:\n",
    "    ax.bar_label(container)"
   ]
  },
  {
   "cell_type": "code",
   "execution_count": 171,
   "id": "fe90a274-d023-4804-835c-5713b06bcfc5",
   "metadata": {},
   "outputs": [],
   "source": [
    "clusters_attributes = [\n",
    "    \"Percentage_incorrects\",\n",
    "    \"Percentage_corrects\",\n",
    "    \"percent_consecutive_incorrect_interactions\",  #This is the proved one to work\n",
    "    'percent_consecutive_correct_interactions',\n",
    "    \"time_spent_incorrect_single\",\n",
    "    \"n_incorrect_attempts_single\",\n",
    "    \"n_correct_attempts_single\",  \n",
    "    #'n_consecutive_incorrects_single', # Is number of solutions increasing, increasing incorrects\n",
    "    'questions_incorrect_single', # []\n",
    "    \"questions_correct_single\", # [] , Probably will contain incorrects to \n",
    "    \"choices_single\", #General all  \n",
    "    \"solutions_single\" ,  #General all  \n",
    "    'n_interactions',\n",
    "    'time_spent_single'# How much single is affecting out of all \n",
    "]"
   ]
  },
  {
   "cell_type": "code",
   "execution_count": 172,
   "id": "5e8e4f92-a3f6-4917-a62e-eac1d67068f6",
   "metadata": {
    "tags": []
   },
   "outputs": [],
   "source": [
    "def get_n_two_conseuctive_incorrect(activities):\n",
    "    cnt = 0\n",
    "    flag = False\n",
    "    for activity in activities:\n",
    "        if activity == \"X\" and flag == False:\n",
    "            flag = True\n",
    "        elif activity == \"X\" and flag == True:\n",
    "            cnt += 1\n",
    "        elif activity != \"X\":\n",
    "            flag = False\n",
    "    return cnt\n",
    "\n",
    "def get_n_two_conseuctive_correct(activities):\n",
    "    cnt = 0\n",
    "    flag = False\n",
    "    for activity in activities:\n",
    "        if activity == \"Crrct\" and flag == False:\n",
    "            flag = True\n",
    "        elif activity == \"Crrct\" and flag == True:\n",
    "            cnt += 1\n",
    "        elif activity != \"Crrct\":\n",
    "            flag = False\n",
    "    return cnt\n",
    "\n",
    "def get_n_incorrect(activities):\n",
    "    cnt = 0\n",
    "    for activity in activities:\n",
    "        if activity == \"X\" :\n",
    "            cnt+=1\n",
    "    return cnt\n",
    "\n",
    "\n",
    "def get_n_correct(activities):\n",
    "    cnt = 0\n",
    "    for activity in activities:\n",
    "        if activity == \"Crrct\" :\n",
    "            cnt+=1\n",
    "    return cnt"
   ]
  },
  {
   "cell_type": "code",
   "execution_count": null,
   "id": "6541601d-28e8-4b86-a6d8-a1a46a22f408",
   "metadata": {},
   "outputs": [],
   "source": [
    "one_row = []\n",
    "sessions_attributes = []\n",
    "sessions_attributes_with_user_frameset = []\n",
    "activity_counter = 0\n",
    "times_taken_for_incorrect_attempt = []\n",
    "session_activities = []\n",
    "time_spent_incorrect_single = [] ; time_spent_single = []\n",
    "n_incorrect_attempts_single = 0 ; n_correct_attempts_single = 0 ; n_consecutive_incorrects_single = 0 \n",
    "questions_incorrect_single = set() ; questions_correct_single =set()\n",
    "choices_single = [] ; solutions_single =[]; \n",
    "n_interactions = 0 # Includes single and non-single, for single only sum what we have in n_incorrect and n_correct attempts\n",
    "\n",
    "nextt = None\n",
    "\n",
    "for idx in range(1,len(sessions_interactions_all)):\n",
    "    \n",
    "    interaction = sessions_interactions_all.iloc[idx]\n",
    "    if idx != len(sessions_interactions_all) - 1:\n",
    "        next_interaction =  sessions_interactions_all.iloc[idx+1]\n",
    "        \n",
    "    activity = interaction['activity_name']\n",
    "    question_id = interaction['question_id']\n",
    "    frameset_name = interaction['curr_frameset_name']\n",
    "    # If the interaction is SESSION_END then add the prev_session number, and move to the next iteration\n",
    "    if next_interaction.session_number != interaction.session_number and activity_counter > 2:\n",
    "        # Here we have been adding all interactions of one session to the list activities\n",
    "        n_consecutive_incorrects = get_n_two_conseuctive_incorrect(session_activities)\n",
    "        n_consecutive_corrects =   get_n_two_conseuctive_correct(session_activities)\n",
    "        n_incorrects = get_n_incorrect(session_activities) #becuase some sessions such as {Crrct --> X --> Crrt --> END_SESSION} will has zero value which doesn't represnt anything about the session\n",
    "        n_corrects = get_n_correct(session_activities)\n",
    "        percent_consecutive_incorrect_interactions = n_consecutive_incorrects/len(session_activities)\n",
    "        percent_consecutive_correct_interactions  = n_consecutive_corrects/len(session_activities)\n",
    "        \n",
    "        \n",
    "        one_row = [n_incorrects/len(session_activities), n_corrects/len(session_activities), round(percent_consecutive_incorrect_interactions,3), round(percent_consecutive_correct_interactions,3), \n",
    "                   time_spent_incorrect_single, n_incorrect_attempts_single, n_correct_attempts_single, questions_incorrect_single, questions_correct_single, \n",
    "                   choices_single, solutions_single, activity_counter,time_spent_single ]\n",
    "        sessions_attributes.append( one_row )  # Note the current event is a new session, so when you add to attributes, only access the prev iteration values\n",
    "        sessions_attributes_with_user_frameset.append([interaction['user_id'], interaction['session_number'], interaction['curr_frameset_name']]+ one_row)  # Adding more info to the row\n",
    "     \n",
    "    if activity == 'SESSION_END': # Regardless of the activity_counter\n",
    "        activity_counter = 0\n",
    "        session_activities = []\n",
    "        time_spent_incorrect_single = [];  time_spent_single = []\n",
    "        n_incorrect_attempts_single = 0 ; n_correct_attempts_single = 0 ; n_consecutive_incorrects_single = 0 \n",
    "        questions_incorrect_single = set() ; questions_correct_single =set()\n",
    "        choices_single = [] ; solutions_single =[]; \n",
    "        n_interactions = 0\n",
    "        continue # Move directly to the next iteration\n",
    "    \n",
    "    session_activities.append(activity)\n",
    "    activity_counter += 1\n",
    "    \n",
    "    \n",
    "    if interaction['frameset-qID'] in questions_detailed_single_dict:\n",
    "        if activity_counter!=1 and activity =='X':\n",
    "            time_spent_incorrect_single.append((interaction['timestamp'] - prev['timestamp']).total_seconds())\n",
    "        if activity_counter!=1 :\n",
    "            time_spent_single.append((interaction['timestamp'] - prev['timestamp']).total_seconds())\n",
    "        if interaction['question_id'] not in questions_correct_single and interaction['question_id'] not in questions_incorrect_single:\n",
    "            choices_single.append(questions_detailed_single_dict[interaction['frameset-qID']])\n",
    "            solutions_single.append((2**questions_detailed_single_dict[interaction['frameset-qID']])-1) \n",
    "        if activity =='X':\n",
    "            n_incorrect_attempts_single+=1;\n",
    "            questions_incorrect_single.add(interaction['question_id'])\n",
    "        if activity =='Crrct':\n",
    "            n_correct_attempts_single+=1;\n",
    "            questions_correct_single.add(interaction['question_id'])\n",
    "\n",
    "    prev = interaction\n"
   ]
  },
  {
   "cell_type": "code",
   "execution_count": 570,
   "id": "2ddcf180-c530-4d9c-85bd-6e6c7f7f3e90",
   "metadata": {
    "tags": []
   },
   "outputs": [],
   "source": [
    "def find_median(listt):\n",
    "    listt = sorted(listt)\n",
    "    return listt[round(len(listt)/2)], round(len(listt)/2)\n",
    "\n",
    "def select_question_and_nchoices(session_number):\n",
    "    session_interactions = sessions_interactions_all[sessions_interactions_all.session_number == session_number]\n",
    "    n_session_interactions = len(session_interactions)\n",
    "    n_choices = []\n",
    "    questions_ids = session_interactions['question_id'].unique()\n",
    "    frameset_qIDs = session_interactions['frameset-qID'].unique()\n",
    "    single_question_IDs = []\n",
    "    for qid, frameset_qid in zip(questions_ids,frameset_qIDs):\n",
    "        if frameset_qid in questions_detailed_single_dict:\n",
    "            n_choices.append(questions_detailed_single_dict[frameset_qid])\n",
    "            single_question_IDs.append(qid)\n",
    "    if n_choices == []:\n",
    "        return 0 , 0\n",
    "    median, idx = find_median(n_choices)\n",
    "    return  median, single_question_IDs[idx]\n",
    "    # return n_choices, single_question_IDs, median, single_question_IDs[idx]\n",
    "    \n",
    "session_numbers = sessions_interactions_all['session_number'].unique()\n",
    "sessions_attributes_with_user_frameset = []\n",
    "\n",
    "\n",
    "for session_number in session_numbers:\n",
    "    n_choices, question_id = select_question_and_nchoices(session_number)\n",
    "    if n_choices==0:\n",
    "        continue\n",
    "    session_interactions = sessions_interactions_all[(sessions_interactions_all.session_number == session_number) & (sessions_interactions_all.question_id == question_id)]\n",
    "    n_incorrect = 0\n",
    "    n_correct = 0\n",
    "    \n",
    "    for idx, interaction in session_interactions.iterrows():\n",
    "        activity = interaction['activity_name']\n",
    "        if activity =='X':\n",
    "            n_incorrect+=1;\n",
    "        if activity =='Crrct':\n",
    "            n_correct+=1;\n",
    "\n",
    "            sessions_attributes_with_user_frameset.append([interaction['user_id'], interaction['session_number'], interaction['curr_frameset_name'], n_choices, question_id, n_incorrect, n_correct])    "
   ]
  },
  {
   "cell_type": "code",
   "execution_count": 579,
   "id": "3c5d7a8c-0b07-40bc-9a3c-76f1a13f8f74",
   "metadata": {
    "jupyter": {
     "source_hidden": true
    },
    "tags": []
   },
   "outputs": [],
   "source": [
    "# The new version\n",
    "sessions_attributes_fine_grained2 = pd.DataFrame(sessions_attributes_with_user_frameset, columns = ['user_id', 'session_number' , 'curr_frameset_name','n_choices', 'question_id', 'n_incorrect', 'n_correct'])\n",
    "sessions_attributes_fine_grained2 = pd.merge(\n",
    "        sessions_attributes_fine_grained2, clustered_sessions_all[[\"session_number\",'cluster', 'u']], left_on=\"session_number\", right_on=\"session_number\", how=\"inner\"\n",
    "    )"
   ]
  },
  {
   "cell_type": "code",
   "execution_count": null,
   "id": "be35faa9-1601-4aa0-9398-1303f0b86966",
   "metadata": {},
   "outputs": [],
   "source": [
    "sessions_attributes_fine_grained = pd.DataFrame(sessions_attributes_with_user_frameset, columns = ['user_id', 'session_number' , 'curr_frameset_name'] + clusters_attributes)"
   ]
  },
  {
   "cell_type": "code",
   "execution_count": null,
   "id": "9485403c-b295-4c58-a097-d3e867c610f9",
   "metadata": {
    "tags": []
   },
   "outputs": [],
   "source": [
    "sessions_attributes_fine_grained.columns # Contains everything we need now for coarse and fine grained attributes"
   ]
  },
  {
   "cell_type": "code",
   "execution_count": null,
   "id": "a3c6dd9b-af3e-4fdf-b92e-4e2541671153",
   "metadata": {},
   "outputs": [],
   "source": [
    "sessions_attributes_fine_grained = pd.merge(\n",
    "        sessions_attributes_fine_grained, clustered_sessions_all[[\"session_number\",'cluster', 'u']], left_on=\"session_number\", right_on=\"session_number\", how=\"inner\"\n",
    "    )"
   ]
  },
  {
   "cell_type": "code",
   "execution_count": null,
   "id": "ebae27cd-d32a-402f-bfc1-6df73f8766a5",
   "metadata": {},
   "outputs": [],
   "source": [
    "# Remove sessions that doesn't contain single questions\n",
    "sessions_attributes_fine_grained['n_single'] = sessions_attributes_fine_grained['n_correct_attempts_single'] + sessions_attributes_fine_grained['n_correct_attempts_single']"
   ]
  },
  {
   "cell_type": "code",
   "execution_count": null,
   "id": "b52cdb81-52f5-4b4d-9850-63aedd9b058b",
   "metadata": {},
   "outputs": [],
   "source": [
    "# sessions_attributes_fine_grained_single --> Only single sessions\n",
    "sessions_attributes_fine_grained_single = sessions_attributes_fine_grained[sessions_attributes_fine_grained['n_single']!=0]"
   ]
  },
  {
   "cell_type": "code",
   "execution_count": null,
   "id": "04bd52c5-7b77-4c82-b47f-dadf96a35ac7",
   "metadata": {},
   "outputs": [],
   "source": [
    "sessions_attributes_fine_grained_single.columns"
   ]
  },
  {
   "cell_type": "code",
   "execution_count": null,
   "id": "20b8903c-28ec-4883-bb22-5a2159e63b4c",
   "metadata": {},
   "outputs": [],
   "source": [
    "# We need some analysis on the dataset question types to compare between them before digging into the subsections"
   ]
  },
  {
   "cell_type": "code",
   "execution_count": null,
   "id": "96638246-2883-4b2d-9f65-2ddfadbcf1aa",
   "metadata": {
    "tags": []
   },
   "outputs": [],
   "source": [
    "# sessions_attributes_fine_grained_single['single_choices_mode'] = sessions_attributes_fine_grained_single['choices_single'].apply(lambda row: stats.mode(row)[0][0] )\n",
    "sessions_attributes_fine_grained_single['single_choices_max'] = sessions_attributes_fine_grained_single['choices_single'].apply(lambda row: int(np.max(row)))\n",
    "sessions_attributes_fine_grained_single['single_choices_median'] = sessions_attributes_fine_grained_single['choices_single'].apply(lambda row: int(np.median(row)))\n",
    "sessions_attributes_fine_grained_single['single_choices_mean'] = sessions_attributes_fine_grained_single['choices_single'].apply(lambda row: round(np.mean(row)))\n",
    "sessions_attributes_fine_grained_single['single_choices_sum'] = sessions_attributes_fine_grained_single['choices_single'].apply(lambda row: int(np.sum(row)))\n",
    "sessions_attributes_fine_grained_single['single_solutions_median'] = sessions_attributes_fine_grained_single['solutions_single'].apply(lambda row: int(np.median(row)))\n",
    "sessions_attributes_fine_grained_single['single_solutions_mean'] = sessions_attributes_fine_grained_single['solutions_single'].apply(lambda row: int(np.mean(row)))\n",
    "sessions_attributes_fine_grained_single['time_spent_incorrect_single_sum'] = sessions_attributes_fine_grained_single['time_spent_incorrect_single'].apply(lambda row: int(np.sum(row)))"
   ]
  },
  {
   "cell_type": "code",
   "execution_count": null,
   "id": "8a7b9de8-fe9f-48e7-9b50-653362e9686b",
   "metadata": {},
   "outputs": [],
   "source": [
    "sessions_attributes_fine_grained_single.pivot_table(columns='cluster',index='single_choices_median',aggfunc=len,values=['Percentage_corrects'])"
   ]
  },
  {
   "cell_type": "code",
   "execution_count": null,
   "id": "c2d6b9dd-8e0d-4008-ba9b-66b15f9b45d8",
   "metadata": {
    "tags": []
   },
   "outputs": [],
   "source": [
    "sessions_attributes_fine_grained_single['time_spent_incorrect_single_sum'] = sessions_attributes_fine_grained_single['time_spent_incorrect_single'].apply(lambda row: int(np.sum(row)))\n",
    "sessions_attributes_fine_grained_single['time_spent_single_sum'] = sessions_attributes_fine_grained_single['time_spent_single'].apply(lambda row: int(np.sum(row)))"
   ]
  },
  {
   "cell_type": "code",
   "execution_count": null,
   "id": "8759b7ab-553f-4ced-a5a1-d21c4e24e040",
   "metadata": {},
   "outputs": [],
   "source": [
    "sessions_attributes_fine_grained_single['n_single_questions'] = sessions_attributes_fine_grained_single['choices_single'].apply(lambda row:len(row))\n"
   ]
  },
  {
   "cell_type": "code",
   "execution_count": null,
   "id": "3a5b2902-f222-4ba8-a82c-9657a20dc753",
   "metadata": {},
   "outputs": [],
   "source": [
    "sessions_attributes_fine_grained_single['time_spent_single_avg'] = sessions_attributes_fine_grained_single['time_spent_single'].apply(lambda row: (np.median(row)))"
   ]
  },
  {
   "cell_type": "markdown",
   "id": "8af15500-d377-4efc-8007-0c9c6f2cb13f",
   "metadata": {
    "tags": []
   },
   "source": [
    "# Correlation Between N-Question single in a session and probability of it classified as credit-seeking"
   ]
  },
  {
   "cell_type": "code",
   "execution_count": 437,
   "id": "613010b6-6d49-4a8a-8597-234bc94a70d5",
   "metadata": {},
   "outputs": [
    {
     "data": {
      "text/plain": [
       "Index(['user_id', 'session_number', 'curr_frameset_name',\n",
       "       'Percentage_incorrects', 'Percentage_corrects',\n",
       "       'percent_consecutive_incorrect_interactions',\n",
       "       'percent_consecutive_correct_interactions',\n",
       "       'time_spent_incorrect_multi', 'n_incorrect_attempts_multi',\n",
       "       'n_correct_attempts_multi', 'questions_incorrect_multi',\n",
       "       'questions_correct_multi', 'choices_multi', 'solutions_multi',\n",
       "       'n_interactions', 'time_spent_multi', 'cluster', 'u', 'n_multi',\n",
       "       'multi_choices_max', 'multi_choices_median', 'multi_choices_mean',\n",
       "       'multi_choices_sum', 'multi_solutions_median', 'multi_solutions_mean',\n",
       "       'time_spent_incorrect_multi_sum', 'time_spent_multi_sum',\n",
       "       'n_multi_questions', 'time_spent_multi_avg'],\n",
       "      dtype='object')"
      ]
     },
     "execution_count": 437,
     "metadata": {},
     "output_type": "execute_result"
    }
   ],
   "source": [
    "sessions_attributes_fine_grained_single.columns"
   ]
  },
  {
   "cell_type": "code",
   "execution_count": 328,
   "id": "21165867-5205-4d05-af5c-2d4a5250e8d8",
   "metadata": {},
   "outputs": [],
   "source": [
    "sessions_attributes_fine_grained_single.to_csv('sessions_attributes_fine_grained_single.csv')"
   ]
  },
  {
   "cell_type": "code",
   "execution_count": 438,
   "id": "83535e5e-5e98-4cc5-b50a-49474f3f92ad",
   "metadata": {},
   "outputs": [],
   "source": [
    "# I find the solution, for each choice number, get the number of credit-seeking and actively-learning in that session\n",
    "crsk_temp1 =[0]*11\n",
    "normal_temp2 = [0]*11\n",
    "\n",
    "for index, row in sessions_attributes_fine_grained_single.iterrows():\n",
    "    for num in row['choices_single']:\n",
    "        if row.cluster == 'Credit Seeking':\n",
    "            crsk_temp1[num-1]+=1;\n",
    "        elif row.cluster == 'Normal':\n",
    "            normal_temp2[num-1]+=1\n"
   ]
  },
  {
   "cell_type": "code",
   "execution_count": 466,
   "id": "13db8c7f-ef8d-4767-a742-e3690a71e7a7",
   "metadata": {},
   "outputs": [
    {
     "data": {
      "image/png": "[encoded data removed]",
      "text/plain": [
       "<Figure size 432x432 with 1 Axes>"
      ]
     },
     "metadata": {
      "needs_background": "light"
     },
     "output_type": "display_data"
    }
   ],
   "source": [
    "Y = \"u\" \n",
    "Y = \"percent_consecutive_incorrect_interactions\" \n",
    "X = \"single_choices_mean\"\n",
    "# res = stats.linregress(sessions_attributes_fine_grained_single[X], sessions_attributes_fine_grained_single[Y])\n",
    "# rvalue, pvalue = stats.pearsonr(x=sessions_attributes_fine_grained_single[X], y=sessions_attributes_fine_grained_single[Y])\n",
    "# print(f\"R: {res.rvalue}\")\n",
    "# print(\"P-value\", pvalue)\n",
    "fig, axs = plt.subplots(figsize=(6,6))\n",
    "\n",
    "# gfg = sns.histplot(data=sessions_attributes_fine_grained_single, x=X,hue='u', singleple=\"dodge\",stat=\"percent\", shrink=.8,)# bins=30)\n",
    "gfg = sns.lineplot(data=sessions_attributes_fine_grained_single, x=X, y=Y , hue='cluster')# bins=30)\n",
    "# gfg = sns.lineplot(x=sessions_attributes_fine_grained_single[X], y=res.intercept + res.slope * sessions_attributes_fine_grained_single[X])\n",
    "\n",
    "gfg.set(\n",
    "    # xlabel=\"Percentage of credit seeking sessions per student\",\n",
    "    # ylabel=\"Final score\",\n",
    ")\n",
    "# plt.legend(loc='upper right',  frameon=True,  shadow=True, title='r = -0.269\\np-value = 0.002')\n",
    "\n",
    "plt.show()\n",
    "# fig.savefig(\"single-Correlation.pdf\", facecolor=\"white\",dpi=500)\n",
    "\n",
    "# It means whether there are singleple number of choices or not, we may classifiy it as credit seeking or not"
   ]
  },
  {
   "cell_type": "code",
   "execution_count": 117,
   "id": "d4807fad-d559-43e6-8117-a16d83d55e4d",
   "metadata": {
    "collapsed": true,
    "jupyter": {
     "outputs_hidden": true
    },
    "tags": []
   },
   "outputs": [
    {
     "data": {
      "text/html": [
       "<div>\n",
       "<style scoped>\n",
       "    .dataframe tbody tr th:only-of-type {\n",
       "        vertical-align: middle;\n",
       "    }\n",
       "\n",
       "    .dataframe tbody tr th {\n",
       "        vertical-align: top;\n",
       "    }\n",
       "\n",
       "    .dataframe thead th {\n",
       "        text-align: right;\n",
       "    }\n",
       "</style>\n",
       "<table border=\"1\" class=\"dataframe\">\n",
       "  <thead>\n",
       "    <tr style=\"text-align: right;\">\n",
       "      <th></th>\n",
       "      <th>curr_frameset_name</th>\n",
       "      <th>n_incorrect_attempts_multi</th>\n",
       "      <th>n_correct_attempts_multi</th>\n",
       "      <th>questions_incorrect_multi</th>\n",
       "      <th>questions_correct_multi</th>\n",
       "      <th>choices_multi</th>\n",
       "      <th>solutions_multi</th>\n",
       "      <th>n_interactions</th>\n",
       "      <th>cluster</th>\n",
       "      <th>u</th>\n",
       "      <th>n_multi</th>\n",
       "    </tr>\n",
       "  </thead>\n",
       "  <tbody>\n",
       "    <tr>\n",
       "      <th>36</th>\n",
       "      <td>ChomskyNormalFormFF</td>\n",
       "      <td>4</td>\n",
       "      <td>11</td>\n",
       "      <td>{0, 3, 5, 7}</td>\n",
       "      <td>{0, 1, 2, 3, 4, 5, 6, 7, 8, 10, 11}</td>\n",
       "      <td>[3, 2, 2, 2, 2, 2, 2, 1, 1, 1, 2]</td>\n",
       "      <td>[7, 3, 3, 3, 3, 3, 3, 1, 1, 1, 3]</td>\n",
       "      <td>16</td>\n",
       "      <td>Normal</td>\n",
       "      <td>0.035129</td>\n",
       "      <td>22</td>\n",
       "    </tr>\n",
       "    <tr>\n",
       "      <th>57</th>\n",
       "      <td>ChomskyNormalFormFF</td>\n",
       "      <td>1</td>\n",
       "      <td>11</td>\n",
       "      <td>{2}</td>\n",
       "      <td>{0, 1, 2, 3, 4, 5, 6, 7, 8, 10, 11}</td>\n",
       "      <td>[3, 2, 2, 2, 2, 2, 2, 1, 1, 1, 2]</td>\n",
       "      <td>[7, 3, 3, 3, 3, 3, 3, 1, 1, 1, 3]</td>\n",
       "      <td>13</td>\n",
       "      <td>Normal</td>\n",
       "      <td>0.049238</td>\n",
       "      <td>22</td>\n",
       "    </tr>\n",
       "    <tr>\n",
       "      <th>91</th>\n",
       "      <td>ChomskyNormalFormFF</td>\n",
       "      <td>3</td>\n",
       "      <td>12</td>\n",
       "      <td>{2, 11, 4}</td>\n",
       "      <td>{0, 1, 2, 3, 4, 5, 6, 7, 8, 10, 11}</td>\n",
       "      <td>[3, 2, 2, 2, 2, 2, 2, 1, 1, 1, 2]</td>\n",
       "      <td>[7, 3, 3, 3, 3, 3, 3, 1, 1, 1, 3]</td>\n",
       "      <td>17</td>\n",
       "      <td>Normal</td>\n",
       "      <td>0.025785</td>\n",
       "      <td>24</td>\n",
       "    </tr>\n",
       "    <tr>\n",
       "      <th>129</th>\n",
       "      <td>ChomskyNormalFormFF</td>\n",
       "      <td>10</td>\n",
       "      <td>5</td>\n",
       "      <td>{6}</td>\n",
       "      <td>{6, 7, 8, 10, 11}</td>\n",
       "      <td>[2, 1, 1, 1, 2]</td>\n",
       "      <td>[3, 1, 1, 1, 3]</td>\n",
       "      <td>16</td>\n",
       "      <td>Credit Seeking</td>\n",
       "      <td>0.988122</td>\n",
       "      <td>10</td>\n",
       "    </tr>\n",
       "    <tr>\n",
       "      <th>150</th>\n",
       "      <td>ChomskyNormalFormFF</td>\n",
       "      <td>0</td>\n",
       "      <td>11</td>\n",
       "      <td>{}</td>\n",
       "      <td>{0, 1, 2, 3, 4, 5, 6, 7, 8, 10, 11}</td>\n",
       "      <td>[3, 2, 2, 2, 2, 2, 2, 1, 1, 1, 2]</td>\n",
       "      <td>[7, 3, 3, 3, 3, 3, 3, 1, 1, 1, 3]</td>\n",
       "      <td>12</td>\n",
       "      <td>Normal</td>\n",
       "      <td>0.091837</td>\n",
       "      <td>22</td>\n",
       "    </tr>\n",
       "    <tr>\n",
       "      <th>181</th>\n",
       "      <td>ChomskyNormalFormFF</td>\n",
       "      <td>4</td>\n",
       "      <td>11</td>\n",
       "      <td>{11, 3, 4, 5}</td>\n",
       "      <td>{0, 1, 2, 3, 4, 5, 6, 7, 8, 10, 11}</td>\n",
       "      <td>[3, 2, 2, 2, 2, 2, 2, 1, 1, 1, 2]</td>\n",
       "      <td>[7, 3, 3, 3, 3, 3, 3, 1, 1, 1, 3]</td>\n",
       "      <td>16</td>\n",
       "      <td>Normal</td>\n",
       "      <td>0.045145</td>\n",
       "      <td>22</td>\n",
       "    </tr>\n",
       "    <tr>\n",
       "      <th>198</th>\n",
       "      <td>ChomskyNormalFormFF</td>\n",
       "      <td>0</td>\n",
       "      <td>11</td>\n",
       "      <td>{}</td>\n",
       "      <td>{0, 1, 2, 3, 4, 5, 6, 7, 8, 10, 11}</td>\n",
       "      <td>[3, 2, 2, 2, 2, 2, 2, 1, 1, 1, 2]</td>\n",
       "      <td>[7, 3, 3, 3, 3, 3, 3, 1, 1, 1, 3]</td>\n",
       "      <td>13</td>\n",
       "      <td>Normal</td>\n",
       "      <td>0.049955</td>\n",
       "      <td>22</td>\n",
       "    </tr>\n",
       "    <tr>\n",
       "      <th>260</th>\n",
       "      <td>ChomskyNormalFormFF</td>\n",
       "      <td>0</td>\n",
       "      <td>6</td>\n",
       "      <td>{}</td>\n",
       "      <td>{6, 7, 8, 10, 11}</td>\n",
       "      <td>[2, 1, 1, 1, 2]</td>\n",
       "      <td>[3, 1, 1, 1, 3]</td>\n",
       "      <td>7</td>\n",
       "      <td>Normal</td>\n",
       "      <td>0.142739</td>\n",
       "      <td>12</td>\n",
       "    </tr>\n",
       "    <tr>\n",
       "      <th>336</th>\n",
       "      <td>ChomskyNormalFormFF</td>\n",
       "      <td>5</td>\n",
       "      <td>11</td>\n",
       "      <td>{0, 11, 3, 4}</td>\n",
       "      <td>{0, 1, 2, 3, 4, 5, 6, 7, 8, 10, 11}</td>\n",
       "      <td>[3, 2, 2, 2, 2, 2, 2, 1, 1, 1, 2]</td>\n",
       "      <td>[7, 3, 3, 3, 3, 3, 3, 1, 1, 1, 3]</td>\n",
       "      <td>17</td>\n",
       "      <td>Normal</td>\n",
       "      <td>0.093601</td>\n",
       "      <td>22</td>\n",
       "    </tr>\n",
       "    <tr>\n",
       "      <th>380</th>\n",
       "      <td>ChomskyNormalFormFF</td>\n",
       "      <td>2</td>\n",
       "      <td>11</td>\n",
       "      <td>{2, 5}</td>\n",
       "      <td>{0, 1, 2, 3, 4, 5, 6, 7, 8, 10, 11}</td>\n",
       "      <td>[3, 2, 2, 2, 2, 2, 2, 1, 1, 1, 2]</td>\n",
       "      <td>[7, 3, 3, 3, 3, 3, 3, 1, 1, 1, 3]</td>\n",
       "      <td>14</td>\n",
       "      <td>Normal</td>\n",
       "      <td>0.021059</td>\n",
       "      <td>22</td>\n",
       "    </tr>\n",
       "    <tr>\n",
       "      <th>428</th>\n",
       "      <td>ChomskyNormalFormFF</td>\n",
       "      <td>0</td>\n",
       "      <td>11</td>\n",
       "      <td>{}</td>\n",
       "      <td>{0, 1, 2, 3, 4, 5, 6, 7, 8, 10, 11}</td>\n",
       "      <td>[3, 2, 2, 2, 2, 2, 2, 1, 1, 1, 2]</td>\n",
       "      <td>[7, 3, 3, 3, 3, 3, 3, 1, 1, 1, 3]</td>\n",
       "      <td>12</td>\n",
       "      <td>Normal</td>\n",
       "      <td>0.092659</td>\n",
       "      <td>22</td>\n",
       "    </tr>\n",
       "    <tr>\n",
       "      <th>477</th>\n",
       "      <td>ChomskyNormalFormFF</td>\n",
       "      <td>7</td>\n",
       "      <td>11</td>\n",
       "      <td>{0, 1, 5, 6}</td>\n",
       "      <td>{0, 1, 2, 3, 4, 5, 6, 7, 8, 10, 11}</td>\n",
       "      <td>[3, 2, 2, 2, 2, 2, 2, 1, 1, 1, 2]</td>\n",
       "      <td>[7, 3, 3, 3, 3, 3, 3, 1, 1, 1, 3]</td>\n",
       "      <td>19</td>\n",
       "      <td>Normal</td>\n",
       "      <td>0.318750</td>\n",
       "      <td>22</td>\n",
       "    </tr>\n",
       "    <tr>\n",
       "      <th>...</th>\n",
       "      <td>...</td>\n",
       "      <td>...</td>\n",
       "      <td>...</td>\n",
       "      <td>...</td>\n",
       "      <td>...</td>\n",
       "      <td>...</td>\n",
       "      <td>...</td>\n",
       "      <td>...</td>\n",
       "      <td>...</td>\n",
       "      <td>...</td>\n",
       "      <td>...</td>\n",
       "    </tr>\n",
       "    <tr>\n",
       "      <th>2322</th>\n",
       "      <td>ChomskyNormalFormFF</td>\n",
       "      <td>2</td>\n",
       "      <td>11</td>\n",
       "      <td>{0, 11}</td>\n",
       "      <td>{0, 1, 2, 3, 4, 5, 6, 7, 8, 10, 11}</td>\n",
       "      <td>[3, 2, 2, 2, 2, 2, 2, 1, 1, 1, 2]</td>\n",
       "      <td>[7, 3, 3, 3, 3, 3, 3, 1, 1, 1, 3]</td>\n",
       "      <td>15</td>\n",
       "      <td>Normal</td>\n",
       "      <td>0.012669</td>\n",
       "      <td>22</td>\n",
       "    </tr>\n",
       "    <tr>\n",
       "      <th>2342</th>\n",
       "      <td>ChomskyNormalFormFF</td>\n",
       "      <td>4</td>\n",
       "      <td>11</td>\n",
       "      <td>{0, 11, 4}</td>\n",
       "      <td>{0, 1, 2, 3, 4, 5, 6, 7, 8, 10, 11}</td>\n",
       "      <td>[3, 2, 2, 2, 2, 2, 2, 1, 1, 1, 2]</td>\n",
       "      <td>[7, 3, 3, 3, 3, 3, 3, 1, 1, 1, 3]</td>\n",
       "      <td>16</td>\n",
       "      <td>Normal</td>\n",
       "      <td>0.033847</td>\n",
       "      <td>22</td>\n",
       "    </tr>\n",
       "    <tr>\n",
       "      <th>2414</th>\n",
       "      <td>ChomskyNormalFormFF</td>\n",
       "      <td>2</td>\n",
       "      <td>11</td>\n",
       "      <td>{0}</td>\n",
       "      <td>{0, 1, 2, 3, 4, 5, 6, 7, 8, 10, 11}</td>\n",
       "      <td>[3, 2, 2, 2, 2, 2, 2, 1, 1, 1, 2]</td>\n",
       "      <td>[7, 3, 3, 3, 3, 3, 3, 1, 1, 1, 3]</td>\n",
       "      <td>14</td>\n",
       "      <td>Normal</td>\n",
       "      <td>0.025490</td>\n",
       "      <td>22</td>\n",
       "    </tr>\n",
       "    <tr>\n",
       "      <th>2458</th>\n",
       "      <td>ChomskyNormalFormFF</td>\n",
       "      <td>1</td>\n",
       "      <td>11</td>\n",
       "      <td>{5}</td>\n",
       "      <td>{0, 1, 2, 3, 4, 5, 6, 7, 8, 10, 11}</td>\n",
       "      <td>[3, 2, 2, 2, 2, 2, 2, 1, 1, 1, 2]</td>\n",
       "      <td>[7, 3, 3, 3, 3, 3, 3, 1, 1, 1, 3]</td>\n",
       "      <td>13</td>\n",
       "      <td>Normal</td>\n",
       "      <td>0.050559</td>\n",
       "      <td>22</td>\n",
       "    </tr>\n",
       "    <tr>\n",
       "      <th>2499</th>\n",
       "      <td>ChomskyNormalFormFF</td>\n",
       "      <td>1</td>\n",
       "      <td>2</td>\n",
       "      <td>{11}</td>\n",
       "      <td>{10, 11}</td>\n",
       "      <td>[1, 2]</td>\n",
       "      <td>[1, 3]</td>\n",
       "      <td>4</td>\n",
       "      <td>Normal</td>\n",
       "      <td>0.293856</td>\n",
       "      <td>4</td>\n",
       "    </tr>\n",
       "    <tr>\n",
       "      <th>2510</th>\n",
       "      <td>ChomskyNormalFormFF</td>\n",
       "      <td>1</td>\n",
       "      <td>11</td>\n",
       "      <td>{6}</td>\n",
       "      <td>{0, 1, 2, 3, 4, 5, 6, 7, 8, 10, 11}</td>\n",
       "      <td>[3, 2, 2, 2, 2, 2, 2, 1, 1, 1, 2]</td>\n",
       "      <td>[7, 3, 3, 3, 3, 3, 3, 1, 1, 1, 3]</td>\n",
       "      <td>13</td>\n",
       "      <td>Normal</td>\n",
       "      <td>0.050847</td>\n",
       "      <td>22</td>\n",
       "    </tr>\n",
       "    <tr>\n",
       "      <th>2553</th>\n",
       "      <td>ChomskyNormalFormFF</td>\n",
       "      <td>0</td>\n",
       "      <td>11</td>\n",
       "      <td>{}</td>\n",
       "      <td>{0, 1, 2, 3, 4, 5, 6, 7, 8, 10, 11}</td>\n",
       "      <td>[3, 2, 2, 2, 2, 2, 2, 1, 1, 1, 2]</td>\n",
       "      <td>[7, 3, 3, 3, 3, 3, 3, 1, 1, 1, 3]</td>\n",
       "      <td>12</td>\n",
       "      <td>Normal</td>\n",
       "      <td>0.092046</td>\n",
       "      <td>22</td>\n",
       "    </tr>\n",
       "    <tr>\n",
       "      <th>2593</th>\n",
       "      <td>ChomskyNormalFormFF</td>\n",
       "      <td>0</td>\n",
       "      <td>3</td>\n",
       "      <td>{}</td>\n",
       "      <td>{8, 10, 11}</td>\n",
       "      <td>[1, 1, 2]</td>\n",
       "      <td>[1, 1, 3]</td>\n",
       "      <td>4</td>\n",
       "      <td>Normal</td>\n",
       "      <td>0.071673</td>\n",
       "      <td>6</td>\n",
       "    </tr>\n",
       "    <tr>\n",
       "      <th>2635</th>\n",
       "      <td>ChomskyNormalFormFF</td>\n",
       "      <td>8</td>\n",
       "      <td>5</td>\n",
       "      <td>{6}</td>\n",
       "      <td>{6, 7, 8, 10, 11}</td>\n",
       "      <td>[2, 1, 1, 1, 2]</td>\n",
       "      <td>[3, 1, 1, 1, 3]</td>\n",
       "      <td>14</td>\n",
       "      <td>Credit Seeking</td>\n",
       "      <td>0.984882</td>\n",
       "      <td>10</td>\n",
       "    </tr>\n",
       "    <tr>\n",
       "      <th>2678</th>\n",
       "      <td>ChomskyNormalFormFF</td>\n",
       "      <td>4</td>\n",
       "      <td>11</td>\n",
       "      <td>{1, 2, 3, 6}</td>\n",
       "      <td>{0, 1, 2, 3, 4, 5, 6, 7, 8, 10, 11}</td>\n",
       "      <td>[3, 2, 2, 2, 2, 2, 2, 1, 1, 1, 2]</td>\n",
       "      <td>[7, 3, 3, 3, 3, 3, 3, 1, 1, 1, 3]</td>\n",
       "      <td>16</td>\n",
       "      <td>Normal</td>\n",
       "      <td>0.047259</td>\n",
       "      <td>22</td>\n",
       "    </tr>\n",
       "    <tr>\n",
       "      <th>2703</th>\n",
       "      <td>ChomskyNormalFormFF</td>\n",
       "      <td>2</td>\n",
       "      <td>11</td>\n",
       "      <td>{3, 6}</td>\n",
       "      <td>{0, 1, 2, 3, 4, 5, 6, 7, 8, 10, 11}</td>\n",
       "      <td>[3, 2, 2, 2, 2, 2, 2, 1, 1, 1, 2]</td>\n",
       "      <td>[7, 3, 3, 3, 3, 3, 3, 1, 1, 1, 3]</td>\n",
       "      <td>14</td>\n",
       "      <td>Normal</td>\n",
       "      <td>0.018594</td>\n",
       "      <td>22</td>\n",
       "    </tr>\n",
       "    <tr>\n",
       "      <th>2743</th>\n",
       "      <td>ChomskyNormalFormFF</td>\n",
       "      <td>3</td>\n",
       "      <td>11</td>\n",
       "      <td>{11, 5, 6}</td>\n",
       "      <td>{0, 1, 2, 3, 4, 5, 6, 7, 8, 10, 11}</td>\n",
       "      <td>[3, 2, 2, 2, 2, 2, 2, 1, 1, 1, 2]</td>\n",
       "      <td>[7, 3, 3, 3, 3, 3, 3, 1, 1, 1, 3]</td>\n",
       "      <td>15</td>\n",
       "      <td>Normal</td>\n",
       "      <td>0.000745</td>\n",
       "      <td>22</td>\n",
       "    </tr>\n",
       "  </tbody>\n",
       "</table>\n",
       "<p>73 rows × 11 columns</p>\n",
       "</div>"
      ],
      "text/plain": [
       "       curr_frameset_name  n_incorrect_attempts_multi  \\\n",
       "36    ChomskyNormalFormFF                           4   \n",
       "57    ChomskyNormalFormFF                           1   \n",
       "91    ChomskyNormalFormFF                           3   \n",
       "129   ChomskyNormalFormFF                          10   \n",
       "150   ChomskyNormalFormFF                           0   \n",
       "181   ChomskyNormalFormFF                           4   \n",
       "198   ChomskyNormalFormFF                           0   \n",
       "260   ChomskyNormalFormFF                           0   \n",
       "336   ChomskyNormalFormFF                           5   \n",
       "380   ChomskyNormalFormFF                           2   \n",
       "428   ChomskyNormalFormFF                           0   \n",
       "477   ChomskyNormalFormFF                           7   \n",
       "...                   ...                         ...   \n",
       "2322  ChomskyNormalFormFF                           2   \n",
       "2342  ChomskyNormalFormFF                           4   \n",
       "2414  ChomskyNormalFormFF                           2   \n",
       "2458  ChomskyNormalFormFF                           1   \n",
       "2499  ChomskyNormalFormFF                           1   \n",
       "2510  ChomskyNormalFormFF                           1   \n",
       "2553  ChomskyNormalFormFF                           0   \n",
       "2593  ChomskyNormalFormFF                           0   \n",
       "2635  ChomskyNormalFormFF                           8   \n",
       "2678  ChomskyNormalFormFF                           4   \n",
       "2703  ChomskyNormalFormFF                           2   \n",
       "2743  ChomskyNormalFormFF                           3   \n",
       "\n",
       "      n_correct_attempts_multi questions_incorrect_multi  \\\n",
       "36                          11              {0, 3, 5, 7}   \n",
       "57                          11                       {2}   \n",
       "91                          12                {2, 11, 4}   \n",
       "129                          5                       {6}   \n",
       "150                         11                        {}   \n",
       "181                         11             {11, 3, 4, 5}   \n",
       "198                         11                        {}   \n",
       "260                          6                        {}   \n",
       "336                         11             {0, 11, 3, 4}   \n",
       "380                         11                    {2, 5}   \n",
       "428                         11                        {}   \n",
       "477                         11              {0, 1, 5, 6}   \n",
       "...                        ...                       ...   \n",
       "2322                        11                   {0, 11}   \n",
       "2342                        11                {0, 11, 4}   \n",
       "2414                        11                       {0}   \n",
       "2458                        11                       {5}   \n",
       "2499                         2                      {11}   \n",
       "2510                        11                       {6}   \n",
       "2553                        11                        {}   \n",
       "2593                         3                        {}   \n",
       "2635                         5                       {6}   \n",
       "2678                        11              {1, 2, 3, 6}   \n",
       "2703                        11                    {3, 6}   \n",
       "2743                        11                {11, 5, 6}   \n",
       "\n",
       "                  questions_correct_multi                      choices_multi  \\\n",
       "36    {0, 1, 2, 3, 4, 5, 6, 7, 8, 10, 11}  [3, 2, 2, 2, 2, 2, 2, 1, 1, 1, 2]   \n",
       "57    {0, 1, 2, 3, 4, 5, 6, 7, 8, 10, 11}  [3, 2, 2, 2, 2, 2, 2, 1, 1, 1, 2]   \n",
       "91    {0, 1, 2, 3, 4, 5, 6, 7, 8, 10, 11}  [3, 2, 2, 2, 2, 2, 2, 1, 1, 1, 2]   \n",
       "129                     {6, 7, 8, 10, 11}                    [2, 1, 1, 1, 2]   \n",
       "150   {0, 1, 2, 3, 4, 5, 6, 7, 8, 10, 11}  [3, 2, 2, 2, 2, 2, 2, 1, 1, 1, 2]   \n",
       "181   {0, 1, 2, 3, 4, 5, 6, 7, 8, 10, 11}  [3, 2, 2, 2, 2, 2, 2, 1, 1, 1, 2]   \n",
       "198   {0, 1, 2, 3, 4, 5, 6, 7, 8, 10, 11}  [3, 2, 2, 2, 2, 2, 2, 1, 1, 1, 2]   \n",
       "260                     {6, 7, 8, 10, 11}                    [2, 1, 1, 1, 2]   \n",
       "336   {0, 1, 2, 3, 4, 5, 6, 7, 8, 10, 11}  [3, 2, 2, 2, 2, 2, 2, 1, 1, 1, 2]   \n",
       "380   {0, 1, 2, 3, 4, 5, 6, 7, 8, 10, 11}  [3, 2, 2, 2, 2, 2, 2, 1, 1, 1, 2]   \n",
       "428   {0, 1, 2, 3, 4, 5, 6, 7, 8, 10, 11}  [3, 2, 2, 2, 2, 2, 2, 1, 1, 1, 2]   \n",
       "477   {0, 1, 2, 3, 4, 5, 6, 7, 8, 10, 11}  [3, 2, 2, 2, 2, 2, 2, 1, 1, 1, 2]   \n",
       "...                                   ...                                ...   \n",
       "2322  {0, 1, 2, 3, 4, 5, 6, 7, 8, 10, 11}  [3, 2, 2, 2, 2, 2, 2, 1, 1, 1, 2]   \n",
       "2342  {0, 1, 2, 3, 4, 5, 6, 7, 8, 10, 11}  [3, 2, 2, 2, 2, 2, 2, 1, 1, 1, 2]   \n",
       "2414  {0, 1, 2, 3, 4, 5, 6, 7, 8, 10, 11}  [3, 2, 2, 2, 2, 2, 2, 1, 1, 1, 2]   \n",
       "2458  {0, 1, 2, 3, 4, 5, 6, 7, 8, 10, 11}  [3, 2, 2, 2, 2, 2, 2, 1, 1, 1, 2]   \n",
       "2499                             {10, 11}                             [1, 2]   \n",
       "2510  {0, 1, 2, 3, 4, 5, 6, 7, 8, 10, 11}  [3, 2, 2, 2, 2, 2, 2, 1, 1, 1, 2]   \n",
       "2553  {0, 1, 2, 3, 4, 5, 6, 7, 8, 10, 11}  [3, 2, 2, 2, 2, 2, 2, 1, 1, 1, 2]   \n",
       "2593                          {8, 10, 11}                          [1, 1, 2]   \n",
       "2635                    {6, 7, 8, 10, 11}                    [2, 1, 1, 1, 2]   \n",
       "2678  {0, 1, 2, 3, 4, 5, 6, 7, 8, 10, 11}  [3, 2, 2, 2, 2, 2, 2, 1, 1, 1, 2]   \n",
       "2703  {0, 1, 2, 3, 4, 5, 6, 7, 8, 10, 11}  [3, 2, 2, 2, 2, 2, 2, 1, 1, 1, 2]   \n",
       "2743  {0, 1, 2, 3, 4, 5, 6, 7, 8, 10, 11}  [3, 2, 2, 2, 2, 2, 2, 1, 1, 1, 2]   \n",
       "\n",
       "                        solutions_multi  n_interactions         cluster  \\\n",
       "36    [7, 3, 3, 3, 3, 3, 3, 1, 1, 1, 3]              16          Normal   \n",
       "57    [7, 3, 3, 3, 3, 3, 3, 1, 1, 1, 3]              13          Normal   \n",
       "91    [7, 3, 3, 3, 3, 3, 3, 1, 1, 1, 3]              17          Normal   \n",
       "129                     [3, 1, 1, 1, 3]              16  Credit Seeking   \n",
       "150   [7, 3, 3, 3, 3, 3, 3, 1, 1, 1, 3]              12          Normal   \n",
       "181   [7, 3, 3, 3, 3, 3, 3, 1, 1, 1, 3]              16          Normal   \n",
       "198   [7, 3, 3, 3, 3, 3, 3, 1, 1, 1, 3]              13          Normal   \n",
       "260                     [3, 1, 1, 1, 3]               7          Normal   \n",
       "336   [7, 3, 3, 3, 3, 3, 3, 1, 1, 1, 3]              17          Normal   \n",
       "380   [7, 3, 3, 3, 3, 3, 3, 1, 1, 1, 3]              14          Normal   \n",
       "428   [7, 3, 3, 3, 3, 3, 3, 1, 1, 1, 3]              12          Normal   \n",
       "477   [7, 3, 3, 3, 3, 3, 3, 1, 1, 1, 3]              19          Normal   \n",
       "...                                 ...             ...             ...   \n",
       "2322  [7, 3, 3, 3, 3, 3, 3, 1, 1, 1, 3]              15          Normal   \n",
       "2342  [7, 3, 3, 3, 3, 3, 3, 1, 1, 1, 3]              16          Normal   \n",
       "2414  [7, 3, 3, 3, 3, 3, 3, 1, 1, 1, 3]              14          Normal   \n",
       "2458  [7, 3, 3, 3, 3, 3, 3, 1, 1, 1, 3]              13          Normal   \n",
       "2499                             [1, 3]               4          Normal   \n",
       "2510  [7, 3, 3, 3, 3, 3, 3, 1, 1, 1, 3]              13          Normal   \n",
       "2553  [7, 3, 3, 3, 3, 3, 3, 1, 1, 1, 3]              12          Normal   \n",
       "2593                          [1, 1, 3]               4          Normal   \n",
       "2635                    [3, 1, 1, 1, 3]              14  Credit Seeking   \n",
       "2678  [7, 3, 3, 3, 3, 3, 3, 1, 1, 1, 3]              16          Normal   \n",
       "2703  [7, 3, 3, 3, 3, 3, 3, 1, 1, 1, 3]              14          Normal   \n",
       "2743  [7, 3, 3, 3, 3, 3, 3, 1, 1, 1, 3]              15          Normal   \n",
       "\n",
       "             u  n_multi  \n",
       "36    0.035129       22  \n",
       "57    0.049238       22  \n",
       "91    0.025785       24  \n",
       "129   0.988122       10  \n",
       "150   0.091837       22  \n",
       "181   0.045145       22  \n",
       "198   0.049955       22  \n",
       "260   0.142739       12  \n",
       "336   0.093601       22  \n",
       "380   0.021059       22  \n",
       "428   0.092659       22  \n",
       "477   0.318750       22  \n",
       "...        ...      ...  \n",
       "2322  0.012669       22  \n",
       "2342  0.033847       22  \n",
       "2414  0.025490       22  \n",
       "2458  0.050559       22  \n",
       "2499  0.293856        4  \n",
       "2510  0.050847       22  \n",
       "2553  0.092046       22  \n",
       "2593  0.071673        6  \n",
       "2635  0.984882       10  \n",
       "2678  0.047259       22  \n",
       "2703  0.018594       22  \n",
       "2743  0.000745       22  \n",
       "\n",
       "[73 rows x 11 columns]"
      ]
     },
     "execution_count": 117,
     "metadata": {},
     "output_type": "execute_result"
    }
   ],
   "source": [
    "sessions_attributes_fine_grained_single[sessions_attributes_fine_grained_single[\"single_choices_mean\"]==1][['curr_frameset_name','n_incorrect_attempts_single',\n",
    "       'n_correct_attempts_single', 'questions_incorrect_single',\n",
    "       'questions_correct_single', 'choices_single', 'solutions_single',\n",
    "       'n_interactions', 'cluster', 'u', 'n_single',]]"
   ]
  },
  {
   "cell_type": "code",
   "execution_count": 595,
   "id": "456cf5e1-e298-41ef-9aba-f5df5eeb507e",
   "metadata": {},
   "outputs": [
    {
     "data": {
      "image/png": "[encoded data removed]",
      "text/plain": [
       "<Figure size 1080x1080 with 1 Axes>"
      ]
     },
     "metadata": {
      "needs_background": "light"
     },
     "output_type": "display_data"
    }
   ],
   "source": [
    "Y = \"time_spent_incorrect_single_sum\" \n",
    "X = \"single_choices_median\"\n",
    "# res = stats.linregress(sessions_attributes_fine_grained_single[X], sessions_attributes_fine_grained_single[Y])\n",
    "# rvalue, pvalue = stats.pearsonr(x=sessions_attributes_fine_grained_single[X], y=sessions_attributes_fine_grained_single[Y])\n",
    "# print(f\"R: {res.rvalue}\")\n",
    "# print(\"P-value\", pvalue)\n",
    "fig, axs = plt.subplots(figsize=(15,15))\n",
    "\n",
    "gfg = sns.lineplot(data=sessions_attributes_fine_grained_single, x=X, y=Y , hue='cluster',markers=True,dashes=False)# bins=30)\n",
    "\n",
    "gfg.set(\n",
    "    xlabel=\"Number of choices in a single-choice question\",\n",
    "    ylabel=\"Time spent on incorrect attempts (seconds)\"\n",
    ")\n",
    "# plt.legend(loc='upper right',  frameon=True,  shadow=True, title='r = -0.269\\np-value = 0.002')\n",
    "plt.legend(loc='upper left')\n",
    "\n",
    "plt.show()\n",
    "fig.savefig(\"single-choice-median-time-incorrect.pdf\", facecolor=\"white\",dpi=500)\n",
    "\n",
    "# It means whether there are singleple number of choices or not, we may classifiy it as credit seeking or not"
   ]
  },
  {
   "cell_type": "code",
   "execution_count": 596,
   "id": "60888b8e-a4d6-442a-90be-b376c6752764",
   "metadata": {},
   "outputs": [
    {
     "data": {
      "image/png": "[encoded data removed]",
      "text/plain": [
       "<Figure size 1080x1080 with 1 Axes>"
      ]
     },
     "metadata": {
      "needs_background": "light"
     },
     "output_type": "display_data"
    }
   ],
   "source": [
    "Y = \"percent_consecutive_incorrect_interactions\" \n",
    "X = \"single_choices_median\"\n",
    "# res = stats.linregress(sessions_attributes_fine_grained_single[X], sessions_attributes_fine_grained_single[Y])\n",
    "# rvalue, pvalue = stats.pearsonr(x=sessions_attributes_fine_grained_single[X], y=sessions_attributes_fine_grained_single[Y])\n",
    "# print(f\"R: {res.rvalue}\")\n",
    "# print(\"P-value\", pvalue)\n",
    "fig, axs = plt.subplots(figsize=(15,15))\n",
    "\n",
    "# gfg = sns.histplot(data=sessions_attributes_fine_grained_single, x=X,hue='u', singleple=\"dodge\",stat=\"percent\", shrink=.8,)# bins=30)\n",
    "gfg = sns.lineplot(data=sessions_attributes_fine_grained_single, x=X, y=Y , hue='cluster')# bins=30)\n",
    "# gfg = sns.lineplot(x=sessions_attributes_fine_grained_single[X], y=res.intercept + res.slope * sessions_attributes_fine_grained_single[X])\n",
    "\n",
    "gfg.set(\n",
    "    xlabel=\"Number of choices in a single-choice question\",\n",
    "    ylabel=\"Percentage of consecutive incorrect attempts\",\n",
    ")\n",
    "# plt.legend(loc='upper right',  frameon=True,  shadow=True, title='r = -0.269\\np-value = 0.002')\n",
    "plt.legend(loc='upper left')\n",
    "plt.show()\n",
    "fig.savefig(\"single-choice-median-consecutive-percentage-incorrect.pdf\", facecolor=\"white\",dpi=500)\n",
    "\n",
    "# It means whether there are singleple number of choices or not, we may classifiy it as credit seeking or not"
   ]
  }
 ],
 "metadata": {
  "kernelspec": {
   "display_name": "Python 3 (ipykernel)",
   "language": "python",
   "name": "python3"
  },
  "language_info": {
   "codemirror_mode": {
    "name": "ipython",
    "version": 3
   },
   "file_extension": ".py",
   "mimetype": "text/x-python",
   "name": "python",
   "nbconvert_exporter": "python",
   "pygments_lexer": "ipython3",
   "version": "3.10.2"
  }
 },
 "nbformat": 4,
 "nbformat_minor": 5
}
