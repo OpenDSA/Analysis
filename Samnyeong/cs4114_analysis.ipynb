{
  "cells": [
    {
      "cell_type": "code",
      "execution_count": 42,
      "metadata": {
        "colab": {
          "base_uri": "https://localhost:8080/"
        },
        "id": "4WmurwwprFAJ",
        "outputId": "ec73dceb-b8ff-46d2-9a92-881e119882cc"
      },
      "outputs": [
        {
          "output_type": "stream",
          "name": "stdout",
          "text": [
            "Drive already mounted at /content/gdrive; to attempt to forcibly remount, call drive.mount(\"/content/gdrive\", force_remount=True).\n"
          ]
        }
      ],
      "source": [
        "from google.colab import drive\n",
        "drive.mount('/content/gdrive')\n"
      ]
    },
    {
      "cell_type": "code",
      "execution_count": 43,
      "metadata": {
        "id": "znYcQP2lrKQh"
      },
      "outputs": [],
      "source": [
        "import sys\n",
        "customized_path_to_homework = \"/content/gdrive/My Drive/Research\"\n",
        "sys.path.append(customized_path_to_homework)"
      ]
    },
    {
      "cell_type": "code",
      "execution_count": 44,
      "metadata": {
        "id": "gZ3M0wgprOTn",
        "colab": {
          "base_uri": "https://localhost:8080/"
        },
        "outputId": "b72e146f-08d6-4ecf-a783-ecce3fd48bab"
      },
      "outputs": [
        {
          "output_type": "stream",
          "name": "stdout",
          "text": [
            "The autoreload extension is already loaded. To reload it, use:\n",
            "  %reload_ext autoreload\n"
          ]
        }
      ],
      "source": [
        "import os, sys\n",
        "import pandas as pd\n",
        "import numpy as np\n",
        "import matplotlib.mlab as mlab\n",
        "import matplotlib.pyplot as plt\n",
        "from datetime import datetime as dt, timedelta\n",
        "import warnings\n",
        "import seaborn as sns\n",
        "sys.path.insert(0,'../')\n",
        "%load_ext autoreload\n",
        "%autoreload 2\n",
        "warnings.filterwarnings('ignore')"
      ]
    },
    {
      "cell_type": "markdown",
      "source": [
        "**Load data**"
      ],
      "metadata": {
        "id": "rSW_2JV_uQ0r"
      }
    },
    {
      "cell_type": "code",
      "execution_count": 45,
      "metadata": {
        "id": "VYJwo8zurP1c"
      },
      "outputs": [],
      "source": [
        "file_name = \"cs4114_spring_2021\"\n",
        "data = pd.read_csv(\"/content/gdrive/My Drive/Research/\" + file_name + \"_merged_result_unannotated.csv\")\n",
        "data.loc[(data['Event name'] == 'Other event') & (data['Event Description'].str.contains(\"PE\") == True) & (data['Number of events'] > 1), \"Event name\"] = \"PE event\"\n",
        "sorted_data = pd.read_csv(\"/content/gdrive/My Drive/Research/\" + file_name + \"_sorted.csv\")\n",
        "\n",
        "pi_attempts = pd.read_csv(\"/content/gdrive/My Drive/Research/pi_attempts.csv\")\n",
        "\n",
        "users = data['user ID'].unique()\n",
        "df_dict = {elem: pd.DataFrame for elem in users}\n",
        "for user in df_dict.keys():\n",
        "    df_dict[user] = data[:][data['user ID'] == user]"
      ]
    },
    {
      "cell_type": "code",
      "source": [
        "# drop students\n",
        "data = data[(data['user ID'] != 6616) & (data['user ID'] != 58)]\n",
        "sorted_data = sorted_data[(sorted_data['user_id'] != 6616) & (sorted_data['user_id'] != 58)]\n",
        "data['user ID'].unique()"
      ],
      "metadata": {
        "colab": {
          "base_uri": "https://localhost:8080/"
        },
        "id": "hfNlCMxmVwpL",
        "outputId": "4e38112a-7667-421d-de78-7f4e19d8a476"
      },
      "execution_count": 46,
      "outputs": [
        {
          "output_type": "execute_result",
          "data": {
            "text/plain": [
              "array([  812,  1270,  3041,  4622,  4679,  4800,  4918,  4922,  4934,\n",
              "        4999,  5085,  5115,  5137,  5168,  5230,  5671,  6494,  6523,\n",
              "        6536,  6545,  6555,  6559,  6572,  6582,  6590,  6658,  6660,\n",
              "        6682,  6688,  6701,  6704,  6707,  6724,  6819,  6859,  6866,\n",
              "        6881,  6884,  6885,  6900,  6921,  7265,  7510,  7523,  7537,\n",
              "        7548,  7582,  7607,  7619,  7666,  7676,  7713,  7723,  7724,\n",
              "        7734,  7756,  7778,  7952,  7957,  7981,  7986,  8009,  8045,\n",
              "        8070,  8130,  8556,  8828,  8900,  8984,  9203,  9306, 10174,\n",
              "       11604, 12467, 13690, 13695])"
            ]
          },
          "metadata": {},
          "execution_count": 46
        }
      ]
    },
    {
      "cell_type": "markdown",
      "source": [
        "Number of rows for raw data & abstracted data"
      ],
      "metadata": {
        "id": "ztu1j6m0vDYU"
      }
    },
    {
      "cell_type": "code",
      "source": [
        "data.groupby('user ID')['session'].max()"
      ],
      "metadata": {
        "id": "vzmyoyVlzCIV",
        "colab": {
          "base_uri": "https://localhost:8080/"
        },
        "outputId": "8be5f236-6cc1-42cc-9f29-c24281f83593"
      },
      "execution_count": 47,
      "outputs": [
        {
          "output_type": "execute_result",
          "data": {
            "text/plain": [
              "user ID\n",
              "812      42\n",
              "1270     33\n",
              "3041     13\n",
              "4622     73\n",
              "4679     39\n",
              "         ..\n",
              "10174     2\n",
              "11604     4\n",
              "12467    33\n",
              "13690    11\n",
              "13695    37\n",
              "Name: session, Length: 76, dtype: int64"
            ]
          },
          "metadata": {},
          "execution_count": 47
        }
      ]
    },
    {
      "cell_type": "code",
      "source": [
        "print(\"Number of rows for raw data: {}\".format(len(data.index)))\n",
        "print(\"Number of rows for abstracted data: {}\".format(len(sorted_data.index)))\n",
        "print(\"Number of sessions: {}\".format(data.groupby('user ID')['session'].max().sum()))"
      ],
      "metadata": {
        "colab": {
          "base_uri": "https://localhost:8080/"
        },
        "id": "Zx01U75evMds",
        "outputId": "16e6d6d4-41cb-46f9-c7da-88ec161cc5a9"
      },
      "execution_count": 48,
      "outputs": [
        {
          "output_type": "stream",
          "name": "stdout",
          "text": [
            "Number of rows for raw data: 126412\n",
            "Number of rows for abstracted data: 1638155\n",
            "Number of sessions: 3490\n"
          ]
        }
      ]
    },
    {
      "cell_type": "markdown",
      "source": [
        "Top 10 most used frames (Based on number of each frame event counts)"
      ],
      "metadata": {
        "id": "WN_kK1T5wK1L"
      }
    },
    {
      "cell_type": "code",
      "source": [
        "frames_df = sorted_data[((sorted_data['name'] == 'jsav-forward') | (sorted_data['name'] == 'jsav-backward') | (sorted_data['name'] == 'jsav-begin') | (sorted_data['name'] == 'jsav-end')) & (sorted_data['ex_type'] != 'pe')] \n",
        "# frames_df = frames_df[frames_df['action_time'] != frames_df['action_time']]\n",
        "frames_df['description'] = frames_df['description'].str.replace('{|}|\"','')\n",
        "frames_df[['ev_num','current','total']] = frames_df['description'].str.split(',',expand=True)\n",
        "frames_df['current'] = frames_df['current'].str.replace('currentStep:','')\n",
        "frames_df['total'] = frames_df['total'].str.replace('totalSteps:','')\n",
        "frames_df['current'] = frames_df['current'].astype(int)\n",
        "frames_df['total'] = frames_df['total'].astype(int)\n",
        "frames_df = frames_df.sort_values(['action_time', 'current'])\n",
        "frames_df = frames_df.drop_duplicates(subset=['action_time', 'short_name'], keep=False)\n",
        "#frames_df = frames_df[~frames_df[['action_time', 'short_name']].duplicated() | ~frames_df['name'].eq('jsav-forward')]"
      ],
      "metadata": {
        "id": "zK0Bcz5AwMt6"
      },
      "execution_count": 49,
      "outputs": []
    },
    {
      "cell_type": "code",
      "source": [
        "# top_frames = frames_df[['short_name','user_id']].groupby(['short_name'])['user_id'].count().reset_index(name='count').sort_values(['count'], ascending=False)\n",
        "top_frames = frames_df['short_name'].value_counts()\n",
        "top_10_frames = top_frames.head(10).index.tolist()\n",
        "top_10_frames"
      ],
      "metadata": {
        "id": "fAUAyjMtxO6y",
        "colab": {
          "base_uri": "https://localhost:8080/"
        },
        "outputId": "72a40634-5360-47f2-c5e1-240ee380e7c3"
      },
      "execution_count": 50,
      "outputs": [
        {
          "output_type": "execute_result",
          "data": {
            "text/plain": [
              "['LanguagesFS',\n",
              " 'TMGeneralModel',\n",
              " 'TravelSalesman',\n",
              " 'PLExample1FF',\n",
              " 'CFGDerivationsFF',\n",
              " 'GrammarIntroFS',\n",
              " 'PDACFLFF',\n",
              " 'PDAAcceptanceEquivalenceFF',\n",
              " 'LeftLinearGrammarFF',\n",
              " 'UnsolveableProblems1']"
            ]
          },
          "metadata": {},
          "execution_count": 50
        }
      ]
    },
    {
      "cell_type": "code",
      "source": [
        "# Only select frames data\n",
        "frames = data[(data['Event name'] == 'FF event')]\n",
        "frames['Action Time'] = frames[\"Action Time\"].str.replace('.0 seconds', '').astype(int)\n",
        "# Calculate total time and total event for each student\n",
        "totalTime = frames[(frames['Action Time'] > 0) & (frames['Action Time'] < 600)].groupby('user ID')['Action Time'].sum()\n",
        "totalEvent = frames[(frames['Action Time'] > 0) & (frames['Action Time'] < 600)].groupby('user ID')['Number of events'].sum()\n",
        "avg_time_spent_per_user = totalTime / totalEvent\n",
        "user_count = totalTime.count()"
      ],
      "metadata": {
        "id": "asZ8AbgoapTw"
      },
      "execution_count": 51,
      "outputs": []
    },
    {
      "cell_type": "markdown",
      "source": [
        "Bar chart - sorted by avgerage time spent on one slide (in top 10 frameset)"
      ],
      "metadata": {
        "id": "CFMiiRVa5L5d"
      }
    },
    {
      "cell_type": "code",
      "execution_count": 52,
      "metadata": {
        "id": "0P4Y1eJA1RfA",
        "colab": {
          "base_uri": "https://localhost:8080/",
          "height": 319
        },
        "outputId": "eebacd7f-9a3a-43b3-f2a6-35ad612be637"
      },
      "outputs": [
        {
          "output_type": "stream",
          "name": "stdout",
          "text": [
            "Average time (in sec) spend per slide: 2.8514920000964525 seconds\n"
          ]
        },
        {
          "output_type": "display_data",
          "data": {
            "text/plain": [
              "<Figure size 432x288 with 1 Axes>"
            ],
            "image/png": "[encoded data removed]"
          },
          "metadata": {
            "needs_background": "light"
          }
        }
      ],
      "source": [
        "ax = pd.DataFrame(avg_time_spent_per_user.items(), columns=['user_id', 'avg_time']).sort_values('avg_time')\n",
        "ax.plot.bar(x='user_id', y='avg_time', rot=90)\n",
        "\n",
        "print(\"Average time (in sec) spend per slide: {} seconds\".format(avg_time_spent_per_user.sum() / user_count))"
      ]
    },
    {
      "cell_type": "code",
      "execution_count": 53,
      "metadata": {
        "id": "z_T9OV4aczgt"
      },
      "outputs": [],
      "source": [
        "sorted_dict = sorted_data.to_dict('records')"
      ]
    },
    {
      "cell_type": "code",
      "execution_count": 54,
      "metadata": {
        "id": "iELM_tO-f8Zt"
      },
      "outputs": [],
      "source": [
        "d = {}\n",
        "forward_count = 0\n",
        "backward_count = 0\n",
        "user = sorted_dict[0]['user_id']\n",
        "for row in sorted_dict:\n",
        "  if user not in d:\n",
        "    d[user] = {}\n",
        "  if user != row['user_id']:\n",
        "    d[user]['forward'] = forward_count\n",
        "    d[user]['backward'] = backward_count\n",
        "    forward_count = 0\n",
        "    backward_count = 0\n",
        "    user = row['user_id']\n",
        "  if row['name'] == 'jsav-forward':\n",
        "    forward_count += 1\n",
        "  elif row['name'] == 'jsav-backward':\n",
        "    backward_count += 1\n",
        "d[user]['forward'] = forward_count\n",
        "d[user]['backward'] = backward_count"
      ]
    },
    {
      "cell_type": "code",
      "execution_count": 55,
      "metadata": {
        "id": "XBDz6f1dj6rp",
        "colab": {
          "base_uri": "https://localhost:8080/",
          "height": 330
        },
        "outputId": "c9e018d0-8ddd-491e-a6bc-529743274895"
      },
      "outputs": [
        {
          "output_type": "display_data",
          "data": {
            "text/plain": [
              "<Figure size 432x288 with 1 Axes>"
            ],
            "image/png": "[encoded data removed]"
          },
          "metadata": {
            "needs_background": "light"
          }
        },
        {
          "output_type": "stream",
          "name": "stdout",
          "text": [
            "Average forward event per student: 16554.0\n",
            "Average backward event per student: 373.07894736842104\n"
          ]
        }
      ],
      "source": [
        "names = list(d.keys())\n",
        "f = [ x['forward'] for x in d.values() ] \n",
        "b = [ x['backward'] for x in d.values() ] \n",
        "plt.bar(np.arange(len(d)) - 0.5, f, 1, color='red', label='forward')\n",
        "plt.bar(np.arange(len(d)) + 0.5, b, 1, color='green', label='backward')\n",
        "plt.plot()\n",
        "plt.xlabel(\"Users\")\n",
        "plt.ylabel(\"Event count\")\n",
        "plt.title(\"Number of forward and backward events\")\n",
        "plt.legend()\n",
        "plt.show()\n",
        "print(\"Average forward event per student: {}\".format(np.sum(f) / len(d)))\n",
        "print(\"Average backward event per student: {}\".format(np.sum(b) / len(d)))"
      ]
    },
    {
      "cell_type": "code",
      "source": [
        "temp = data[data['Action Time'].str.contains('Reading time') == True]\n",
        "temp['Action Time'] = temp['Action Time'].str[13:-3].astype(float)\n",
        "temp2 = temp[ (temp['Action Time'] > 0) & (temp['Action Time'] < 4000) ]\n",
        "temp2\n",
        "#df['col'] = df['col'].str[:9]\n",
        "print(temp2['Action Time'].describe())\n",
        "p = temp2['Action Time'].value_counts().plot(x=\"Action Time\", y=\"Count\")\n",
        "p.set_xlabel(\"Reading time in seconds\")\n",
        "p.set_ylabel(\"Number of Instances\")\n",
        "#data.head(10)"
      ],
      "metadata": {
        "id": "JvFIernyOVHU",
        "colab": {
          "base_uri": "https://localhost:8080/",
          "height": 453
        },
        "outputId": "07997d0d-c5d7-4a1d-fb62-03ffc563b12d"
      },
      "execution_count": 56,
      "outputs": [
        {
          "output_type": "stream",
          "name": "stdout",
          "text": [
            "count    23475.000000\n",
            "mean        21.488349\n",
            "std        112.320933\n",
            "min          1.000000\n",
            "25%          1.000000\n",
            "50%          3.000000\n",
            "75%          9.000000\n",
            "max       3574.000000\n",
            "Name: Action Time, dtype: float64\n"
          ]
        },
        {
          "output_type": "execute_result",
          "data": {
            "text/plain": [
              "Text(0, 0.5, 'Number of Instances')"
            ]
          },
          "metadata": {},
          "execution_count": 56
        },
        {
          "output_type": "display_data",
          "data": {
            "text/plain": [
              "<Figure size 432x288 with 1 Axes>"
            ],
            "image/png": "[encoded data removed]"
          },
          "metadata": {
            "needs_background": "light"
          }
        }
      ]
    },
    {
      "cell_type": "markdown",
      "source": [
        "Histogram of idle time (Session threshold reason)\n",
        "\n",
        "\n",
        "1.   Delta times between consecutive events\n",
        "\n",
        "\n",
        "---\n",
        "\n"
      ],
      "metadata": {
        "id": "jqy-c4Ma_N7g"
      }
    },
    {
      "cell_type": "code",
      "source": [
        "sorted_data['action_time'] = pd.to_datetime(sorted_data['action_time']) \n",
        "sorted_data['delta_time'] = sorted_data.groupby('user_id')['action_time'].diff()\n",
        "sorted_data['delta_time'] = sorted_data['delta_time'].dt.total_seconds()\n",
        "temp_sorted_data = sorted_data\n",
        "temp_sorted_data = temp_sorted_data[ (temp_sorted_data['delta_time'] > 0)]\n",
        "p = temp_sorted_data['delta_time'].plot.hist(bins= 200, range=(0, 100))\n",
        "\n",
        "p.set_xlabel(\"Delta times (seconds)\")\n",
        "p.set_ylabel(\"Number of Instances\")\n",
        "p.set_title(\"Delta times histogram\")\n",
        "temp_sorted_data['delta_time'].describe()"
      ],
      "metadata": {
        "id": "_ZwrJsCaOX_O",
        "colab": {
          "base_uri": "https://localhost:8080/",
          "height": 451
        },
        "outputId": "64a03672-1f93-42a1-b3e0-195dadf3c5c6"
      },
      "execution_count": 57,
      "outputs": [
        {
          "output_type": "execute_result",
          "data": {
            "text/plain": [
              "count    4.438740e+05\n",
              "mean     1.470614e+03\n",
              "std      4.534873e+04\n",
              "min      1.000000e+00\n",
              "25%      1.000000e+00\n",
              "50%      4.000000e+00\n",
              "75%      1.000000e+01\n",
              "max      7.860744e+06\n",
              "Name: delta_time, dtype: float64"
            ]
          },
          "metadata": {},
          "execution_count": 57
        },
        {
          "output_type": "display_data",
          "data": {
            "text/plain": [
              "<Figure size 432x288 with 1 Axes>"
            ],
            "image/png": "[encoded data removed]"
          },
          "metadata": {
            "needs_background": "light"
          }
        }
      ]
    },
    {
      "cell_type": "markdown",
      "source": [
        "Behavior 4 PI Credit Seeking"
      ],
      "metadata": {
        "id": "0JCV_TWrBwea"
      }
    },
    {
      "cell_type": "code",
      "source": [
        "behavior4 = frames_df\n",
        "behavior4['action_time'] = pd.to_datetime(behavior4['action_time'])\n",
        "behavior4['delta_time'] = behavior4.groupby('user_id')['action_time'].diff()\n",
        "behavior4['delta_time'] = behavior4['delta_time'].dt.total_seconds()\n",
        "total_frames_event = behavior4.groupby('user_id')['id'].count()\n",
        "\n",
        "\n",
        "credit_seeking_event = behavior4.groupby('user_id')['delta_time'].apply(lambda x: (x <= 8).sum()).reset_index(name='count')\n",
        "\n",
        "behavior4.groupby('user_id')['id'].agg(['count'])"
      ],
      "metadata": {
        "colab": {
          "base_uri": "https://localhost:8080/",
          "height": 455
        },
        "id": "eITIY9r3ByGQ",
        "outputId": "9ba04567-6abd-46a1-cdb1-b9c9dbde5744"
      },
      "execution_count": 58,
      "outputs": [
        {
          "output_type": "execute_result",
          "data": {
            "text/plain": [
              "         count\n",
              "user_id       \n",
              "812       2055\n",
              "1270       148\n",
              "3041       193\n",
              "4622      2889\n",
              "4679      1802\n",
              "...        ...\n",
              "9306      1407\n",
              "10174        1\n",
              "11604        3\n",
              "12467      708\n",
              "13695      477\n",
              "\n",
              "[71 rows x 1 columns]"
            ],
            "text/html": [
              "\n",
              "  <div id=\"df-548ee4ad-46a6-4ac3-bb9c-366b6f38e923\">\n",
              "    <div class=\"colab-df-container\">\n",
              "      <div>\n",
              "<style scoped>\n",
              "    .dataframe tbody tr th:only-of-type {\n",
              "        vertical-align: middle;\n",
              "    }\n",
              "\n",
              "    .dataframe tbody tr th {\n",
              "        vertical-align: top;\n",
              "    }\n",
              "\n",
              "    .dataframe thead th {\n",
              "        text-align: right;\n",
              "    }\n",
              "</style>\n",
              "<table border=\"1\" class=\"dataframe\">\n",
              "  <thead>\n",
              "    <tr style=\"text-align: right;\">\n",
              "      <th></th>\n",
              "      <th>count</th>\n",
              "    </tr>\n",
              "    <tr>\n",
              "      <th>user_id</th>\n",
              "      <th></th>\n",
              "    </tr>\n",
              "  </thead>\n",
              "  <tbody>\n",
              "    <tr>\n",
              "      <th>812</th>\n",
              "      <td>2055</td>\n",
              "    </tr>\n",
              "    <tr>\n",
              "      <th>1270</th>\n",
              "      <td>148</td>\n",
              "    </tr>\n",
              "    <tr>\n",
              "      <th>3041</th>\n",
              "      <td>193</td>\n",
              "    </tr>\n",
              "    <tr>\n",
              "      <th>4622</th>\n",
              "      <td>2889</td>\n",
              "    </tr>\n",
              "    <tr>\n",
              "      <th>4679</th>\n",
              "      <td>1802</td>\n",
              "    </tr>\n",
              "    <tr>\n",
              "      <th>...</th>\n",
              "      <td>...</td>\n",
              "    </tr>\n",
              "    <tr>\n",
              "      <th>9306</th>\n",
              "      <td>1407</td>\n",
              "    </tr>\n",
              "    <tr>\n",
              "      <th>10174</th>\n",
              "      <td>1</td>\n",
              "    </tr>\n",
              "    <tr>\n",
              "      <th>11604</th>\n",
              "      <td>3</td>\n",
              "    </tr>\n",
              "    <tr>\n",
              "      <th>12467</th>\n",
              "      <td>708</td>\n",
              "    </tr>\n",
              "    <tr>\n",
              "      <th>13695</th>\n",
              "      <td>477</td>\n",
              "    </tr>\n",
              "  </tbody>\n",
              "</table>\n",
              "<p>71 rows × 1 columns</p>\n",
              "</div>\n",
              "      <button class=\"colab-df-convert\" onclick=\"convertToInteractive('df-548ee4ad-46a6-4ac3-bb9c-366b6f38e923')\"\n",
              "              title=\"Convert this dataframe to an interactive table.\"\n",
              "              style=\"display:none;\">\n",
              "        \n",
              "  <svg xmlns=\"http://www.w3.org/2000/svg\" height=\"24px\"viewBox=\"0 0 24 24\"\n",
              "       width=\"24px\">\n",
              "    <path d=\"M0 0h24v24H0V0z\" fill=\"none\"/>\n",
              "    <path d=\"M18.56 5.44l.94 2.06.94-2.06 2.06-.94-2.06-.94-.94-2.06-.94 2.06-2.06.94zm-11 1L8.5 8.5l.94-2.06 2.06-.94-2.06-.94L8.5 2.5l-.94 2.06-2.06.94zm10 10l.94 2.06.94-2.06 2.06-.94-2.06-.94-.94-2.06-.94 2.06-2.06.94z\"/><path d=\"M17.41 7.96l-1.37-1.37c-.4-.4-.92-.59-1.43-.59-.52 0-1.04.2-1.43.59L10.3 9.45l-7.72 7.72c-.78.78-.78 2.05 0 2.83L4 21.41c.39.39.9.59 1.41.59.51 0 1.02-.2 1.41-.59l7.78-7.78 2.81-2.81c.8-.78.8-2.07 0-2.86zM5.41 20L4 18.59l7.72-7.72 1.47 1.35L5.41 20z\"/>\n",
              "  </svg>\n",
              "      </button>\n",
              "      \n",
              "  <style>\n",
              "    .colab-df-container {\n",
              "      display:flex;\n",
              "      flex-wrap:wrap;\n",
              "      gap: 12px;\n",
              "    }\n",
              "\n",
              "    .colab-df-convert {\n",
              "      background-color: #E8F0FE;\n",
              "      border: none;\n",
              "      border-radius: 50%;\n",
              "      cursor: pointer;\n",
              "      display: none;\n",
              "      fill: #1967D2;\n",
              "      height: 32px;\n",
              "      padding: 0 0 0 0;\n",
              "      width: 32px;\n",
              "    }\n",
              "\n",
              "    .colab-df-convert:hover {\n",
              "      background-color: #E2EBFA;\n",
              "      box-shadow: 0px 1px 2px rgba(60, 64, 67, 0.3), 0px 1px 3px 1px rgba(60, 64, 67, 0.15);\n",
              "      fill: #174EA6;\n",
              "    }\n",
              "\n",
              "    [theme=dark] .colab-df-convert {\n",
              "      background-color: #3B4455;\n",
              "      fill: #D2E3FC;\n",
              "    }\n",
              "\n",
              "    [theme=dark] .colab-df-convert:hover {\n",
              "      background-color: #434B5C;\n",
              "      box-shadow: 0px 1px 3px 1px rgba(0, 0, 0, 0.15);\n",
              "      filter: drop-shadow(0px 1px 2px rgba(0, 0, 0, 0.3));\n",
              "      fill: #FFFFFF;\n",
              "    }\n",
              "  </style>\n",
              "\n",
              "      <script>\n",
              "        const buttonEl =\n",
              "          document.querySelector('#df-548ee4ad-46a6-4ac3-bb9c-366b6f38e923 button.colab-df-convert');\n",
              "        buttonEl.style.display =\n",
              "          google.colab.kernel.accessAllowed ? 'block' : 'none';\n",
              "\n",
              "        async function convertToInteractive(key) {\n",
              "          const element = document.querySelector('#df-548ee4ad-46a6-4ac3-bb9c-366b6f38e923');\n",
              "          const dataTable =\n",
              "            await google.colab.kernel.invokeFunction('convertToInteractive',\n",
              "                                                     [key], {});\n",
              "          if (!dataTable) return;\n",
              "\n",
              "          const docLinkHtml = 'Like what you see? Visit the ' +\n",
              "            '<a target=\"_blank\" href=https://colab.research.google.com/notebooks/data_table.ipynb>data table notebook</a>'\n",
              "            + ' to learn more about interactive tables.';\n",
              "          element.innerHTML = '';\n",
              "          dataTable['output_type'] = 'display_data';\n",
              "          await google.colab.output.renderOutput(dataTable, element);\n",
              "          const docLink = document.createElement('div');\n",
              "          docLink.innerHTML = docLinkHtml;\n",
              "          element.appendChild(docLink);\n",
              "        }\n",
              "      </script>\n",
              "    </div>\n",
              "  </div>\n",
              "  "
            ]
          },
          "metadata": {},
          "execution_count": 58
        }
      ]
    },
    {
      "cell_type": "code",
      "source": [
        "print(\"======== Total PIFrames Credit Seeking related event number=======\")\n",
        "behavior4.groupby('user_id')['delta_time'].apply(lambda x: (x <= 8).sum()).reset_index(name='count')"
      ],
      "metadata": {
        "colab": {
          "base_uri": "https://localhost:8080/",
          "height": 441
        },
        "id": "GUMrWhn4BzE_",
        "outputId": "af5d5793-00d6-458b-cb53-913361e17ffe"
      },
      "execution_count": 59,
      "outputs": [
        {
          "output_type": "stream",
          "name": "stdout",
          "text": [
            "======== Total PIFrames Credit Seeking related event number=======\n"
          ]
        },
        {
          "output_type": "execute_result",
          "data": {
            "text/plain": [
              "    user_id  count\n",
              "0       812   1488\n",
              "1      1270     72\n",
              "2      3041     78\n",
              "3      4622   1516\n",
              "4      4679   1301\n",
              "..      ...    ...\n",
              "66     9306    937\n",
              "67    10174      0\n",
              "68    11604      1\n",
              "69    12467    483\n",
              "70    13695    207\n",
              "\n",
              "[71 rows x 2 columns]"
            ],
            "text/html": [
              "\n",
              "  <div id=\"df-9f5f1a6c-11ad-40f0-9b79-20572be099d4\">\n",
              "    <div class=\"colab-df-container\">\n",
              "      <div>\n",
              "<style scoped>\n",
              "    .dataframe tbody tr th:only-of-type {\n",
              "        vertical-align: middle;\n",
              "    }\n",
              "\n",
              "    .dataframe tbody tr th {\n",
              "        vertical-align: top;\n",
              "    }\n",
              "\n",
              "    .dataframe thead th {\n",
              "        text-align: right;\n",
              "    }\n",
              "</style>\n",
              "<table border=\"1\" class=\"dataframe\">\n",
              "  <thead>\n",
              "    <tr style=\"text-align: right;\">\n",
              "      <th></th>\n",
              "      <th>user_id</th>\n",
              "      <th>count</th>\n",
              "    </tr>\n",
              "  </thead>\n",
              "  <tbody>\n",
              "    <tr>\n",
              "      <th>0</th>\n",
              "      <td>812</td>\n",
              "      <td>1488</td>\n",
              "    </tr>\n",
              "    <tr>\n",
              "      <th>1</th>\n",
              "      <td>1270</td>\n",
              "      <td>72</td>\n",
              "    </tr>\n",
              "    <tr>\n",
              "      <th>2</th>\n",
              "      <td>3041</td>\n",
              "      <td>78</td>\n",
              "    </tr>\n",
              "    <tr>\n",
              "      <th>3</th>\n",
              "      <td>4622</td>\n",
              "      <td>1516</td>\n",
              "    </tr>\n",
              "    <tr>\n",
              "      <th>4</th>\n",
              "      <td>4679</td>\n",
              "      <td>1301</td>\n",
              "    </tr>\n",
              "    <tr>\n",
              "      <th>...</th>\n",
              "      <td>...</td>\n",
              "      <td>...</td>\n",
              "    </tr>\n",
              "    <tr>\n",
              "      <th>66</th>\n",
              "      <td>9306</td>\n",
              "      <td>937</td>\n",
              "    </tr>\n",
              "    <tr>\n",
              "      <th>67</th>\n",
              "      <td>10174</td>\n",
              "      <td>0</td>\n",
              "    </tr>\n",
              "    <tr>\n",
              "      <th>68</th>\n",
              "      <td>11604</td>\n",
              "      <td>1</td>\n",
              "    </tr>\n",
              "    <tr>\n",
              "      <th>69</th>\n",
              "      <td>12467</td>\n",
              "      <td>483</td>\n",
              "    </tr>\n",
              "    <tr>\n",
              "      <th>70</th>\n",
              "      <td>13695</td>\n",
              "      <td>207</td>\n",
              "    </tr>\n",
              "  </tbody>\n",
              "</table>\n",
              "<p>71 rows × 2 columns</p>\n",
              "</div>\n",
              "      <button class=\"colab-df-convert\" onclick=\"convertToInteractive('df-9f5f1a6c-11ad-40f0-9b79-20572be099d4')\"\n",
              "              title=\"Convert this dataframe to an interactive table.\"\n",
              "              style=\"display:none;\">\n",
              "        \n",
              "  <svg xmlns=\"http://www.w3.org/2000/svg\" height=\"24px\"viewBox=\"0 0 24 24\"\n",
              "       width=\"24px\">\n",
              "    <path d=\"M0 0h24v24H0V0z\" fill=\"none\"/>\n",
              "    <path d=\"M18.56 5.44l.94 2.06.94-2.06 2.06-.94-2.06-.94-.94-2.06-.94 2.06-2.06.94zm-11 1L8.5 8.5l.94-2.06 2.06-.94-2.06-.94L8.5 2.5l-.94 2.06-2.06.94zm10 10l.94 2.06.94-2.06 2.06-.94-2.06-.94-.94-2.06-.94 2.06-2.06.94z\"/><path d=\"M17.41 7.96l-1.37-1.37c-.4-.4-.92-.59-1.43-.59-.52 0-1.04.2-1.43.59L10.3 9.45l-7.72 7.72c-.78.78-.78 2.05 0 2.83L4 21.41c.39.39.9.59 1.41.59.51 0 1.02-.2 1.41-.59l7.78-7.78 2.81-2.81c.8-.78.8-2.07 0-2.86zM5.41 20L4 18.59l7.72-7.72 1.47 1.35L5.41 20z\"/>\n",
              "  </svg>\n",
              "      </button>\n",
              "      \n",
              "  <style>\n",
              "    .colab-df-container {\n",
              "      display:flex;\n",
              "      flex-wrap:wrap;\n",
              "      gap: 12px;\n",
              "    }\n",
              "\n",
              "    .colab-df-convert {\n",
              "      background-color: #E8F0FE;\n",
              "      border: none;\n",
              "      border-radius: 50%;\n",
              "      cursor: pointer;\n",
              "      display: none;\n",
              "      fill: #1967D2;\n",
              "      height: 32px;\n",
              "      padding: 0 0 0 0;\n",
              "      width: 32px;\n",
              "    }\n",
              "\n",
              "    .colab-df-convert:hover {\n",
              "      background-color: #E2EBFA;\n",
              "      box-shadow: 0px 1px 2px rgba(60, 64, 67, 0.3), 0px 1px 3px 1px rgba(60, 64, 67, 0.15);\n",
              "      fill: #174EA6;\n",
              "    }\n",
              "\n",
              "    [theme=dark] .colab-df-convert {\n",
              "      background-color: #3B4455;\n",
              "      fill: #D2E3FC;\n",
              "    }\n",
              "\n",
              "    [theme=dark] .colab-df-convert:hover {\n",
              "      background-color: #434B5C;\n",
              "      box-shadow: 0px 1px 3px 1px rgba(0, 0, 0, 0.15);\n",
              "      filter: drop-shadow(0px 1px 2px rgba(0, 0, 0, 0.3));\n",
              "      fill: #FFFFFF;\n",
              "    }\n",
              "  </style>\n",
              "\n",
              "      <script>\n",
              "        const buttonEl =\n",
              "          document.querySelector('#df-9f5f1a6c-11ad-40f0-9b79-20572be099d4 button.colab-df-convert');\n",
              "        buttonEl.style.display =\n",
              "          google.colab.kernel.accessAllowed ? 'block' : 'none';\n",
              "\n",
              "        async function convertToInteractive(key) {\n",
              "          const element = document.querySelector('#df-9f5f1a6c-11ad-40f0-9b79-20572be099d4');\n",
              "          const dataTable =\n",
              "            await google.colab.kernel.invokeFunction('convertToInteractive',\n",
              "                                                     [key], {});\n",
              "          if (!dataTable) return;\n",
              "\n",
              "          const docLinkHtml = 'Like what you see? Visit the ' +\n",
              "            '<a target=\"_blank\" href=https://colab.research.google.com/notebooks/data_table.ipynb>data table notebook</a>'\n",
              "            + ' to learn more about interactive tables.';\n",
              "          element.innerHTML = '';\n",
              "          dataTable['output_type'] = 'display_data';\n",
              "          await google.colab.output.renderOutput(dataTable, element);\n",
              "          const docLink = document.createElement('div');\n",
              "          docLink.innerHTML = docLinkHtml;\n",
              "          element.appendChild(docLink);\n",
              "        }\n",
              "      </script>\n",
              "    </div>\n",
              "  </div>\n",
              "  "
            ]
          },
          "metadata": {},
          "execution_count": 59
        }
      ]
    }
  ],
  "metadata": {
    "colab": {
      "name": "Research",
      "provenance": [],
      "collapsed_sections": []
    },
    "kernelspec": {
      "display_name": "Python 3",
      "name": "python3"
    },
    "language_info": {
      "name": "python"
    }
  },
  "nbformat": 4,
  "nbformat_minor": 0
}